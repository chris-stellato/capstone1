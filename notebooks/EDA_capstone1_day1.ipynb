{
 "cells": [
  {
   "cell_type": "code",
   "execution_count": 187,
   "id": "natural-program",
   "metadata": {},
   "outputs": [],
   "source": [
    "from pyspark.sql.functions import *"
   ]
  },
  {
   "cell_type": "code",
   "execution_count": 188,
   "id": "supported-bristol",
   "metadata": {},
   "outputs": [],
   "source": [
    "import pyspark as ps\n"
   ]
  },
  {
   "cell_type": "code",
   "execution_count": 189,
   "id": "incorporate-stock",
   "metadata": {},
   "outputs": [],
   "source": [
    "import re"
   ]
  },
  {
   "cell_type": "code",
   "execution_count": 190,
   "id": "wooden-agreement",
   "metadata": {},
   "outputs": [],
   "source": [
    "spark = ps.sql.SparkSession.builder \\\n",
    "            .master(\"local[4]\") \\\n",
    "            .appName(\"df capstone\") \\\n",
    "            .getOrCreate()\n",
    "\n",
    "dframe = spark.read.json('./data/mpd.slice.0-999.json', multiLine=True)"
   ]
  },
  {
   "cell_type": "code",
   "execution_count": 191,
   "id": "established-opera",
   "metadata": {},
   "outputs": [],
   "source": [
    "sc = spark.sparkContext"
   ]
  },
  {
   "cell_type": "code",
   "execution_count": 192,
   "id": "boxed-particle",
   "metadata": {
    "scrolled": true
   },
   "outputs": [
    {
     "name": "stdout",
     "output_type": "stream",
     "text": [
      "root\n",
      " |-- info: struct (nullable = true)\n",
      " |    |-- generated_on: string (nullable = true)\n",
      " |    |-- slice: string (nullable = true)\n",
      " |    |-- version: string (nullable = true)\n",
      " |-- playlists: array (nullable = true)\n",
      " |    |-- element: struct (containsNull = true)\n",
      " |    |    |-- collaborative: string (nullable = true)\n",
      " |    |    |-- description: string (nullable = true)\n",
      " |    |    |-- duration_ms: long (nullable = true)\n",
      " |    |    |-- modified_at: long (nullable = true)\n",
      " |    |    |-- name: string (nullable = true)\n",
      " |    |    |-- num_albums: long (nullable = true)\n",
      " |    |    |-- num_artists: long (nullable = true)\n",
      " |    |    |-- num_edits: long (nullable = true)\n",
      " |    |    |-- num_followers: long (nullable = true)\n",
      " |    |    |-- num_tracks: long (nullable = true)\n",
      " |    |    |-- pid: long (nullable = true)\n",
      " |    |    |-- tracks: array (nullable = true)\n",
      " |    |    |    |-- element: struct (containsNull = true)\n",
      " |    |    |    |    |-- album_name: string (nullable = true)\n",
      " |    |    |    |    |-- album_uri: string (nullable = true)\n",
      " |    |    |    |    |-- artist_name: string (nullable = true)\n",
      " |    |    |    |    |-- artist_uri: string (nullable = true)\n",
      " |    |    |    |    |-- duration_ms: long (nullable = true)\n",
      " |    |    |    |    |-- pos: long (nullable = true)\n",
      " |    |    |    |    |-- track_name: string (nullable = true)\n",
      " |    |    |    |    |-- track_uri: string (nullable = true)\n",
      "\n"
     ]
    }
   ],
   "source": [
    "dframe.printSchema()\n"
   ]
  },
  {
   "cell_type": "code",
   "execution_count": 193,
   "id": "sharp-surveillance",
   "metadata": {},
   "outputs": [
    {
     "data": {
      "text/plain": [
       "pyspark.sql.dataframe.DataFrame"
      ]
     },
     "execution_count": 193,
     "metadata": {},
     "output_type": "execute_result"
    }
   ],
   "source": [
    "type(dframe)"
   ]
  },
  {
   "cell_type": "code",
   "execution_count": 194,
   "id": "informed-deficit",
   "metadata": {},
   "outputs": [],
   "source": [
    "#dframe.select('playlists.name', explode('playlists.pid')).show(5, truncate=80)"
   ]
  },
  {
   "cell_type": "code",
   "execution_count": 195,
   "id": "freelance-robertson",
   "metadata": {},
   "outputs": [],
   "source": [
    "#filtered = dframe.select(get_json_object(str(dframe['playlists']), '$.name').alias('name)'))"
   ]
  },
  {
   "cell_type": "code",
   "execution_count": 196,
   "id": "comparable-policy",
   "metadata": {},
   "outputs": [
    {
     "name": "stdout",
     "output_type": "stream",
     "text": [
      "+--------------------+--------------------+\n",
      "|                info|           playlists|\n",
      "+--------------------+--------------------+\n",
      "|[2017-12-03 08:41...|[[false,, 1153241...|\n",
      "+--------------------+--------------------+\n",
      "\n"
     ]
    }
   ],
   "source": [
    "dframe.show()"
   ]
  },
  {
   "cell_type": "code",
   "execution_count": 197,
   "id": "frozen-anime",
   "metadata": {},
   "outputs": [],
   "source": [
    "dframe.createOrReplaceTempView('play_frame')"
   ]
  },
  {
   "cell_type": "code",
   "execution_count": 198,
   "id": "accompanied-chuck",
   "metadata": {},
   "outputs": [],
   "source": [
    "preview = spark.sql('''\n",
    "                    SELECT playlists\n",
    "                    FROM play_frame\n",
    "''')"
   ]
  },
  {
   "cell_type": "code",
   "execution_count": 199,
   "id": "mounted-hypothetical",
   "metadata": {},
   "outputs": [
    {
     "name": "stdout",
     "output_type": "stream",
     "text": [
      "+--------------------+\n",
      "|           playlists|\n",
      "+--------------------+\n",
      "|[[false,, 1153241...|\n",
      "+--------------------+\n",
      "\n"
     ]
    }
   ],
   "source": [
    "preview.show()"
   ]
  },
  {
   "cell_type": "code",
   "execution_count": 200,
   "id": "assisted-chemical",
   "metadata": {},
   "outputs": [
    {
     "data": {
      "text/plain": [
       "pyspark.sql.dataframe.DataFrame"
      ]
     },
     "execution_count": 200,
     "metadata": {},
     "output_type": "execute_result"
    }
   ],
   "source": [
    "type(preview)"
   ]
  },
  {
   "cell_type": "code",
   "execution_count": 201,
   "id": "entire-swift",
   "metadata": {},
   "outputs": [
    {
     "data": {
      "text/html": [
       "<div>\n",
       "<style scoped>\n",
       "    .dataframe tbody tr th:only-of-type {\n",
       "        vertical-align: middle;\n",
       "    }\n",
       "\n",
       "    .dataframe tbody tr th {\n",
       "        vertical-align: top;\n",
       "    }\n",
       "\n",
       "    .dataframe thead th {\n",
       "        text-align: right;\n",
       "    }\n",
       "</style>\n",
       "<table border=\"1\" class=\"dataframe\">\n",
       "  <thead>\n",
       "    <tr style=\"text-align: right;\">\n",
       "      <th></th>\n",
       "      <th>playlists</th>\n",
       "    </tr>\n",
       "  </thead>\n",
       "  <tbody>\n",
       "    <tr>\n",
       "      <th>0</th>\n",
       "      <td>[(false, None, 11532414, 1493424000, Throwback...</td>\n",
       "    </tr>\n",
       "  </tbody>\n",
       "</table>\n",
       "</div>"
      ],
      "text/plain": [
       "                                           playlists\n",
       "0  [(false, None, 11532414, 1493424000, Throwback..."
      ]
     },
     "execution_count": 201,
     "metadata": {},
     "output_type": "execute_result"
    }
   ],
   "source": [
    "preview.toPandas()"
   ]
  },
  {
   "cell_type": "code",
   "execution_count": 202,
   "id": "european-radical",
   "metadata": {},
   "outputs": [],
   "source": [
    "playlist = dframe.head()[1]"
   ]
  },
  {
   "cell_type": "code",
   "execution_count": 204,
   "id": "defensive-combination",
   "metadata": {
    "scrolled": true
   },
   "outputs": [
    {
     "data": {
      "text/plain": [
       "(list, 1000)"
      ]
     },
     "execution_count": 204,
     "metadata": {},
     "output_type": "execute_result"
    }
   ],
   "source": [
    "type(playlist), len(playlist)"
   ]
  },
  {
   "cell_type": "code",
   "execution_count": 205,
   "id": "middle-integer",
   "metadata": {},
   "outputs": [
    {
     "data": {
      "text/plain": [
       "12"
      ]
     },
     "execution_count": 205,
     "metadata": {},
     "output_type": "execute_result"
    }
   ],
   "source": [
    "len(playlist[0])"
   ]
  },
  {
   "cell_type": "code",
   "execution_count": 206,
   "id": "comic-camel",
   "metadata": {},
   "outputs": [],
   "source": [
    "single_playlist = playlist[0]"
   ]
  },
  {
   "cell_type": "code",
   "execution_count": 207,
   "id": "broken-structure",
   "metadata": {},
   "outputs": [],
   "source": [
    "testdict = dict()"
   ]
  },
  {
   "cell_type": "code",
   "execution_count": 208,
   "id": "blind-glenn",
   "metadata": {
    "scrolled": true
   },
   "outputs": [
    {
     "name": "stdout",
     "output_type": "stream",
     "text": [
      "<class 'str'> false \n",
      "\n",
      "<class 'NoneType'> None \n",
      "\n",
      "<class 'int'> 11532414 \n",
      "\n",
      "<class 'int'> 1493424000 \n",
      "\n",
      "<class 'str'> Throwbacks \n",
      "\n",
      "<class 'int'> 47 \n",
      "\n",
      "<class 'int'> 37 \n",
      "\n",
      "<class 'int'> 6 \n",
      "\n",
      "<class 'int'> 1 \n",
      "\n",
      "<class 'int'> 52 \n",
      "\n",
      "<class 'int'> 0 \n",
      "\n",
      "<class 'list'> [Row(album_name='The Cookbook', album_uri='spotify:album:6vV5UrXcfyQD1wu4Qo2I9K', artist_name='Missy Elliott', artist_uri='spotify:artist:2wIVse2owClT7go1WT98tk', duration_ms=226863, pos=0, track_name='Lose Control (feat. Ciara & Fat Man Scoop)', track_uri='spotify:track:0UaMYEvWZi0ZqiDOoHU3YI'), Row(album_name='In The Zone', album_uri='spotify:album:0z7pVBGOD7HCIB7S8eLkLI', artist_name='Britney Spears', artist_uri='spotify:artist:26dSoYclwsYLMAKD3tpOr4', duration_ms=198800, pos=1, track_name='Toxic', track_uri='spotify:track:6I9VzXrHxO9rA9A5euc8Ak'), Row(album_name='Dangerously In Love (Alben für die Ewigkeit)', album_uri='spotify:album:25hVFAxTlDvXbx2X2QkUkE', artist_name='Beyoncé', artist_uri='spotify:artist:6vWDO969PvNqNYHIOW5v0m', duration_ms=235933, pos=2, track_name='Crazy In Love', track_uri='spotify:track:0WqIKmW4BTrj3eJFmnCKMv'), Row(album_name='Justified', album_uri='spotify:album:6QPkyl04rXwTGlGlcYaRoW', artist_name='Justin Timberlake', artist_uri='spotify:artist:31TPClRtHm23RisEBtV3X7', duration_ms=267266, pos=3, track_name='Rock Your Body', track_uri='spotify:track:1AWQoqb9bSvzTjaLralEkT'), Row(album_name='Hot Shot', album_uri='spotify:album:6NmFmPX56pcLBOFMhIiKvF', artist_name='Shaggy', artist_uri='spotify:artist:5EvFsr3kj42KNv97ZEnqij', duration_ms=227600, pos=4, track_name=\"It Wasn't Me\", track_uri='spotify:track:1lzr43nnXAijIGYnCT8M8H'), Row(album_name='Confessions', album_uri='spotify:album:0vO0b1AvY49CPQyVisJLj0', artist_name='Usher', artist_uri='spotify:artist:23zg3TcAtWQy7J6upgbUnj', duration_ms=250373, pos=5, track_name='Yeah!', track_uri='spotify:track:0XUfyU2QviPAs6bxSpXYG4'), Row(album_name='Confessions', album_uri='spotify:album:1RM6MGv6bcl6NrAG8PGoZk', artist_name='Usher', artist_uri='spotify:artist:23zg3TcAtWQy7J6upgbUnj', duration_ms=223440, pos=6, track_name='My Boo', track_uri='spotify:track:68vgtRHr7iZHpzGpon6Jlo'), Row(album_name='PCD', album_uri='spotify:album:5x8e8UcCeOgrOzSnDGuPye', artist_name='The Pussycat Dolls', artist_uri='spotify:artist:6wPhSqRtPu1UhRCDX5yaDJ', duration_ms=225560, pos=7, track_name='Buttons', track_uri='spotify:track:3BxWKCI06eQ5Od8TY2JBeA'), Row(album_name=\"The Writing's On The Wall\", album_uri='spotify:album:283NWqNsCA9GwVHrJk59CG', artist_name=\"Destiny's Child\", artist_uri='spotify:artist:1Y8cdNmUJH7yBTd9yOvr5i', duration_ms=271333, pos=8, track_name='Say My Name', track_uri='spotify:track:7H6ev70Weq6DdpZyyTmUXk'), Row(album_name='Speakerboxxx/The Love Below', album_uri='spotify:album:1UsmQ3bpJTyK6ygoOOjG1r', artist_name='OutKast', artist_uri='spotify:artist:1G9G7WwrXka3Z1r7aIDjI7', duration_ms=235213, pos=9, track_name='Hey Ya! - Radio Mix / Club Mix', track_uri='spotify:track:2PpruBYCo4H7WOBJ7Q2EwM'), Row(album_name='Loose', album_uri='spotify:album:2yboV2QBcVGEhcRlYuPpDT', artist_name='Nelly Furtado', artist_uri='spotify:artist:2jw70GZXlAI8QzWeY2bgRc', duration_ms=242293, pos=10, track_name='Promiscuous', track_uri='spotify:track:2gam98EZKrF9XuOkU13ApN'), Row(album_name='Right Where You Want Me', album_uri='spotify:album:6022khQj4Fsvvse8f3A4lF', artist_name='Jesse McCartney', artist_uri='spotify:artist:2Hjj68yyUPiC0HKEOigcEp', duration_ms=211693, pos=11, track_name='Right Where You Want Me - Radio Edit Version', track_uri='spotify:track:4Y45aqo9QMa57rDsAJv40A'), Row(album_name='Beautiful Soul', album_uri='spotify:album:2gidE8vgVOkYufANjuvj3S', artist_name='Jesse McCartney', artist_uri='spotify:artist:2Hjj68yyUPiC0HKEOigcEp', duration_ms=214226, pos=12, track_name='Beautiful Soul', track_uri='spotify:track:1HwpWwa6bnqqRhK8agG4RS'), Row(album_name='Departure - Recharged', album_uri='spotify:album:2tDCfKFy2YW9N0IwNSRdOJ', artist_name='Jesse McCartney', artist_uri='spotify:artist:2Hjj68yyUPiC0HKEOigcEp', duration_ms=216880, pos=13, track_name=\"Leavin'\", track_uri='spotify:track:20ORwCJusz4KS2PbTPVNKo'), Row(album_name='Cassie', album_uri='spotify:album:0j1qzjaJmsF1FkcICf3hRu', artist_name='Cassie', artist_uri='spotify:artist:27FGXRNruFoOdf1vP8dqcH', duration_ms=192213, pos=14, track_name='Me & U', track_uri='spotify:track:7k6IzwMGpxnRghE7YosnXT'), Row(album_name='21', album_uri='spotify:album:4cVVEOXyUaWo7vlDWIkKsI', artist_name='Omarion', artist_uri='spotify:artist:0f5nVCcR06GX8Qikz0COtT', duration_ms=256426, pos=15, track_name='Ice Box', track_uri='spotify:track:1Bv0Yl01xBDZD4OQP93fyl'), Row(album_name='Let Go', album_uri='spotify:album:7h6XeTzy0SRXDrFJeA9gO7', artist_name='Avril Lavigne', artist_uri='spotify:artist:0p4nmQO2msCgU4IF37Wi3j', duration_ms=204000, pos=16, track_name='Sk8er Boi', track_uri='spotify:track:4omisSlTk6Dsq2iQD7MA07'), Row(album_name='Chris Brown', album_uri='spotify:album:49gaz5rhWWgqCw61M9700v', artist_name='Chris Brown', artist_uri='spotify:artist:7bXgB6jMjp9ATFy66eO08Z', duration_ms=229866, pos=17, track_name='Run It!', track_uri='spotify:track:7xYnUQigPoIDAMPVK79NEq'), Row(album_name=\"B'Day\", album_uri='spotify:album:3MJHoQUI828kmB6IpjejbW', artist_name='Beyoncé', artist_uri='spotify:artist:6vWDO969PvNqNYHIOW5v0m', duration_ms=210453, pos=18, track_name='Check On It - feat. Bun B and Slim Thug', track_uri='spotify:track:6d8A5sAx9TfdeseDvfWNHd'), Row(album_name=\"The Writing's On The Wall\", album_uri='spotify:album:283NWqNsCA9GwVHrJk59CG', artist_name=\"Destiny's Child\", artist_uri='spotify:artist:1Y8cdNmUJH7yBTd9yOvr5i', duration_ms=230200, pos=19, track_name=\"Jumpin', Jumpin'\", track_uri='spotify:track:4pmc2AxSEq6g7hPVlJCPyP'), Row(album_name=\"C'Mon C'Mon\", album_uri='spotify:album:5NYcTXrRZHxNyRKVOd0vs1', artist_name='Sheryl Crow', artist_uri='spotify:artist:4TKTii6gnOnUXQHyuo9JaD', duration_ms=292306, pos=20, track_name='Soak Up The Sun', track_uri='spotify:track:215JYyyUnrJ98NK3KEwu6d'), Row(album_name='Elephunk', album_uri='spotify:album:1bNyYpkDRovmErm4QeDrpJ', artist_name='The Black Eyed Peas', artist_uri='spotify:artist:1yxSLGMDHlW21z4YXirZDS', duration_ms=272533, pos=21, track_name='Where Is The Love?', track_uri='spotify:track:0uqPG793dkDDN7sCUJJIVC'), Row(album_name=\"I've Never Done Anything Like This\", album_uri='spotify:album:3Q7xpHmP8k3HryE0LQdIk0', artist_name='Bowling For Soup', artist_uri='spotify:artist:5ND0mGcL9SKSjWIjPd0xIb', duration_ms=193042, pos=22, track_name=\"Stacy's Mom\", track_uri='spotify:track:19Js5ypV6JKn4DMExHQbGc'), Row(album_name='Greetings From Imrie House', album_uri='spotify:album:7gZilZGYr8M7UwEeYvdAKZ', artist_name='The Click Five', artist_uri='spotify:artist:01lz5VBfkMFDteSA9pKJuP', duration_ms=234146, pos=23, track_name='Just The Girl', track_uri='spotify:track:1JURww012QnWAw0zZXi6Aa'), Row(album_name='Chris Brown', album_uri='spotify:album:49gaz5rhWWgqCw61M9700v', artist_name='Chris Brown', artist_uri='spotify:artist:7bXgB6jMjp9ATFy66eO08Z', duration_ms=229040, pos=24, track_name='Yo (Excuse Me Miss)', track_uri='spotify:track:7DFnq8FYhHMCylykf6ZCxA'), Row(album_name='Jonas Brothers', album_uri='spotify:album:20RAjvZ9LX2FDuDU8RDuIl', artist_name='Jonas Brothers', artist_uri='spotify:artist:7gOdHgIoIKoe4i9Tta6qdD', duration_ms=201960, pos=25, track_name='Year 3000', track_uri='spotify:track:1TfAhjzRBWzYZ8IdUV3igl'), Row(album_name='Lip Gloss', album_uri='spotify:album:3vgVsm9GY3i39fZ7b1sqV5', artist_name='Lil Mama', artist_uri='spotify:artist:5qK5bOC6wLtuLhG5KvU17c', duration_ms=219773, pos=26, track_name='Lip Gloss', track_uri='spotify:track:1Y4ZdPOOgCUhBcKZOrUFiS'), Row(album_name='Everytime We Touch', album_uri='spotify:album:5DvuKZTzEKjm0oUuhP237C', artist_name='Cascada', artist_uri='spotify:artist:0N0d3kjwdY2h7UVuTdJGfp', duration_ms=199120, pos=27, track_name='Everytime We Touch - Radio Edit', track_uri='spotify:track:6MjljecHzHelUDismyKkba'), Row(album_name='Jason Derulo', album_uri='spotify:album:0aVJmVAeEx78nAA1rAKYf7', artist_name='Jason Derulo', artist_uri='spotify:artist:07YZf4WDAMNwqr4jfgOZ8y', duration_ms=221253, pos=28, track_name='Whatcha Say', track_uri='spotify:track:67T6l4q3zVjC5nZZPXByU8'), Row(album_name='Year Of The Gentleman', album_uri='spotify:album:6dTn9vJSxVTIGm4Cu5dH4x', artist_name='Ne-Yo', artist_uri='spotify:artist:21E3waRsmPlU7jZsS13rcj', duration_ms=232000, pos=29, track_name='Miss Independent', track_uri='spotify:track:34ceTg8ChN5HjrqiIYCn9Q'), Row(album_name='The Time Of Our Lives', album_uri='spotify:album:64aKkqxc3Ur2LYIKeS5osS', artist_name='Miley Cyrus', artist_uri='spotify:artist:5YGY8feqx7naU7z4HrwZM6', duration_ms=202066, pos=30, track_name='Party In The U.S.A.', track_uri='spotify:track:5Q0Nhxo0l2bP3pNjpGJwV1'), Row(album_name='Boys Like Girls', album_uri='spotify:album:4WqgusSAgXkrjbXzqdBY68', artist_name='Boys Like Girls', artist_uri='spotify:artist:0vWCyXMrrvMlCcepuOJaGI', duration_ms=206520, pos=31, track_name='The Great Escape', track_uri='spotify:track:6GIrIt2M39wEGwjCQjGChX'), Row(album_name='Replay', album_uri='spotify:album:44hyrGuZKAvITbmrlhryf8', artist_name='Iyaz', artist_uri='spotify:artist:5tKXB9uuebKE34yowVaU3C', duration_ms=182306, pos=32, track_name='Replay', track_uri='spotify:track:4E5P1XyAFtrjpiIxkydly4'), Row(album_name='Exclusive - The Forever Edition', album_uri='spotify:album:1UtE4zAlSE2TlKmTFgrTg5', artist_name='Chris Brown', artist_uri='spotify:artist:7bXgB6jMjp9ATFy66eO08Z', duration_ms=277106, pos=33, track_name='Forever', track_uri='spotify:track:3H1LCvO3fVsK2HPguhbml0'), Row(album_name='Animal', album_uri='spotify:album:5peRwC6pQh8eaoIPtvmmOB', artist_name='Kesha', artist_uri='spotify:artist:6LqNN22kT3074XbTVUrhzX', duration_ms=187133, pos=34, track_name='Your Love Is My Drug', track_uri='spotify:track:3uoQULcUWfnt6nc6J7Vgai'), Row(album_name='Year Of The Gentleman', album_uri='spotify:album:1nv3KEXZPmcwOXMoLTs1vn', artist_name='Ne-Yo', artist_uri='spotify:artist:21E3waRsmPlU7jZsS13rcj', duration_ms=234360, pos=35, track_name='Closer', track_uri='spotify:track:2nbClS09zsIAqNkshg6jnp'), Row(album_name='My World', album_uri='spotify:album:1rG5TDs3jYh6OU753I54CI', artist_name='Justin Bieber', artist_uri='spotify:artist:1uNFoZAHBGtllmzznpCI3s', duration_ms=229106, pos=36, track_name='One Less Lonely Girl', track_uri='spotify:track:69ghzc538EQSVon2Gm3wrr'), Row(album_name='Kala', album_uri='spotify:album:1Lymt1abGCr3J06bbnmWca', artist_name='M.I.A.', artist_uri='spotify:artist:0QJIPDAEDILuo8AIq3pMuU', duration_ms=203760, pos=37, track_name='Paper Planes', track_uri='spotify:track:1kusepF3AacIEtUTYrw4GV'), Row(album_name='Hot Fuss', album_uri='spotify:album:4undIeGmofnAYKhnDclN1w', artist_name='The Killers', artist_uri='spotify:artist:0C0XlULifJtAgn6ZNCW2eu', duration_ms=222586, pos=38, track_name='Mr. Brightside', track_uri='spotify:track:7oK9VyNzrYvRFo7nQEYkWN'), Row(album_name='Enema Of The State', album_uri='spotify:album:1fF8kYX49s5Ufv4XEY5sjW', artist_name='blink-182', artist_uri='spotify:artist:6FBDaR13swtiWwGhX1WQsP', duration_ms=168000, pos=39, track_name='All The Small Things', track_uri='spotify:track:12qZHAeOyTf93YAWvGDTat'), Row(album_name='PCD', album_uri='spotify:album:0ylxpXE00fVxh6d60tevT8', artist_name='The Pussycat Dolls', artist_uri='spotify:artist:6wPhSqRtPu1UhRCDX5yaDJ', duration_ms=229360, pos=40, track_name='Beep', track_uri='spotify:track:2jFlMILIQzs7lSFudG9lbo'), Row(album_name='My Worlds', album_uri='spotify:album:6gdLfnf2vdNlMTyhJHaDLs', artist_name='Justin Bieber', artist_uri='spotify:artist:1uNFoZAHBGtllmzznpCI3s', duration_ms=220920, pos=41, track_name='Somebody To Love', track_uri='spotify:track:4I2GqMe7L2ccMpUbnDzYLH'), Row(album_name='Move Along', album_uri='spotify:album:3PWEGZ6CYvXRnr0JCECsDe', artist_name='The All-American Rejects', artist_uri='spotify:artist:3vAaWhdBR38Q02ohXqaNHT', duration_ms=193653, pos=42, track_name='Dirty Little Secret', track_uri='spotify:track:5lDriBxJd22IhOH9zTcFrV'), Row(album_name='My Worlds', album_uri='spotify:album:6gdLfnf2vdNlMTyhJHaDLs', artist_name='Justin Bieber', artist_uri='spotify:artist:1uNFoZAHBGtllmzznpCI3s', duration_ms=213973, pos=43, track_name='Baby', track_uri='spotify:track:2eJ8ij1T3cNUKiGdcUvKhy'), Row(album_name='Be Not Nobody', album_uri='spotify:album:7D6BFTArx2ajtkKRVXIKO2', artist_name='Vanessa Carlton', artist_uri='spotify:artist:5ILrArfIV0tMURcHJN8Q07', duration_ms=237493, pos=44, track_name='A Thousand Miles', track_uri='spotify:track:5y69gQtK33qxb8a24ACkCy'), Row(album_name='Red Road', album_uri='spotify:album:2kNznk4KDkYXifzOAUDoXN', artist_name='Cris Cab', artist_uri='spotify:artist:7vWBZm3sQ8yQvfV4nXxHXK', duration_ms=201230, pos=45, track_name='Livin on Sunday', track_uri='spotify:track:1X5WGCrUMuwRFuYU1eAo2I'), Row(album_name='See You Again', album_uri='spotify:album:6SkirMQoL4QhnXOM5MH5El', artist_name='Miley Cyrus', artist_uri='spotify:artist:5YGY8feqx7naU7z4HrwZM6', duration_ms=190453, pos=46, track_name='See You Again', track_uri='spotify:track:3utIAb67sOu0QHxBE88P1M'), Row(album_name='Departure - Recharged', album_uri='spotify:album:2tDCfKFy2YW9N0IwNSRdOJ', artist_name='Jesse McCartney', artist_uri='spotify:artist:2Hjj68yyUPiC0HKEOigcEp', duration_ms=208333, pos=47, track_name='How Do You Sleep? - Featuring Ludacris', track_uri='spotify:track:3jkdQNkDTxxXtjSO4l0o1H'), Row(album_name='Camp Rock Original Soundtrack', album_uri='spotify:album:6vykWEBzBfEKYJxEFR1AQl', artist_name='Demi Lovato', artist_uri='spotify:artist:6S2OmqARrzebs0tKUEyXyp', duration_ms=189186, pos=48, track_name='This Is Me', track_uri='spotify:track:5c1sfI6wIQEsSUw0xrkFdl'), Row(album_name='Under My Skin', album_uri='spotify:album:7851Vsjv3apS52sXUik6iF', artist_name='Avril Lavigne', artist_uri='spotify:artist:0p4nmQO2msCgU4IF37Wi3j', duration_ms=242413, pos=49, track_name='My Happy Ending', track_uri='spotify:track:6sqNctd7MlJoKDOxPVCAvU'), Row(album_name='We The Kings', album_uri='spotify:album:2F1hfUOuMnOxtSfrktL8VX', artist_name='We The Kings', artist_uri='spotify:artist:3ao3jf5d70Tf4fPh2bnXVl', duration_ms=220133, pos=50, track_name='Check Yes Juliet', track_uri='spotify:track:1b7vg5T9YKR3NNqXfBYRF7'), Row(album_name='Boys Like Girls', album_uri='spotify:album:4WqgusSAgXkrjbXzqdBY68', artist_name='Boys Like Girls', artist_uri='spotify:artist:0vWCyXMrrvMlCcepuOJaGI', duration_ms=206520, pos=51, track_name='The Great Escape', track_uri='spotify:track:6GIrIt2M39wEGwjCQjGChX')] \n",
      "\n"
     ]
    }
   ],
   "source": [
    "for element in single_playlist: \n",
    "    print (type(element), element, '\\n')"
   ]
  },
  {
   "cell_type": "code",
   "execution_count": 209,
   "id": "turkish-adoption",
   "metadata": {},
   "outputs": [],
   "source": [
    "single_tracklist = single_entry[11]"
   ]
  },
  {
   "cell_type": "code",
   "execution_count": 210,
   "id": "thermal-symbol",
   "metadata": {},
   "outputs": [
    {
     "data": {
      "text/plain": [
       "52"
      ]
     },
     "execution_count": 210,
     "metadata": {},
     "output_type": "execute_result"
    }
   ],
   "source": [
    "len(single_tracklist)"
   ]
  },
  {
   "cell_type": "code",
   "execution_count": 211,
   "id": "neutral-twins",
   "metadata": {},
   "outputs": [
    {
     "data": {
      "text/plain": [
       "{'album_name': 'The Cookbook',\n",
       " 'album_uri': 'spotify:album:6vV5UrXcfyQD1wu4Qo2I9K',\n",
       " 'artist_name': 'Missy Elliott',\n",
       " 'artist_uri': 'spotify:artist:2wIVse2owClT7go1WT98tk',\n",
       " 'duration_ms': 226863,\n",
       " 'pos': 0,\n",
       " 'track_name': 'Lose Control (feat. Ciara & Fat Man Scoop)',\n",
       " 'track_uri': 'spotify:track:0UaMYEvWZi0ZqiDOoHU3YI'}"
      ]
     },
     "execution_count": 211,
     "metadata": {},
     "output_type": "execute_result"
    }
   ],
   "source": [
    "single_tracklist[0].asDict()"
   ]
  },
  {
   "cell_type": "code",
   "execution_count": 212,
   "id": "indirect-variation",
   "metadata": {},
   "outputs": [
    {
     "data": {
      "text/plain": [
       "pyspark.sql.types.Row"
      ]
     },
     "execution_count": 212,
     "metadata": {},
     "output_type": "execute_result"
    }
   ],
   "source": [
    "type(single_playlist)"
   ]
  },
  {
   "cell_type": "code",
   "execution_count": 213,
   "id": "fleet-moderator",
   "metadata": {
    "scrolled": true
   },
   "outputs": [
    {
     "data": {
      "text/plain": [
       "{'collaborative': 'false',\n",
       " 'description': None,\n",
       " 'duration_ms': 11532414,\n",
       " 'modified_at': 1493424000,\n",
       " 'name': 'Throwbacks',\n",
       " 'num_albums': 47,\n",
       " 'num_artists': 37,\n",
       " 'num_edits': 6,\n",
       " 'num_followers': 1,\n",
       " 'num_tracks': 52,\n",
       " 'pid': 0,\n",
       " 'tracks': [Row(album_name='The Cookbook', album_uri='spotify:album:6vV5UrXcfyQD1wu4Qo2I9K', artist_name='Missy Elliott', artist_uri='spotify:artist:2wIVse2owClT7go1WT98tk', duration_ms=226863, pos=0, track_name='Lose Control (feat. Ciara & Fat Man Scoop)', track_uri='spotify:track:0UaMYEvWZi0ZqiDOoHU3YI'),\n",
       "  Row(album_name='In The Zone', album_uri='spotify:album:0z7pVBGOD7HCIB7S8eLkLI', artist_name='Britney Spears', artist_uri='spotify:artist:26dSoYclwsYLMAKD3tpOr4', duration_ms=198800, pos=1, track_name='Toxic', track_uri='spotify:track:6I9VzXrHxO9rA9A5euc8Ak'),\n",
       "  Row(album_name='Dangerously In Love (Alben für die Ewigkeit)', album_uri='spotify:album:25hVFAxTlDvXbx2X2QkUkE', artist_name='Beyoncé', artist_uri='spotify:artist:6vWDO969PvNqNYHIOW5v0m', duration_ms=235933, pos=2, track_name='Crazy In Love', track_uri='spotify:track:0WqIKmW4BTrj3eJFmnCKMv'),\n",
       "  Row(album_name='Justified', album_uri='spotify:album:6QPkyl04rXwTGlGlcYaRoW', artist_name='Justin Timberlake', artist_uri='spotify:artist:31TPClRtHm23RisEBtV3X7', duration_ms=267266, pos=3, track_name='Rock Your Body', track_uri='spotify:track:1AWQoqb9bSvzTjaLralEkT'),\n",
       "  Row(album_name='Hot Shot', album_uri='spotify:album:6NmFmPX56pcLBOFMhIiKvF', artist_name='Shaggy', artist_uri='spotify:artist:5EvFsr3kj42KNv97ZEnqij', duration_ms=227600, pos=4, track_name=\"It Wasn't Me\", track_uri='spotify:track:1lzr43nnXAijIGYnCT8M8H'),\n",
       "  Row(album_name='Confessions', album_uri='spotify:album:0vO0b1AvY49CPQyVisJLj0', artist_name='Usher', artist_uri='spotify:artist:23zg3TcAtWQy7J6upgbUnj', duration_ms=250373, pos=5, track_name='Yeah!', track_uri='spotify:track:0XUfyU2QviPAs6bxSpXYG4'),\n",
       "  Row(album_name='Confessions', album_uri='spotify:album:1RM6MGv6bcl6NrAG8PGoZk', artist_name='Usher', artist_uri='spotify:artist:23zg3TcAtWQy7J6upgbUnj', duration_ms=223440, pos=6, track_name='My Boo', track_uri='spotify:track:68vgtRHr7iZHpzGpon6Jlo'),\n",
       "  Row(album_name='PCD', album_uri='spotify:album:5x8e8UcCeOgrOzSnDGuPye', artist_name='The Pussycat Dolls', artist_uri='spotify:artist:6wPhSqRtPu1UhRCDX5yaDJ', duration_ms=225560, pos=7, track_name='Buttons', track_uri='spotify:track:3BxWKCI06eQ5Od8TY2JBeA'),\n",
       "  Row(album_name=\"The Writing's On The Wall\", album_uri='spotify:album:283NWqNsCA9GwVHrJk59CG', artist_name=\"Destiny's Child\", artist_uri='spotify:artist:1Y8cdNmUJH7yBTd9yOvr5i', duration_ms=271333, pos=8, track_name='Say My Name', track_uri='spotify:track:7H6ev70Weq6DdpZyyTmUXk'),\n",
       "  Row(album_name='Speakerboxxx/The Love Below', album_uri='spotify:album:1UsmQ3bpJTyK6ygoOOjG1r', artist_name='OutKast', artist_uri='spotify:artist:1G9G7WwrXka3Z1r7aIDjI7', duration_ms=235213, pos=9, track_name='Hey Ya! - Radio Mix / Club Mix', track_uri='spotify:track:2PpruBYCo4H7WOBJ7Q2EwM'),\n",
       "  Row(album_name='Loose', album_uri='spotify:album:2yboV2QBcVGEhcRlYuPpDT', artist_name='Nelly Furtado', artist_uri='spotify:artist:2jw70GZXlAI8QzWeY2bgRc', duration_ms=242293, pos=10, track_name='Promiscuous', track_uri='spotify:track:2gam98EZKrF9XuOkU13ApN'),\n",
       "  Row(album_name='Right Where You Want Me', album_uri='spotify:album:6022khQj4Fsvvse8f3A4lF', artist_name='Jesse McCartney', artist_uri='spotify:artist:2Hjj68yyUPiC0HKEOigcEp', duration_ms=211693, pos=11, track_name='Right Where You Want Me - Radio Edit Version', track_uri='spotify:track:4Y45aqo9QMa57rDsAJv40A'),\n",
       "  Row(album_name='Beautiful Soul', album_uri='spotify:album:2gidE8vgVOkYufANjuvj3S', artist_name='Jesse McCartney', artist_uri='spotify:artist:2Hjj68yyUPiC0HKEOigcEp', duration_ms=214226, pos=12, track_name='Beautiful Soul', track_uri='spotify:track:1HwpWwa6bnqqRhK8agG4RS'),\n",
       "  Row(album_name='Departure - Recharged', album_uri='spotify:album:2tDCfKFy2YW9N0IwNSRdOJ', artist_name='Jesse McCartney', artist_uri='spotify:artist:2Hjj68yyUPiC0HKEOigcEp', duration_ms=216880, pos=13, track_name=\"Leavin'\", track_uri='spotify:track:20ORwCJusz4KS2PbTPVNKo'),\n",
       "  Row(album_name='Cassie', album_uri='spotify:album:0j1qzjaJmsF1FkcICf3hRu', artist_name='Cassie', artist_uri='spotify:artist:27FGXRNruFoOdf1vP8dqcH', duration_ms=192213, pos=14, track_name='Me & U', track_uri='spotify:track:7k6IzwMGpxnRghE7YosnXT'),\n",
       "  Row(album_name='21', album_uri='spotify:album:4cVVEOXyUaWo7vlDWIkKsI', artist_name='Omarion', artist_uri='spotify:artist:0f5nVCcR06GX8Qikz0COtT', duration_ms=256426, pos=15, track_name='Ice Box', track_uri='spotify:track:1Bv0Yl01xBDZD4OQP93fyl'),\n",
       "  Row(album_name='Let Go', album_uri='spotify:album:7h6XeTzy0SRXDrFJeA9gO7', artist_name='Avril Lavigne', artist_uri='spotify:artist:0p4nmQO2msCgU4IF37Wi3j', duration_ms=204000, pos=16, track_name='Sk8er Boi', track_uri='spotify:track:4omisSlTk6Dsq2iQD7MA07'),\n",
       "  Row(album_name='Chris Brown', album_uri='spotify:album:49gaz5rhWWgqCw61M9700v', artist_name='Chris Brown', artist_uri='spotify:artist:7bXgB6jMjp9ATFy66eO08Z', duration_ms=229866, pos=17, track_name='Run It!', track_uri='spotify:track:7xYnUQigPoIDAMPVK79NEq'),\n",
       "  Row(album_name=\"B'Day\", album_uri='spotify:album:3MJHoQUI828kmB6IpjejbW', artist_name='Beyoncé', artist_uri='spotify:artist:6vWDO969PvNqNYHIOW5v0m', duration_ms=210453, pos=18, track_name='Check On It - feat. Bun B and Slim Thug', track_uri='spotify:track:6d8A5sAx9TfdeseDvfWNHd'),\n",
       "  Row(album_name=\"The Writing's On The Wall\", album_uri='spotify:album:283NWqNsCA9GwVHrJk59CG', artist_name=\"Destiny's Child\", artist_uri='spotify:artist:1Y8cdNmUJH7yBTd9yOvr5i', duration_ms=230200, pos=19, track_name=\"Jumpin', Jumpin'\", track_uri='spotify:track:4pmc2AxSEq6g7hPVlJCPyP'),\n",
       "  Row(album_name=\"C'Mon C'Mon\", album_uri='spotify:album:5NYcTXrRZHxNyRKVOd0vs1', artist_name='Sheryl Crow', artist_uri='spotify:artist:4TKTii6gnOnUXQHyuo9JaD', duration_ms=292306, pos=20, track_name='Soak Up The Sun', track_uri='spotify:track:215JYyyUnrJ98NK3KEwu6d'),\n",
       "  Row(album_name='Elephunk', album_uri='spotify:album:1bNyYpkDRovmErm4QeDrpJ', artist_name='The Black Eyed Peas', artist_uri='spotify:artist:1yxSLGMDHlW21z4YXirZDS', duration_ms=272533, pos=21, track_name='Where Is The Love?', track_uri='spotify:track:0uqPG793dkDDN7sCUJJIVC'),\n",
       "  Row(album_name=\"I've Never Done Anything Like This\", album_uri='spotify:album:3Q7xpHmP8k3HryE0LQdIk0', artist_name='Bowling For Soup', artist_uri='spotify:artist:5ND0mGcL9SKSjWIjPd0xIb', duration_ms=193042, pos=22, track_name=\"Stacy's Mom\", track_uri='spotify:track:19Js5ypV6JKn4DMExHQbGc'),\n",
       "  Row(album_name='Greetings From Imrie House', album_uri='spotify:album:7gZilZGYr8M7UwEeYvdAKZ', artist_name='The Click Five', artist_uri='spotify:artist:01lz5VBfkMFDteSA9pKJuP', duration_ms=234146, pos=23, track_name='Just The Girl', track_uri='spotify:track:1JURww012QnWAw0zZXi6Aa'),\n",
       "  Row(album_name='Chris Brown', album_uri='spotify:album:49gaz5rhWWgqCw61M9700v', artist_name='Chris Brown', artist_uri='spotify:artist:7bXgB6jMjp9ATFy66eO08Z', duration_ms=229040, pos=24, track_name='Yo (Excuse Me Miss)', track_uri='spotify:track:7DFnq8FYhHMCylykf6ZCxA'),\n",
       "  Row(album_name='Jonas Brothers', album_uri='spotify:album:20RAjvZ9LX2FDuDU8RDuIl', artist_name='Jonas Brothers', artist_uri='spotify:artist:7gOdHgIoIKoe4i9Tta6qdD', duration_ms=201960, pos=25, track_name='Year 3000', track_uri='spotify:track:1TfAhjzRBWzYZ8IdUV3igl'),\n",
       "  Row(album_name='Lip Gloss', album_uri='spotify:album:3vgVsm9GY3i39fZ7b1sqV5', artist_name='Lil Mama', artist_uri='spotify:artist:5qK5bOC6wLtuLhG5KvU17c', duration_ms=219773, pos=26, track_name='Lip Gloss', track_uri='spotify:track:1Y4ZdPOOgCUhBcKZOrUFiS'),\n",
       "  Row(album_name='Everytime We Touch', album_uri='spotify:album:5DvuKZTzEKjm0oUuhP237C', artist_name='Cascada', artist_uri='spotify:artist:0N0d3kjwdY2h7UVuTdJGfp', duration_ms=199120, pos=27, track_name='Everytime We Touch - Radio Edit', track_uri='spotify:track:6MjljecHzHelUDismyKkba'),\n",
       "  Row(album_name='Jason Derulo', album_uri='spotify:album:0aVJmVAeEx78nAA1rAKYf7', artist_name='Jason Derulo', artist_uri='spotify:artist:07YZf4WDAMNwqr4jfgOZ8y', duration_ms=221253, pos=28, track_name='Whatcha Say', track_uri='spotify:track:67T6l4q3zVjC5nZZPXByU8'),\n",
       "  Row(album_name='Year Of The Gentleman', album_uri='spotify:album:6dTn9vJSxVTIGm4Cu5dH4x', artist_name='Ne-Yo', artist_uri='spotify:artist:21E3waRsmPlU7jZsS13rcj', duration_ms=232000, pos=29, track_name='Miss Independent', track_uri='spotify:track:34ceTg8ChN5HjrqiIYCn9Q'),\n",
       "  Row(album_name='The Time Of Our Lives', album_uri='spotify:album:64aKkqxc3Ur2LYIKeS5osS', artist_name='Miley Cyrus', artist_uri='spotify:artist:5YGY8feqx7naU7z4HrwZM6', duration_ms=202066, pos=30, track_name='Party In The U.S.A.', track_uri='spotify:track:5Q0Nhxo0l2bP3pNjpGJwV1'),\n",
       "  Row(album_name='Boys Like Girls', album_uri='spotify:album:4WqgusSAgXkrjbXzqdBY68', artist_name='Boys Like Girls', artist_uri='spotify:artist:0vWCyXMrrvMlCcepuOJaGI', duration_ms=206520, pos=31, track_name='The Great Escape', track_uri='spotify:track:6GIrIt2M39wEGwjCQjGChX'),\n",
       "  Row(album_name='Replay', album_uri='spotify:album:44hyrGuZKAvITbmrlhryf8', artist_name='Iyaz', artist_uri='spotify:artist:5tKXB9uuebKE34yowVaU3C', duration_ms=182306, pos=32, track_name='Replay', track_uri='spotify:track:4E5P1XyAFtrjpiIxkydly4'),\n",
       "  Row(album_name='Exclusive - The Forever Edition', album_uri='spotify:album:1UtE4zAlSE2TlKmTFgrTg5', artist_name='Chris Brown', artist_uri='spotify:artist:7bXgB6jMjp9ATFy66eO08Z', duration_ms=277106, pos=33, track_name='Forever', track_uri='spotify:track:3H1LCvO3fVsK2HPguhbml0'),\n",
       "  Row(album_name='Animal', album_uri='spotify:album:5peRwC6pQh8eaoIPtvmmOB', artist_name='Kesha', artist_uri='spotify:artist:6LqNN22kT3074XbTVUrhzX', duration_ms=187133, pos=34, track_name='Your Love Is My Drug', track_uri='spotify:track:3uoQULcUWfnt6nc6J7Vgai'),\n",
       "  Row(album_name='Year Of The Gentleman', album_uri='spotify:album:1nv3KEXZPmcwOXMoLTs1vn', artist_name='Ne-Yo', artist_uri='spotify:artist:21E3waRsmPlU7jZsS13rcj', duration_ms=234360, pos=35, track_name='Closer', track_uri='spotify:track:2nbClS09zsIAqNkshg6jnp'),\n",
       "  Row(album_name='My World', album_uri='spotify:album:1rG5TDs3jYh6OU753I54CI', artist_name='Justin Bieber', artist_uri='spotify:artist:1uNFoZAHBGtllmzznpCI3s', duration_ms=229106, pos=36, track_name='One Less Lonely Girl', track_uri='spotify:track:69ghzc538EQSVon2Gm3wrr'),\n",
       "  Row(album_name='Kala', album_uri='spotify:album:1Lymt1abGCr3J06bbnmWca', artist_name='M.I.A.', artist_uri='spotify:artist:0QJIPDAEDILuo8AIq3pMuU', duration_ms=203760, pos=37, track_name='Paper Planes', track_uri='spotify:track:1kusepF3AacIEtUTYrw4GV'),\n",
       "  Row(album_name='Hot Fuss', album_uri='spotify:album:4undIeGmofnAYKhnDclN1w', artist_name='The Killers', artist_uri='spotify:artist:0C0XlULifJtAgn6ZNCW2eu', duration_ms=222586, pos=38, track_name='Mr. Brightside', track_uri='spotify:track:7oK9VyNzrYvRFo7nQEYkWN'),\n",
       "  Row(album_name='Enema Of The State', album_uri='spotify:album:1fF8kYX49s5Ufv4XEY5sjW', artist_name='blink-182', artist_uri='spotify:artist:6FBDaR13swtiWwGhX1WQsP', duration_ms=168000, pos=39, track_name='All The Small Things', track_uri='spotify:track:12qZHAeOyTf93YAWvGDTat'),\n",
       "  Row(album_name='PCD', album_uri='spotify:album:0ylxpXE00fVxh6d60tevT8', artist_name='The Pussycat Dolls', artist_uri='spotify:artist:6wPhSqRtPu1UhRCDX5yaDJ', duration_ms=229360, pos=40, track_name='Beep', track_uri='spotify:track:2jFlMILIQzs7lSFudG9lbo'),\n",
       "  Row(album_name='My Worlds', album_uri='spotify:album:6gdLfnf2vdNlMTyhJHaDLs', artist_name='Justin Bieber', artist_uri='spotify:artist:1uNFoZAHBGtllmzznpCI3s', duration_ms=220920, pos=41, track_name='Somebody To Love', track_uri='spotify:track:4I2GqMe7L2ccMpUbnDzYLH'),\n",
       "  Row(album_name='Move Along', album_uri='spotify:album:3PWEGZ6CYvXRnr0JCECsDe', artist_name='The All-American Rejects', artist_uri='spotify:artist:3vAaWhdBR38Q02ohXqaNHT', duration_ms=193653, pos=42, track_name='Dirty Little Secret', track_uri='spotify:track:5lDriBxJd22IhOH9zTcFrV'),\n",
       "  Row(album_name='My Worlds', album_uri='spotify:album:6gdLfnf2vdNlMTyhJHaDLs', artist_name='Justin Bieber', artist_uri='spotify:artist:1uNFoZAHBGtllmzznpCI3s', duration_ms=213973, pos=43, track_name='Baby', track_uri='spotify:track:2eJ8ij1T3cNUKiGdcUvKhy'),\n",
       "  Row(album_name='Be Not Nobody', album_uri='spotify:album:7D6BFTArx2ajtkKRVXIKO2', artist_name='Vanessa Carlton', artist_uri='spotify:artist:5ILrArfIV0tMURcHJN8Q07', duration_ms=237493, pos=44, track_name='A Thousand Miles', track_uri='spotify:track:5y69gQtK33qxb8a24ACkCy'),\n",
       "  Row(album_name='Red Road', album_uri='spotify:album:2kNznk4KDkYXifzOAUDoXN', artist_name='Cris Cab', artist_uri='spotify:artist:7vWBZm3sQ8yQvfV4nXxHXK', duration_ms=201230, pos=45, track_name='Livin on Sunday', track_uri='spotify:track:1X5WGCrUMuwRFuYU1eAo2I'),\n",
       "  Row(album_name='See You Again', album_uri='spotify:album:6SkirMQoL4QhnXOM5MH5El', artist_name='Miley Cyrus', artist_uri='spotify:artist:5YGY8feqx7naU7z4HrwZM6', duration_ms=190453, pos=46, track_name='See You Again', track_uri='spotify:track:3utIAb67sOu0QHxBE88P1M'),\n",
       "  Row(album_name='Departure - Recharged', album_uri='spotify:album:2tDCfKFy2YW9N0IwNSRdOJ', artist_name='Jesse McCartney', artist_uri='spotify:artist:2Hjj68yyUPiC0HKEOigcEp', duration_ms=208333, pos=47, track_name='How Do You Sleep? - Featuring Ludacris', track_uri='spotify:track:3jkdQNkDTxxXtjSO4l0o1H'),\n",
       "  Row(album_name='Camp Rock Original Soundtrack', album_uri='spotify:album:6vykWEBzBfEKYJxEFR1AQl', artist_name='Demi Lovato', artist_uri='spotify:artist:6S2OmqARrzebs0tKUEyXyp', duration_ms=189186, pos=48, track_name='This Is Me', track_uri='spotify:track:5c1sfI6wIQEsSUw0xrkFdl'),\n",
       "  Row(album_name='Under My Skin', album_uri='spotify:album:7851Vsjv3apS52sXUik6iF', artist_name='Avril Lavigne', artist_uri='spotify:artist:0p4nmQO2msCgU4IF37Wi3j', duration_ms=242413, pos=49, track_name='My Happy Ending', track_uri='spotify:track:6sqNctd7MlJoKDOxPVCAvU'),\n",
       "  Row(album_name='We The Kings', album_uri='spotify:album:2F1hfUOuMnOxtSfrktL8VX', artist_name='We The Kings', artist_uri='spotify:artist:3ao3jf5d70Tf4fPh2bnXVl', duration_ms=220133, pos=50, track_name='Check Yes Juliet', track_uri='spotify:track:1b7vg5T9YKR3NNqXfBYRF7'),\n",
       "  Row(album_name='Boys Like Girls', album_uri='spotify:album:4WqgusSAgXkrjbXzqdBY68', artist_name='Boys Like Girls', artist_uri='spotify:artist:0vWCyXMrrvMlCcepuOJaGI', duration_ms=206520, pos=51, track_name='The Great Escape', track_uri='spotify:track:6GIrIt2M39wEGwjCQjGChX')]}"
      ]
     },
     "execution_count": 213,
     "metadata": {},
     "output_type": "execute_result"
    }
   ],
   "source": [
    "single_playlist.asDict()"
   ]
  },
  {
   "cell_type": "code",
   "execution_count": 215,
   "id": "understanding-lesbian",
   "metadata": {},
   "outputs": [],
   "source": [
    "import pandas as pd"
   ]
  },
  {
   "cell_type": "code",
   "execution_count": 216,
   "id": "returning-manchester",
   "metadata": {},
   "outputs": [
    {
     "data": {
      "text/plain": [
       "pyspark.sql.types.Row"
      ]
     },
     "execution_count": 216,
     "metadata": {},
     "output_type": "execute_result"
    }
   ],
   "source": [
    "type(single_playlist)"
   ]
  },
  {
   "cell_type": "code",
   "execution_count": 217,
   "id": "elder-memphis",
   "metadata": {},
   "outputs": [],
   "source": [
    "filtered_columns = single_playlist.__fields__.copy()"
   ]
  },
  {
   "cell_type": "code",
   "execution_count": 222,
   "id": "northern-front",
   "metadata": {},
   "outputs": [
    {
     "data": {
      "text/plain": [
       "['collaborative',\n",
       " 'description',\n",
       " 'duration_ms',\n",
       " 'num_albums',\n",
       " 'num_artists',\n",
       " 'num_edits',\n",
       " 'num_followers',\n",
       " 'num_tracks',\n",
       " 'pid']"
      ]
     },
     "execution_count": 222,
     "metadata": {},
     "output_type": "execute_result"
    }
   ],
   "source": [
    "# filtered_columns.remove('modified_at')\n",
    "# filtered_columns.remove('name')\n",
    "# filtered_columns.remove('tracks')\n",
    "filtered_columns\n",
    "\n"
   ]
  },
  {
   "cell_type": "code",
   "execution_count": 223,
   "id": "consolidated-spokesman",
   "metadata": {},
   "outputs": [
    {
     "data": {
      "text/plain": [
       "['collaborative',\n",
       " 'description',\n",
       " 'duration_ms',\n",
       " 'modified_at',\n",
       " 'name',\n",
       " 'num_albums',\n",
       " 'num_artists',\n",
       " 'num_edits',\n",
       " 'num_followers',\n",
       " 'num_tracks',\n",
       " 'pid',\n",
       " 'tracks']"
      ]
     },
     "execution_count": 223,
     "metadata": {},
     "output_type": "execute_result"
    }
   ],
   "source": [
    "single_playlist.__fields__"
   ]
  },
  {
   "cell_type": "code",
   "execution_count": 224,
   "id": "optimum-roberts",
   "metadata": {},
   "outputs": [],
   "source": [
    "single_dict = single_playlist.asDict()"
   ]
  },
  {
   "cell_type": "code",
   "execution_count": null,
   "id": "answering-setting",
   "metadata": {},
   "outputs": [],
   "source": [
    "#test_frame = pd.DataFrame([single_dict[filtered_columns[0]], single_dict[filtered_columns[1]], single_dict[filtered_columns[2]], single_dict[filtered_columns[3]],single_dict[filtered_columns[4]], single_dict[filtered_columns[5]], single_dict[filtered_columns[6]], single_dict[filtered_columns[7]], single_dict[filtered_columns[8]]], columns=list(filtered_columns)) "
   ]
  },
  {
   "cell_type": "code",
   "execution_count": 229,
   "id": "sporting-malawi",
   "metadata": {},
   "outputs": [],
   "source": [
    "#test_frame = pd.DataFrame(single_dict[filtered_columns[0]], columns=['collaborative']) \n",
    "#single_dict[filtered_columns[2]]"
   ]
  },
  {
   "cell_type": "code",
   "execution_count": 227,
   "id": "adopted-reputation",
   "metadata": {},
   "outputs": [],
   "source": [
    "pframe = pd.DataFrame.from_dict([single_dict])"
   ]
  },
  {
   "cell_type": "code",
   "execution_count": 228,
   "id": "three-samoa",
   "metadata": {},
   "outputs": [
    {
     "data": {
      "text/html": [
       "<div>\n",
       "<style scoped>\n",
       "    .dataframe tbody tr th:only-of-type {\n",
       "        vertical-align: middle;\n",
       "    }\n",
       "\n",
       "    .dataframe tbody tr th {\n",
       "        vertical-align: top;\n",
       "    }\n",
       "\n",
       "    .dataframe thead th {\n",
       "        text-align: right;\n",
       "    }\n",
       "</style>\n",
       "<table border=\"1\" class=\"dataframe\">\n",
       "  <thead>\n",
       "    <tr style=\"text-align: right;\">\n",
       "      <th></th>\n",
       "      <th>collaborative</th>\n",
       "      <th>description</th>\n",
       "      <th>duration_ms</th>\n",
       "      <th>modified_at</th>\n",
       "      <th>name</th>\n",
       "      <th>num_albums</th>\n",
       "      <th>num_artists</th>\n",
       "      <th>num_edits</th>\n",
       "      <th>num_followers</th>\n",
       "      <th>num_tracks</th>\n",
       "      <th>pid</th>\n",
       "      <th>tracks</th>\n",
       "    </tr>\n",
       "  </thead>\n",
       "  <tbody>\n",
       "    <tr>\n",
       "      <th>0</th>\n",
       "      <td>false</td>\n",
       "      <td>None</td>\n",
       "      <td>11532414</td>\n",
       "      <td>1493424000</td>\n",
       "      <td>Throwbacks</td>\n",
       "      <td>47</td>\n",
       "      <td>37</td>\n",
       "      <td>6</td>\n",
       "      <td>1</td>\n",
       "      <td>52</td>\n",
       "      <td>0</td>\n",
       "      <td>[(The Cookbook, spotify:album:6vV5UrXcfyQD1wu4...</td>\n",
       "    </tr>\n",
       "  </tbody>\n",
       "</table>\n",
       "</div>"
      ],
      "text/plain": [
       "  collaborative description  duration_ms  modified_at        name  num_albums  \\\n",
       "0         false        None     11532414   1493424000  Throwbacks          47   \n",
       "\n",
       "   num_artists  num_edits  num_followers  num_tracks  pid  \\\n",
       "0           37          6              1          52    0   \n",
       "\n",
       "                                              tracks  \n",
       "0  [(The Cookbook, spotify:album:6vV5UrXcfyQD1wu4...  "
      ]
     },
     "execution_count": 228,
     "metadata": {},
     "output_type": "execute_result"
    }
   ],
   "source": [
    "pframe"
   ]
  },
  {
   "cell_type": "code",
   "execution_count": 239,
   "id": "hundred-imagination",
   "metadata": {},
   "outputs": [],
   "source": [
    "for entry in playlist:\n",
    "    pframe.append(pd.DataFrame.from_dict([entry]))"
   ]
  },
  {
   "cell_type": "code",
   "execution_count": 240,
   "id": "virtual-technical",
   "metadata": {},
   "outputs": [
    {
     "data": {
      "text/html": [
       "<div>\n",
       "<style scoped>\n",
       "    .dataframe tbody tr th:only-of-type {\n",
       "        vertical-align: middle;\n",
       "    }\n",
       "\n",
       "    .dataframe tbody tr th {\n",
       "        vertical-align: top;\n",
       "    }\n",
       "\n",
       "    .dataframe thead th {\n",
       "        text-align: right;\n",
       "    }\n",
       "</style>\n",
       "<table border=\"1\" class=\"dataframe\">\n",
       "  <thead>\n",
       "    <tr style=\"text-align: right;\">\n",
       "      <th></th>\n",
       "      <th>collaborative</th>\n",
       "      <th>description</th>\n",
       "      <th>duration_ms</th>\n",
       "      <th>modified_at</th>\n",
       "      <th>name</th>\n",
       "      <th>num_albums</th>\n",
       "      <th>num_artists</th>\n",
       "      <th>num_edits</th>\n",
       "      <th>num_followers</th>\n",
       "      <th>num_tracks</th>\n",
       "      <th>pid</th>\n",
       "      <th>tracks</th>\n",
       "    </tr>\n",
       "  </thead>\n",
       "  <tbody>\n",
       "    <tr>\n",
       "      <th>0</th>\n",
       "      <td>false</td>\n",
       "      <td>None</td>\n",
       "      <td>11532414</td>\n",
       "      <td>1493424000</td>\n",
       "      <td>Throwbacks</td>\n",
       "      <td>47</td>\n",
       "      <td>37</td>\n",
       "      <td>6</td>\n",
       "      <td>1</td>\n",
       "      <td>52</td>\n",
       "      <td>0</td>\n",
       "      <td>[(The Cookbook, spotify:album:6vV5UrXcfyQD1wu4...</td>\n",
       "    </tr>\n",
       "  </tbody>\n",
       "</table>\n",
       "</div>"
      ],
      "text/plain": [
       "  collaborative description  duration_ms  modified_at        name  num_albums  \\\n",
       "0         false        None     11532414   1493424000  Throwbacks          47   \n",
       "\n",
       "   num_artists  num_edits  num_followers  num_tracks  pid  \\\n",
       "0           37          6              1          52    0   \n",
       "\n",
       "                                              tracks  \n",
       "0  [(The Cookbook, spotify:album:6vV5UrXcfyQD1wu4...  "
      ]
     },
     "execution_count": 240,
     "metadata": {},
     "output_type": "execute_result"
    }
   ],
   "source": [
    "pframe"
   ]
  },
  {
   "cell_type": "code",
   "execution_count": 233,
   "id": "personalized-lounge",
   "metadata": {},
   "outputs": [
    {
     "data": {
      "text/plain": [
       "1000"
      ]
     },
     "execution_count": 233,
     "metadata": {},
     "output_type": "execute_result"
    }
   ],
   "source": [
    "len(playlist)"
   ]
  },
  {
   "cell_type": "code",
   "execution_count": 238,
   "id": "consistent-lobby",
   "metadata": {},
   "outputs": [],
   "source": [
    "#pframe.append(pd.DataFrame.from_dict([playlist[3]])) <-- unexpected output??"
   ]
  },
  {
   "cell_type": "code",
   "execution_count": 241,
   "id": "trying-invasion",
   "metadata": {},
   "outputs": [],
   "source": [
    "pframe_test2 = pd.DataFrame(playlist)"
   ]
  },
  {
   "cell_type": "code",
   "execution_count": 243,
   "id": "forward-pharmacy",
   "metadata": {},
   "outputs": [
    {
     "data": {
      "text/html": [
       "<div>\n",
       "<style scoped>\n",
       "    .dataframe tbody tr th:only-of-type {\n",
       "        vertical-align: middle;\n",
       "    }\n",
       "\n",
       "    .dataframe tbody tr th {\n",
       "        vertical-align: top;\n",
       "    }\n",
       "\n",
       "    .dataframe thead th {\n",
       "        text-align: right;\n",
       "    }\n",
       "</style>\n",
       "<table border=\"1\" class=\"dataframe\">\n",
       "  <thead>\n",
       "    <tr style=\"text-align: right;\">\n",
       "      <th></th>\n",
       "      <th>0</th>\n",
       "      <th>1</th>\n",
       "      <th>2</th>\n",
       "      <th>3</th>\n",
       "      <th>4</th>\n",
       "      <th>5</th>\n",
       "      <th>6</th>\n",
       "      <th>7</th>\n",
       "      <th>8</th>\n",
       "      <th>9</th>\n",
       "      <th>10</th>\n",
       "      <th>11</th>\n",
       "    </tr>\n",
       "  </thead>\n",
       "  <tbody>\n",
       "    <tr>\n",
       "      <th>0</th>\n",
       "      <td>false</td>\n",
       "      <td>None</td>\n",
       "      <td>11532414</td>\n",
       "      <td>1493424000</td>\n",
       "      <td>Throwbacks</td>\n",
       "      <td>47</td>\n",
       "      <td>37</td>\n",
       "      <td>6</td>\n",
       "      <td>1</td>\n",
       "      <td>52</td>\n",
       "      <td>0</td>\n",
       "      <td>[(The Cookbook, spotify:album:6vV5UrXcfyQD1wu4...</td>\n",
       "    </tr>\n",
       "    <tr>\n",
       "      <th>1</th>\n",
       "      <td>false</td>\n",
       "      <td>None</td>\n",
       "      <td>11656470</td>\n",
       "      <td>1506556800</td>\n",
       "      <td>Awesome Playlist</td>\n",
       "      <td>23</td>\n",
       "      <td>21</td>\n",
       "      <td>5</td>\n",
       "      <td>1</td>\n",
       "      <td>39</td>\n",
       "      <td>1</td>\n",
       "      <td>[(Eye Of The Tiger, spotify:album:4PT9VulQaQP6...</td>\n",
       "    </tr>\n",
       "    <tr>\n",
       "      <th>2</th>\n",
       "      <td>false</td>\n",
       "      <td>None</td>\n",
       "      <td>14039958</td>\n",
       "      <td>1505692800</td>\n",
       "      <td>korean</td>\n",
       "      <td>51</td>\n",
       "      <td>31</td>\n",
       "      <td>18</td>\n",
       "      <td>1</td>\n",
       "      <td>64</td>\n",
       "      <td>2</td>\n",
       "      <td>[(On And On, spotify:album:7hq1c0ZrLiSKxzhoRac...</td>\n",
       "    </tr>\n",
       "    <tr>\n",
       "      <th>3</th>\n",
       "      <td>false</td>\n",
       "      <td>None</td>\n",
       "      <td>28926058</td>\n",
       "      <td>1501027200</td>\n",
       "      <td>mat</td>\n",
       "      <td>107</td>\n",
       "      <td>86</td>\n",
       "      <td>4</td>\n",
       "      <td>1</td>\n",
       "      <td>126</td>\n",
       "      <td>3</td>\n",
       "      <td>[(French Festival, spotify:album:0T9YCy8TruLD6...</td>\n",
       "    </tr>\n",
       "    <tr>\n",
       "      <th>4</th>\n",
       "      <td>false</td>\n",
       "      <td>None</td>\n",
       "      <td>4335282</td>\n",
       "      <td>1401667200</td>\n",
       "      <td>90s</td>\n",
       "      <td>16</td>\n",
       "      <td>16</td>\n",
       "      <td>7</td>\n",
       "      <td>2</td>\n",
       "      <td>17</td>\n",
       "      <td>4</td>\n",
       "      <td>[(Mellon Collie and the Infinite Sadness, spot...</td>\n",
       "    </tr>\n",
       "    <tr>\n",
       "      <th>...</th>\n",
       "      <td>...</td>\n",
       "      <td>...</td>\n",
       "      <td>...</td>\n",
       "      <td>...</td>\n",
       "      <td>...</td>\n",
       "      <td>...</td>\n",
       "      <td>...</td>\n",
       "      <td>...</td>\n",
       "      <td>...</td>\n",
       "      <td>...</td>\n",
       "      <td>...</td>\n",
       "      <td>...</td>\n",
       "    </tr>\n",
       "    <tr>\n",
       "      <th>995</th>\n",
       "      <td>false</td>\n",
       "      <td>None</td>\n",
       "      <td>9917901</td>\n",
       "      <td>1507852800</td>\n",
       "      <td>old</td>\n",
       "      <td>40</td>\n",
       "      <td>36</td>\n",
       "      <td>8</td>\n",
       "      <td>1</td>\n",
       "      <td>41</td>\n",
       "      <td>995</td>\n",
       "      <td>[(Walkin' On Sunshine (Re-Recorded Versions), ...</td>\n",
       "    </tr>\n",
       "    <tr>\n",
       "      <th>996</th>\n",
       "      <td>false</td>\n",
       "      <td>None</td>\n",
       "      <td>3699248</td>\n",
       "      <td>1479254400</td>\n",
       "      <td>Daze</td>\n",
       "      <td>17</td>\n",
       "      <td>15</td>\n",
       "      <td>13</td>\n",
       "      <td>1</td>\n",
       "      <td>17</td>\n",
       "      <td>996</td>\n",
       "      <td>[(PARTYNEXTDOOR 3 (P3), spotify:album:2FXGUAES...</td>\n",
       "    </tr>\n",
       "    <tr>\n",
       "      <th>997</th>\n",
       "      <td>false</td>\n",
       "      <td>None</td>\n",
       "      <td>27538723</td>\n",
       "      <td>1410307200</td>\n",
       "      <td>rap</td>\n",
       "      <td>98</td>\n",
       "      <td>82</td>\n",
       "      <td>63</td>\n",
       "      <td>1</td>\n",
       "      <td>119</td>\n",
       "      <td>997</td>\n",
       "      <td>[(UP!, spotify:album:4I8VoaNOYQn92D8ejMPGlw, L...</td>\n",
       "    </tr>\n",
       "    <tr>\n",
       "      <th>998</th>\n",
       "      <td>false</td>\n",
       "      <td>None</td>\n",
       "      <td>24950143</td>\n",
       "      <td>1507939200</td>\n",
       "      <td>Country</td>\n",
       "      <td>75</td>\n",
       "      <td>40</td>\n",
       "      <td>37</td>\n",
       "      <td>1</td>\n",
       "      <td>108</td>\n",
       "      <td>998</td>\n",
       "      <td>[(Hunter Hayes (Encore), spotify:album:5hVo5O3...</td>\n",
       "    </tr>\n",
       "    <tr>\n",
       "      <th>999</th>\n",
       "      <td>false</td>\n",
       "      <td>None</td>\n",
       "      <td>9065801</td>\n",
       "      <td>1507766400</td>\n",
       "      <td>thinking of you</td>\n",
       "      <td>43</td>\n",
       "      <td>37</td>\n",
       "      <td>34</td>\n",
       "      <td>1</td>\n",
       "      <td>44</td>\n",
       "      <td>999</td>\n",
       "      <td>[(Acoustic, spotify:album:33oxbqzo7poSO2IbSMqr...</td>\n",
       "    </tr>\n",
       "  </tbody>\n",
       "</table>\n",
       "<p>1000 rows × 12 columns</p>\n",
       "</div>"
      ],
      "text/plain": [
       "        0     1         2           3                 4    5   6   7   8   \\\n",
       "0    false  None  11532414  1493424000        Throwbacks   47  37   6   1   \n",
       "1    false  None  11656470  1506556800  Awesome Playlist   23  21   5   1   \n",
       "2    false  None  14039958  1505692800           korean    51  31  18   1   \n",
       "3    false  None  28926058  1501027200               mat  107  86   4   1   \n",
       "4    false  None   4335282  1401667200               90s   16  16   7   2   \n",
       "..     ...   ...       ...         ...               ...  ...  ..  ..  ..   \n",
       "995  false  None   9917901  1507852800               old   40  36   8   1   \n",
       "996  false  None   3699248  1479254400              Daze   17  15  13   1   \n",
       "997  false  None  27538723  1410307200               rap   98  82  63   1   \n",
       "998  false  None  24950143  1507939200           Country   75  40  37   1   \n",
       "999  false  None   9065801  1507766400   thinking of you   43  37  34   1   \n",
       "\n",
       "      9    10                                                 11  \n",
       "0     52    0  [(The Cookbook, spotify:album:6vV5UrXcfyQD1wu4...  \n",
       "1     39    1  [(Eye Of The Tiger, spotify:album:4PT9VulQaQP6...  \n",
       "2     64    2  [(On And On, spotify:album:7hq1c0ZrLiSKxzhoRac...  \n",
       "3    126    3  [(French Festival, spotify:album:0T9YCy8TruLD6...  \n",
       "4     17    4  [(Mellon Collie and the Infinite Sadness, spot...  \n",
       "..   ...  ...                                                ...  \n",
       "995   41  995  [(Walkin' On Sunshine (Re-Recorded Versions), ...  \n",
       "996   17  996  [(PARTYNEXTDOOR 3 (P3), spotify:album:2FXGUAES...  \n",
       "997  119  997  [(UP!, spotify:album:4I8VoaNOYQn92D8ejMPGlw, L...  \n",
       "998  108  998  [(Hunter Hayes (Encore), spotify:album:5hVo5O3...  \n",
       "999   44  999  [(Acoustic, spotify:album:33oxbqzo7poSO2IbSMqr...  \n",
       "\n",
       "[1000 rows x 12 columns]"
      ]
     },
     "execution_count": 243,
     "metadata": {},
     "output_type": "execute_result"
    }
   ],
   "source": [
    "pframe_test2"
   ]
  },
  {
   "cell_type": "code",
   "execution_count": null,
   "id": "centered-strengthening",
   "metadata": {},
   "outputs": [],
   "source": []
  }
 ],
 "metadata": {
  "kernelspec": {
   "display_name": "Python 3",
   "language": "python",
   "name": "python3"
  },
  "language_info": {
   "codemirror_mode": {
    "name": "ipython",
    "version": 3
   },
   "file_extension": ".py",
   "mimetype": "text/x-python",
   "name": "python",
   "nbconvert_exporter": "python",
   "pygments_lexer": "ipython3",
   "version": "3.8.6"
  }
 },
 "nbformat": 4,
 "nbformat_minor": 5
}
