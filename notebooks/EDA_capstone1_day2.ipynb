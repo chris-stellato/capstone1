{
 "cells": [
  {
   "cell_type": "code",
   "execution_count": 302,
   "metadata": {},
   "outputs": [],
   "source": [
    "from pyspark.sql.functions import *\n",
    "import pyspark as ps\n",
    "import pandas as pd\n",
    "import re\n",
    "import matplotlib.pyplot as plt\n",
    "import seaborn as sn\n",
    "from scipy import stats\n",
    "import numpy as np"
   ]
  },
  {
   "cell_type": "code",
   "execution_count": 190,
   "metadata": {},
   "outputs": [],
   "source": [
    "spark = ps.sql.SparkSession.builder \\\n",
    "            .master(\"local[4]\") \\\n",
    "            .appName(\"df capstone\") \\\n",
    "            .getOrCreate()\n",
    "\n",
    "dframe = spark.read.json('./data/mpd.slice.0-999.json', multiLine=True)"
   ]
  },
  {
   "cell_type": "code",
   "execution_count": 191,
   "metadata": {},
   "outputs": [],
   "source": [
    "sc = spark.sparkContext"
   ]
  },
  {
   "cell_type": "code",
   "execution_count": 192,
   "metadata": {
    "scrolled": true
   },
   "outputs": [
    {
     "name": "stdout",
     "output_type": "stream",
     "text": [
      "root\n",
      " |-- info: struct (nullable = true)\n",
      " |    |-- generated_on: string (nullable = true)\n",
      " |    |-- slice: string (nullable = true)\n",
      " |    |-- version: string (nullable = true)\n",
      " |-- playlists: array (nullable = true)\n",
      " |    |-- element: struct (containsNull = true)\n",
      " |    |    |-- collaborative: string (nullable = true)\n",
      " |    |    |-- description: string (nullable = true)\n",
      " |    |    |-- duration_ms: long (nullable = true)\n",
      " |    |    |-- modified_at: long (nullable = true)\n",
      " |    |    |-- name: string (nullable = true)\n",
      " |    |    |-- num_albums: long (nullable = true)\n",
      " |    |    |-- num_artists: long (nullable = true)\n",
      " |    |    |-- num_edits: long (nullable = true)\n",
      " |    |    |-- num_followers: long (nullable = true)\n",
      " |    |    |-- num_tracks: long (nullable = true)\n",
      " |    |    |-- pid: long (nullable = true)\n",
      " |    |    |-- tracks: array (nullable = true)\n",
      " |    |    |    |-- element: struct (containsNull = true)\n",
      " |    |    |    |    |-- album_name: string (nullable = true)\n",
      " |    |    |    |    |-- album_uri: string (nullable = true)\n",
      " |    |    |    |    |-- artist_name: string (nullable = true)\n",
      " |    |    |    |    |-- artist_uri: string (nullable = true)\n",
      " |    |    |    |    |-- duration_ms: long (nullable = true)\n",
      " |    |    |    |    |-- pos: long (nullable = true)\n",
      " |    |    |    |    |-- track_name: string (nullable = true)\n",
      " |    |    |    |    |-- track_uri: string (nullable = true)\n",
      "\n"
     ]
    }
   ],
   "source": [
    "dframe.printSchema()\n"
   ]
  },
  {
   "cell_type": "code",
   "execution_count": 196,
   "metadata": {},
   "outputs": [
    {
     "name": "stdout",
     "output_type": "stream",
     "text": [
      "+--------------------+--------------------+\n",
      "|                info|           playlists|\n",
      "+--------------------+--------------------+\n",
      "|[2017-12-03 08:41...|[[false,, 1153241...|\n",
      "+--------------------+--------------------+\n",
      "\n"
     ]
    }
   ],
   "source": [
    "dframe.show()"
   ]
  },
  {
   "cell_type": "code",
   "execution_count": 197,
   "metadata": {},
   "outputs": [],
   "source": [
    "dframe.createOrReplaceTempView('play_frame')"
   ]
  },
  {
   "cell_type": "code",
   "execution_count": 198,
   "metadata": {},
   "outputs": [],
   "source": [
    "preview = spark.sql('''\n",
    "                    SELECT playlists\n",
    "                    FROM play_frame\n",
    "''')"
   ]
  },
  {
   "cell_type": "code",
   "execution_count": 199,
   "metadata": {},
   "outputs": [
    {
     "name": "stdout",
     "output_type": "stream",
     "text": [
      "+--------------------+\n",
      "|           playlists|\n",
      "+--------------------+\n",
      "|[[false,, 1153241...|\n",
      "+--------------------+\n",
      "\n"
     ]
    }
   ],
   "source": [
    "preview.show()"
   ]
  },
  {
   "cell_type": "code",
   "execution_count": 200,
   "metadata": {},
   "outputs": [
    {
     "data": {
      "text/plain": [
       "pyspark.sql.dataframe.DataFrame"
      ]
     },
     "execution_count": 200,
     "metadata": {},
     "output_type": "execute_result"
    }
   ],
   "source": [
    "type(preview)"
   ]
  },
  {
   "cell_type": "code",
   "execution_count": 202,
   "metadata": {},
   "outputs": [],
   "source": [
    "playlist = dframe.head()[1]"
   ]
  },
  {
   "cell_type": "code",
   "execution_count": 204,
   "metadata": {
    "scrolled": true
   },
   "outputs": [
    {
     "data": {
      "text/plain": [
       "(list, 1000)"
      ]
     },
     "execution_count": 204,
     "metadata": {},
     "output_type": "execute_result"
    }
   ],
   "source": [
    "type(playlist), len(playlist)"
   ]
  },
  {
   "cell_type": "code",
   "execution_count": 205,
   "metadata": {},
   "outputs": [
    {
     "data": {
      "text/plain": [
       "12"
      ]
     },
     "execution_count": 205,
     "metadata": {},
     "output_type": "execute_result"
    }
   ],
   "source": [
    "len(playlist[0])"
   ]
  },
  {
   "cell_type": "code",
   "execution_count": 206,
   "metadata": {},
   "outputs": [],
   "source": [
    "single_playlist = playlist[0]"
   ]
  },
  {
   "cell_type": "code",
   "execution_count": 208,
   "metadata": {
    "scrolled": true
   },
   "outputs": [
    {
     "name": "stdout",
     "output_type": "stream",
     "text": [
      "<class 'str'> false \n",
      "\n",
      "<class 'NoneType'> None \n",
      "\n",
      "<class 'int'> 11532414 \n",
      "\n",
      "<class 'int'> 1493424000 \n",
      "\n",
      "<class 'str'> Throwbacks \n",
      "\n",
      "<class 'int'> 47 \n",
      "\n",
      "<class 'int'> 37 \n",
      "\n",
      "<class 'int'> 6 \n",
      "\n",
      "<class 'int'> 1 \n",
      "\n",
      "<class 'int'> 52 \n",
      "\n",
      "<class 'int'> 0 \n",
      "\n",
      "<class 'list'> [Row(album_name='The Cookbook', album_uri='spotify:album:6vV5UrXcfyQD1wu4Qo2I9K', artist_name='Missy Elliott', artist_uri='spotify:artist:2wIVse2owClT7go1WT98tk', duration_ms=226863, pos=0, track_name='Lose Control (feat. Ciara & Fat Man Scoop)', track_uri='spotify:track:0UaMYEvWZi0ZqiDOoHU3YI'), Row(album_name='In The Zone', album_uri='spotify:album:0z7pVBGOD7HCIB7S8eLkLI', artist_name='Britney Spears', artist_uri='spotify:artist:26dSoYclwsYLMAKD3tpOr4', duration_ms=198800, pos=1, track_name='Toxic', track_uri='spotify:track:6I9VzXrHxO9rA9A5euc8Ak'), Row(album_name='Dangerously In Love (Alben für die Ewigkeit)', album_uri='spotify:album:25hVFAxTlDvXbx2X2QkUkE', artist_name='Beyoncé', artist_uri='spotify:artist:6vWDO969PvNqNYHIOW5v0m', duration_ms=235933, pos=2, track_name='Crazy In Love', track_uri='spotify:track:0WqIKmW4BTrj3eJFmnCKMv'), Row(album_name='Justified', album_uri='spotify:album:6QPkyl04rXwTGlGlcYaRoW', artist_name='Justin Timberlake', artist_uri='spotify:artist:31TPClRtHm23RisEBtV3X7', duration_ms=267266, pos=3, track_name='Rock Your Body', track_uri='spotify:track:1AWQoqb9bSvzTjaLralEkT'), Row(album_name='Hot Shot', album_uri='spotify:album:6NmFmPX56pcLBOFMhIiKvF', artist_name='Shaggy', artist_uri='spotify:artist:5EvFsr3kj42KNv97ZEnqij', duration_ms=227600, pos=4, track_name=\"It Wasn't Me\", track_uri='spotify:track:1lzr43nnXAijIGYnCT8M8H'), Row(album_name='Confessions', album_uri='spotify:album:0vO0b1AvY49CPQyVisJLj0', artist_name='Usher', artist_uri='spotify:artist:23zg3TcAtWQy7J6upgbUnj', duration_ms=250373, pos=5, track_name='Yeah!', track_uri='spotify:track:0XUfyU2QviPAs6bxSpXYG4'), Row(album_name='Confessions', album_uri='spotify:album:1RM6MGv6bcl6NrAG8PGoZk', artist_name='Usher', artist_uri='spotify:artist:23zg3TcAtWQy7J6upgbUnj', duration_ms=223440, pos=6, track_name='My Boo', track_uri='spotify:track:68vgtRHr7iZHpzGpon6Jlo'), Row(album_name='PCD', album_uri='spotify:album:5x8e8UcCeOgrOzSnDGuPye', artist_name='The Pussycat Dolls', artist_uri='spotify:artist:6wPhSqRtPu1UhRCDX5yaDJ', duration_ms=225560, pos=7, track_name='Buttons', track_uri='spotify:track:3BxWKCI06eQ5Od8TY2JBeA'), Row(album_name=\"The Writing's On The Wall\", album_uri='spotify:album:283NWqNsCA9GwVHrJk59CG', artist_name=\"Destiny's Child\", artist_uri='spotify:artist:1Y8cdNmUJH7yBTd9yOvr5i', duration_ms=271333, pos=8, track_name='Say My Name', track_uri='spotify:track:7H6ev70Weq6DdpZyyTmUXk'), Row(album_name='Speakerboxxx/The Love Below', album_uri='spotify:album:1UsmQ3bpJTyK6ygoOOjG1r', artist_name='OutKast', artist_uri='spotify:artist:1G9G7WwrXka3Z1r7aIDjI7', duration_ms=235213, pos=9, track_name='Hey Ya! - Radio Mix / Club Mix', track_uri='spotify:track:2PpruBYCo4H7WOBJ7Q2EwM'), Row(album_name='Loose', album_uri='spotify:album:2yboV2QBcVGEhcRlYuPpDT', artist_name='Nelly Furtado', artist_uri='spotify:artist:2jw70GZXlAI8QzWeY2bgRc', duration_ms=242293, pos=10, track_name='Promiscuous', track_uri='spotify:track:2gam98EZKrF9XuOkU13ApN'), Row(album_name='Right Where You Want Me', album_uri='spotify:album:6022khQj4Fsvvse8f3A4lF', artist_name='Jesse McCartney', artist_uri='spotify:artist:2Hjj68yyUPiC0HKEOigcEp', duration_ms=211693, pos=11, track_name='Right Where You Want Me - Radio Edit Version', track_uri='spotify:track:4Y45aqo9QMa57rDsAJv40A'), Row(album_name='Beautiful Soul', album_uri='spotify:album:2gidE8vgVOkYufANjuvj3S', artist_name='Jesse McCartney', artist_uri='spotify:artist:2Hjj68yyUPiC0HKEOigcEp', duration_ms=214226, pos=12, track_name='Beautiful Soul', track_uri='spotify:track:1HwpWwa6bnqqRhK8agG4RS'), Row(album_name='Departure - Recharged', album_uri='spotify:album:2tDCfKFy2YW9N0IwNSRdOJ', artist_name='Jesse McCartney', artist_uri='spotify:artist:2Hjj68yyUPiC0HKEOigcEp', duration_ms=216880, pos=13, track_name=\"Leavin'\", track_uri='spotify:track:20ORwCJusz4KS2PbTPVNKo'), Row(album_name='Cassie', album_uri='spotify:album:0j1qzjaJmsF1FkcICf3hRu', artist_name='Cassie', artist_uri='spotify:artist:27FGXRNruFoOdf1vP8dqcH', duration_ms=192213, pos=14, track_name='Me & U', track_uri='spotify:track:7k6IzwMGpxnRghE7YosnXT'), Row(album_name='21', album_uri='spotify:album:4cVVEOXyUaWo7vlDWIkKsI', artist_name='Omarion', artist_uri='spotify:artist:0f5nVCcR06GX8Qikz0COtT', duration_ms=256426, pos=15, track_name='Ice Box', track_uri='spotify:track:1Bv0Yl01xBDZD4OQP93fyl'), Row(album_name='Let Go', album_uri='spotify:album:7h6XeTzy0SRXDrFJeA9gO7', artist_name='Avril Lavigne', artist_uri='spotify:artist:0p4nmQO2msCgU4IF37Wi3j', duration_ms=204000, pos=16, track_name='Sk8er Boi', track_uri='spotify:track:4omisSlTk6Dsq2iQD7MA07'), Row(album_name='Chris Brown', album_uri='spotify:album:49gaz5rhWWgqCw61M9700v', artist_name='Chris Brown', artist_uri='spotify:artist:7bXgB6jMjp9ATFy66eO08Z', duration_ms=229866, pos=17, track_name='Run It!', track_uri='spotify:track:7xYnUQigPoIDAMPVK79NEq'), Row(album_name=\"B'Day\", album_uri='spotify:album:3MJHoQUI828kmB6IpjejbW', artist_name='Beyoncé', artist_uri='spotify:artist:6vWDO969PvNqNYHIOW5v0m', duration_ms=210453, pos=18, track_name='Check On It - feat. Bun B and Slim Thug', track_uri='spotify:track:6d8A5sAx9TfdeseDvfWNHd'), Row(album_name=\"The Writing's On The Wall\", album_uri='spotify:album:283NWqNsCA9GwVHrJk59CG', artist_name=\"Destiny's Child\", artist_uri='spotify:artist:1Y8cdNmUJH7yBTd9yOvr5i', duration_ms=230200, pos=19, track_name=\"Jumpin', Jumpin'\", track_uri='spotify:track:4pmc2AxSEq6g7hPVlJCPyP'), Row(album_name=\"C'Mon C'Mon\", album_uri='spotify:album:5NYcTXrRZHxNyRKVOd0vs1', artist_name='Sheryl Crow', artist_uri='spotify:artist:4TKTii6gnOnUXQHyuo9JaD', duration_ms=292306, pos=20, track_name='Soak Up The Sun', track_uri='spotify:track:215JYyyUnrJ98NK3KEwu6d'), Row(album_name='Elephunk', album_uri='spotify:album:1bNyYpkDRovmErm4QeDrpJ', artist_name='The Black Eyed Peas', artist_uri='spotify:artist:1yxSLGMDHlW21z4YXirZDS', duration_ms=272533, pos=21, track_name='Where Is The Love?', track_uri='spotify:track:0uqPG793dkDDN7sCUJJIVC'), Row(album_name=\"I've Never Done Anything Like This\", album_uri='spotify:album:3Q7xpHmP8k3HryE0LQdIk0', artist_name='Bowling For Soup', artist_uri='spotify:artist:5ND0mGcL9SKSjWIjPd0xIb', duration_ms=193042, pos=22, track_name=\"Stacy's Mom\", track_uri='spotify:track:19Js5ypV6JKn4DMExHQbGc'), Row(album_name='Greetings From Imrie House', album_uri='spotify:album:7gZilZGYr8M7UwEeYvdAKZ', artist_name='The Click Five', artist_uri='spotify:artist:01lz5VBfkMFDteSA9pKJuP', duration_ms=234146, pos=23, track_name='Just The Girl', track_uri='spotify:track:1JURww012QnWAw0zZXi6Aa'), Row(album_name='Chris Brown', album_uri='spotify:album:49gaz5rhWWgqCw61M9700v', artist_name='Chris Brown', artist_uri='spotify:artist:7bXgB6jMjp9ATFy66eO08Z', duration_ms=229040, pos=24, track_name='Yo (Excuse Me Miss)', track_uri='spotify:track:7DFnq8FYhHMCylykf6ZCxA'), Row(album_name='Jonas Brothers', album_uri='spotify:album:20RAjvZ9LX2FDuDU8RDuIl', artist_name='Jonas Brothers', artist_uri='spotify:artist:7gOdHgIoIKoe4i9Tta6qdD', duration_ms=201960, pos=25, track_name='Year 3000', track_uri='spotify:track:1TfAhjzRBWzYZ8IdUV3igl'), Row(album_name='Lip Gloss', album_uri='spotify:album:3vgVsm9GY3i39fZ7b1sqV5', artist_name='Lil Mama', artist_uri='spotify:artist:5qK5bOC6wLtuLhG5KvU17c', duration_ms=219773, pos=26, track_name='Lip Gloss', track_uri='spotify:track:1Y4ZdPOOgCUhBcKZOrUFiS'), Row(album_name='Everytime We Touch', album_uri='spotify:album:5DvuKZTzEKjm0oUuhP237C', artist_name='Cascada', artist_uri='spotify:artist:0N0d3kjwdY2h7UVuTdJGfp', duration_ms=199120, pos=27, track_name='Everytime We Touch - Radio Edit', track_uri='spotify:track:6MjljecHzHelUDismyKkba'), Row(album_name='Jason Derulo', album_uri='spotify:album:0aVJmVAeEx78nAA1rAKYf7', artist_name='Jason Derulo', artist_uri='spotify:artist:07YZf4WDAMNwqr4jfgOZ8y', duration_ms=221253, pos=28, track_name='Whatcha Say', track_uri='spotify:track:67T6l4q3zVjC5nZZPXByU8'), Row(album_name='Year Of The Gentleman', album_uri='spotify:album:6dTn9vJSxVTIGm4Cu5dH4x', artist_name='Ne-Yo', artist_uri='spotify:artist:21E3waRsmPlU7jZsS13rcj', duration_ms=232000, pos=29, track_name='Miss Independent', track_uri='spotify:track:34ceTg8ChN5HjrqiIYCn9Q'), Row(album_name='The Time Of Our Lives', album_uri='spotify:album:64aKkqxc3Ur2LYIKeS5osS', artist_name='Miley Cyrus', artist_uri='spotify:artist:5YGY8feqx7naU7z4HrwZM6', duration_ms=202066, pos=30, track_name='Party In The U.S.A.', track_uri='spotify:track:5Q0Nhxo0l2bP3pNjpGJwV1'), Row(album_name='Boys Like Girls', album_uri='spotify:album:4WqgusSAgXkrjbXzqdBY68', artist_name='Boys Like Girls', artist_uri='spotify:artist:0vWCyXMrrvMlCcepuOJaGI', duration_ms=206520, pos=31, track_name='The Great Escape', track_uri='spotify:track:6GIrIt2M39wEGwjCQjGChX'), Row(album_name='Replay', album_uri='spotify:album:44hyrGuZKAvITbmrlhryf8', artist_name='Iyaz', artist_uri='spotify:artist:5tKXB9uuebKE34yowVaU3C', duration_ms=182306, pos=32, track_name='Replay', track_uri='spotify:track:4E5P1XyAFtrjpiIxkydly4'), Row(album_name='Exclusive - The Forever Edition', album_uri='spotify:album:1UtE4zAlSE2TlKmTFgrTg5', artist_name='Chris Brown', artist_uri='spotify:artist:7bXgB6jMjp9ATFy66eO08Z', duration_ms=277106, pos=33, track_name='Forever', track_uri='spotify:track:3H1LCvO3fVsK2HPguhbml0'), Row(album_name='Animal', album_uri='spotify:album:5peRwC6pQh8eaoIPtvmmOB', artist_name='Kesha', artist_uri='spotify:artist:6LqNN22kT3074XbTVUrhzX', duration_ms=187133, pos=34, track_name='Your Love Is My Drug', track_uri='spotify:track:3uoQULcUWfnt6nc6J7Vgai'), Row(album_name='Year Of The Gentleman', album_uri='spotify:album:1nv3KEXZPmcwOXMoLTs1vn', artist_name='Ne-Yo', artist_uri='spotify:artist:21E3waRsmPlU7jZsS13rcj', duration_ms=234360, pos=35, track_name='Closer', track_uri='spotify:track:2nbClS09zsIAqNkshg6jnp'), Row(album_name='My World', album_uri='spotify:album:1rG5TDs3jYh6OU753I54CI', artist_name='Justin Bieber', artist_uri='spotify:artist:1uNFoZAHBGtllmzznpCI3s', duration_ms=229106, pos=36, track_name='One Less Lonely Girl', track_uri='spotify:track:69ghzc538EQSVon2Gm3wrr'), Row(album_name='Kala', album_uri='spotify:album:1Lymt1abGCr3J06bbnmWca', artist_name='M.I.A.', artist_uri='spotify:artist:0QJIPDAEDILuo8AIq3pMuU', duration_ms=203760, pos=37, track_name='Paper Planes', track_uri='spotify:track:1kusepF3AacIEtUTYrw4GV'), Row(album_name='Hot Fuss', album_uri='spotify:album:4undIeGmofnAYKhnDclN1w', artist_name='The Killers', artist_uri='spotify:artist:0C0XlULifJtAgn6ZNCW2eu', duration_ms=222586, pos=38, track_name='Mr. Brightside', track_uri='spotify:track:7oK9VyNzrYvRFo7nQEYkWN'), Row(album_name='Enema Of The State', album_uri='spotify:album:1fF8kYX49s5Ufv4XEY5sjW', artist_name='blink-182', artist_uri='spotify:artist:6FBDaR13swtiWwGhX1WQsP', duration_ms=168000, pos=39, track_name='All The Small Things', track_uri='spotify:track:12qZHAeOyTf93YAWvGDTat'), Row(album_name='PCD', album_uri='spotify:album:0ylxpXE00fVxh6d60tevT8', artist_name='The Pussycat Dolls', artist_uri='spotify:artist:6wPhSqRtPu1UhRCDX5yaDJ', duration_ms=229360, pos=40, track_name='Beep', track_uri='spotify:track:2jFlMILIQzs7lSFudG9lbo'), Row(album_name='My Worlds', album_uri='spotify:album:6gdLfnf2vdNlMTyhJHaDLs', artist_name='Justin Bieber', artist_uri='spotify:artist:1uNFoZAHBGtllmzznpCI3s', duration_ms=220920, pos=41, track_name='Somebody To Love', track_uri='spotify:track:4I2GqMe7L2ccMpUbnDzYLH'), Row(album_name='Move Along', album_uri='spotify:album:3PWEGZ6CYvXRnr0JCECsDe', artist_name='The All-American Rejects', artist_uri='spotify:artist:3vAaWhdBR38Q02ohXqaNHT', duration_ms=193653, pos=42, track_name='Dirty Little Secret', track_uri='spotify:track:5lDriBxJd22IhOH9zTcFrV'), Row(album_name='My Worlds', album_uri='spotify:album:6gdLfnf2vdNlMTyhJHaDLs', artist_name='Justin Bieber', artist_uri='spotify:artist:1uNFoZAHBGtllmzznpCI3s', duration_ms=213973, pos=43, track_name='Baby', track_uri='spotify:track:2eJ8ij1T3cNUKiGdcUvKhy'), Row(album_name='Be Not Nobody', album_uri='spotify:album:7D6BFTArx2ajtkKRVXIKO2', artist_name='Vanessa Carlton', artist_uri='spotify:artist:5ILrArfIV0tMURcHJN8Q07', duration_ms=237493, pos=44, track_name='A Thousand Miles', track_uri='spotify:track:5y69gQtK33qxb8a24ACkCy'), Row(album_name='Red Road', album_uri='spotify:album:2kNznk4KDkYXifzOAUDoXN', artist_name='Cris Cab', artist_uri='spotify:artist:7vWBZm3sQ8yQvfV4nXxHXK', duration_ms=201230, pos=45, track_name='Livin on Sunday', track_uri='spotify:track:1X5WGCrUMuwRFuYU1eAo2I'), Row(album_name='See You Again', album_uri='spotify:album:6SkirMQoL4QhnXOM5MH5El', artist_name='Miley Cyrus', artist_uri='spotify:artist:5YGY8feqx7naU7z4HrwZM6', duration_ms=190453, pos=46, track_name='See You Again', track_uri='spotify:track:3utIAb67sOu0QHxBE88P1M'), Row(album_name='Departure - Recharged', album_uri='spotify:album:2tDCfKFy2YW9N0IwNSRdOJ', artist_name='Jesse McCartney', artist_uri='spotify:artist:2Hjj68yyUPiC0HKEOigcEp', duration_ms=208333, pos=47, track_name='How Do You Sleep? - Featuring Ludacris', track_uri='spotify:track:3jkdQNkDTxxXtjSO4l0o1H'), Row(album_name='Camp Rock Original Soundtrack', album_uri='spotify:album:6vykWEBzBfEKYJxEFR1AQl', artist_name='Demi Lovato', artist_uri='spotify:artist:6S2OmqARrzebs0tKUEyXyp', duration_ms=189186, pos=48, track_name='This Is Me', track_uri='spotify:track:5c1sfI6wIQEsSUw0xrkFdl'), Row(album_name='Under My Skin', album_uri='spotify:album:7851Vsjv3apS52sXUik6iF', artist_name='Avril Lavigne', artist_uri='spotify:artist:0p4nmQO2msCgU4IF37Wi3j', duration_ms=242413, pos=49, track_name='My Happy Ending', track_uri='spotify:track:6sqNctd7MlJoKDOxPVCAvU'), Row(album_name='We The Kings', album_uri='spotify:album:2F1hfUOuMnOxtSfrktL8VX', artist_name='We The Kings', artist_uri='spotify:artist:3ao3jf5d70Tf4fPh2bnXVl', duration_ms=220133, pos=50, track_name='Check Yes Juliet', track_uri='spotify:track:1b7vg5T9YKR3NNqXfBYRF7'), Row(album_name='Boys Like Girls', album_uri='spotify:album:4WqgusSAgXkrjbXzqdBY68', artist_name='Boys Like Girls', artist_uri='spotify:artist:0vWCyXMrrvMlCcepuOJaGI', duration_ms=206520, pos=51, track_name='The Great Escape', track_uri='spotify:track:6GIrIt2M39wEGwjCQjGChX')] \n",
      "\n"
     ]
    }
   ],
   "source": [
    "for element in single_playlist: \n",
    "    print (type(element), element, '\\n')"
   ]
  },
  {
   "cell_type": "code",
   "execution_count": 209,
   "metadata": {},
   "outputs": [],
   "source": [
    "single_tracklist = single_entry[11]"
   ]
  },
  {
   "cell_type": "code",
   "execution_count": 210,
   "metadata": {},
   "outputs": [
    {
     "data": {
      "text/plain": [
       "52"
      ]
     },
     "execution_count": 210,
     "metadata": {},
     "output_type": "execute_result"
    }
   ],
   "source": [
    "len(single_tracklist)"
   ]
  },
  {
   "cell_type": "code",
   "execution_count": 244,
   "metadata": {},
   "outputs": [
    {
     "data": {
      "text/plain": [
       "{'album_name': 'The Cookbook',\n",
       " 'album_uri': 'spotify:album:6vV5UrXcfyQD1wu4Qo2I9K',\n",
       " 'artist_name': 'Missy Elliott',\n",
       " 'artist_uri': 'spotify:artist:2wIVse2owClT7go1WT98tk',\n",
       " 'duration_ms': 226863,\n",
       " 'pos': 0,\n",
       " 'track_name': 'Lose Control (feat. Ciara & Fat Man Scoop)',\n",
       " 'track_uri': 'spotify:track:0UaMYEvWZi0ZqiDOoHU3YI'}"
      ]
     },
     "execution_count": 244,
     "metadata": {},
     "output_type": "execute_result"
    }
   ],
   "source": [
    "single_track = single_tracklist[0].asDict()\n",
    "single_track"
   ]
  },
  {
   "cell_type": "code",
   "execution_count": 213,
   "metadata": {
    "scrolled": true
   },
   "outputs": [
    {
     "data": {
      "text/plain": [
       "{'collaborative': 'false',\n",
       " 'description': None,\n",
       " 'duration_ms': 11532414,\n",
       " 'modified_at': 1493424000,\n",
       " 'name': 'Throwbacks',\n",
       " 'num_albums': 47,\n",
       " 'num_artists': 37,\n",
       " 'num_edits': 6,\n",
       " 'num_followers': 1,\n",
       " 'num_tracks': 52,\n",
       " 'pid': 0,\n",
       " 'tracks': [Row(album_name='The Cookbook', album_uri='spotify:album:6vV5UrXcfyQD1wu4Qo2I9K', artist_name='Missy Elliott', artist_uri='spotify:artist:2wIVse2owClT7go1WT98tk', duration_ms=226863, pos=0, track_name='Lose Control (feat. Ciara & Fat Man Scoop)', track_uri='spotify:track:0UaMYEvWZi0ZqiDOoHU3YI'),\n",
       "  Row(album_name='In The Zone', album_uri='spotify:album:0z7pVBGOD7HCIB7S8eLkLI', artist_name='Britney Spears', artist_uri='spotify:artist:26dSoYclwsYLMAKD3tpOr4', duration_ms=198800, pos=1, track_name='Toxic', track_uri='spotify:track:6I9VzXrHxO9rA9A5euc8Ak'),\n",
       "  Row(album_name='Dangerously In Love (Alben für die Ewigkeit)', album_uri='spotify:album:25hVFAxTlDvXbx2X2QkUkE', artist_name='Beyoncé', artist_uri='spotify:artist:6vWDO969PvNqNYHIOW5v0m', duration_ms=235933, pos=2, track_name='Crazy In Love', track_uri='spotify:track:0WqIKmW4BTrj3eJFmnCKMv'),\n",
       "  Row(album_name='Justified', album_uri='spotify:album:6QPkyl04rXwTGlGlcYaRoW', artist_name='Justin Timberlake', artist_uri='spotify:artist:31TPClRtHm23RisEBtV3X7', duration_ms=267266, pos=3, track_name='Rock Your Body', track_uri='spotify:track:1AWQoqb9bSvzTjaLralEkT'),\n",
       "  Row(album_name='Hot Shot', album_uri='spotify:album:6NmFmPX56pcLBOFMhIiKvF', artist_name='Shaggy', artist_uri='spotify:artist:5EvFsr3kj42KNv97ZEnqij', duration_ms=227600, pos=4, track_name=\"It Wasn't Me\", track_uri='spotify:track:1lzr43nnXAijIGYnCT8M8H'),\n",
       "  Row(album_name='Confessions', album_uri='spotify:album:0vO0b1AvY49CPQyVisJLj0', artist_name='Usher', artist_uri='spotify:artist:23zg3TcAtWQy7J6upgbUnj', duration_ms=250373, pos=5, track_name='Yeah!', track_uri='spotify:track:0XUfyU2QviPAs6bxSpXYG4'),\n",
       "  Row(album_name='Confessions', album_uri='spotify:album:1RM6MGv6bcl6NrAG8PGoZk', artist_name='Usher', artist_uri='spotify:artist:23zg3TcAtWQy7J6upgbUnj', duration_ms=223440, pos=6, track_name='My Boo', track_uri='spotify:track:68vgtRHr7iZHpzGpon6Jlo'),\n",
       "  Row(album_name='PCD', album_uri='spotify:album:5x8e8UcCeOgrOzSnDGuPye', artist_name='The Pussycat Dolls', artist_uri='spotify:artist:6wPhSqRtPu1UhRCDX5yaDJ', duration_ms=225560, pos=7, track_name='Buttons', track_uri='spotify:track:3BxWKCI06eQ5Od8TY2JBeA'),\n",
       "  Row(album_name=\"The Writing's On The Wall\", album_uri='spotify:album:283NWqNsCA9GwVHrJk59CG', artist_name=\"Destiny's Child\", artist_uri='spotify:artist:1Y8cdNmUJH7yBTd9yOvr5i', duration_ms=271333, pos=8, track_name='Say My Name', track_uri='spotify:track:7H6ev70Weq6DdpZyyTmUXk'),\n",
       "  Row(album_name='Speakerboxxx/The Love Below', album_uri='spotify:album:1UsmQ3bpJTyK6ygoOOjG1r', artist_name='OutKast', artist_uri='spotify:artist:1G9G7WwrXka3Z1r7aIDjI7', duration_ms=235213, pos=9, track_name='Hey Ya! - Radio Mix / Club Mix', track_uri='spotify:track:2PpruBYCo4H7WOBJ7Q2EwM'),\n",
       "  Row(album_name='Loose', album_uri='spotify:album:2yboV2QBcVGEhcRlYuPpDT', artist_name='Nelly Furtado', artist_uri='spotify:artist:2jw70GZXlAI8QzWeY2bgRc', duration_ms=242293, pos=10, track_name='Promiscuous', track_uri='spotify:track:2gam98EZKrF9XuOkU13ApN'),\n",
       "  Row(album_name='Right Where You Want Me', album_uri='spotify:album:6022khQj4Fsvvse8f3A4lF', artist_name='Jesse McCartney', artist_uri='spotify:artist:2Hjj68yyUPiC0HKEOigcEp', duration_ms=211693, pos=11, track_name='Right Where You Want Me - Radio Edit Version', track_uri='spotify:track:4Y45aqo9QMa57rDsAJv40A'),\n",
       "  Row(album_name='Beautiful Soul', album_uri='spotify:album:2gidE8vgVOkYufANjuvj3S', artist_name='Jesse McCartney', artist_uri='spotify:artist:2Hjj68yyUPiC0HKEOigcEp', duration_ms=214226, pos=12, track_name='Beautiful Soul', track_uri='spotify:track:1HwpWwa6bnqqRhK8agG4RS'),\n",
       "  Row(album_name='Departure - Recharged', album_uri='spotify:album:2tDCfKFy2YW9N0IwNSRdOJ', artist_name='Jesse McCartney', artist_uri='spotify:artist:2Hjj68yyUPiC0HKEOigcEp', duration_ms=216880, pos=13, track_name=\"Leavin'\", track_uri='spotify:track:20ORwCJusz4KS2PbTPVNKo'),\n",
       "  Row(album_name='Cassie', album_uri='spotify:album:0j1qzjaJmsF1FkcICf3hRu', artist_name='Cassie', artist_uri='spotify:artist:27FGXRNruFoOdf1vP8dqcH', duration_ms=192213, pos=14, track_name='Me & U', track_uri='spotify:track:7k6IzwMGpxnRghE7YosnXT'),\n",
       "  Row(album_name='21', album_uri='spotify:album:4cVVEOXyUaWo7vlDWIkKsI', artist_name='Omarion', artist_uri='spotify:artist:0f5nVCcR06GX8Qikz0COtT', duration_ms=256426, pos=15, track_name='Ice Box', track_uri='spotify:track:1Bv0Yl01xBDZD4OQP93fyl'),\n",
       "  Row(album_name='Let Go', album_uri='spotify:album:7h6XeTzy0SRXDrFJeA9gO7', artist_name='Avril Lavigne', artist_uri='spotify:artist:0p4nmQO2msCgU4IF37Wi3j', duration_ms=204000, pos=16, track_name='Sk8er Boi', track_uri='spotify:track:4omisSlTk6Dsq2iQD7MA07'),\n",
       "  Row(album_name='Chris Brown', album_uri='spotify:album:49gaz5rhWWgqCw61M9700v', artist_name='Chris Brown', artist_uri='spotify:artist:7bXgB6jMjp9ATFy66eO08Z', duration_ms=229866, pos=17, track_name='Run It!', track_uri='spotify:track:7xYnUQigPoIDAMPVK79NEq'),\n",
       "  Row(album_name=\"B'Day\", album_uri='spotify:album:3MJHoQUI828kmB6IpjejbW', artist_name='Beyoncé', artist_uri='spotify:artist:6vWDO969PvNqNYHIOW5v0m', duration_ms=210453, pos=18, track_name='Check On It - feat. Bun B and Slim Thug', track_uri='spotify:track:6d8A5sAx9TfdeseDvfWNHd'),\n",
       "  Row(album_name=\"The Writing's On The Wall\", album_uri='spotify:album:283NWqNsCA9GwVHrJk59CG', artist_name=\"Destiny's Child\", artist_uri='spotify:artist:1Y8cdNmUJH7yBTd9yOvr5i', duration_ms=230200, pos=19, track_name=\"Jumpin', Jumpin'\", track_uri='spotify:track:4pmc2AxSEq6g7hPVlJCPyP'),\n",
       "  Row(album_name=\"C'Mon C'Mon\", album_uri='spotify:album:5NYcTXrRZHxNyRKVOd0vs1', artist_name='Sheryl Crow', artist_uri='spotify:artist:4TKTii6gnOnUXQHyuo9JaD', duration_ms=292306, pos=20, track_name='Soak Up The Sun', track_uri='spotify:track:215JYyyUnrJ98NK3KEwu6d'),\n",
       "  Row(album_name='Elephunk', album_uri='spotify:album:1bNyYpkDRovmErm4QeDrpJ', artist_name='The Black Eyed Peas', artist_uri='spotify:artist:1yxSLGMDHlW21z4YXirZDS', duration_ms=272533, pos=21, track_name='Where Is The Love?', track_uri='spotify:track:0uqPG793dkDDN7sCUJJIVC'),\n",
       "  Row(album_name=\"I've Never Done Anything Like This\", album_uri='spotify:album:3Q7xpHmP8k3HryE0LQdIk0', artist_name='Bowling For Soup', artist_uri='spotify:artist:5ND0mGcL9SKSjWIjPd0xIb', duration_ms=193042, pos=22, track_name=\"Stacy's Mom\", track_uri='spotify:track:19Js5ypV6JKn4DMExHQbGc'),\n",
       "  Row(album_name='Greetings From Imrie House', album_uri='spotify:album:7gZilZGYr8M7UwEeYvdAKZ', artist_name='The Click Five', artist_uri='spotify:artist:01lz5VBfkMFDteSA9pKJuP', duration_ms=234146, pos=23, track_name='Just The Girl', track_uri='spotify:track:1JURww012QnWAw0zZXi6Aa'),\n",
       "  Row(album_name='Chris Brown', album_uri='spotify:album:49gaz5rhWWgqCw61M9700v', artist_name='Chris Brown', artist_uri='spotify:artist:7bXgB6jMjp9ATFy66eO08Z', duration_ms=229040, pos=24, track_name='Yo (Excuse Me Miss)', track_uri='spotify:track:7DFnq8FYhHMCylykf6ZCxA'),\n",
       "  Row(album_name='Jonas Brothers', album_uri='spotify:album:20RAjvZ9LX2FDuDU8RDuIl', artist_name='Jonas Brothers', artist_uri='spotify:artist:7gOdHgIoIKoe4i9Tta6qdD', duration_ms=201960, pos=25, track_name='Year 3000', track_uri='spotify:track:1TfAhjzRBWzYZ8IdUV3igl'),\n",
       "  Row(album_name='Lip Gloss', album_uri='spotify:album:3vgVsm9GY3i39fZ7b1sqV5', artist_name='Lil Mama', artist_uri='spotify:artist:5qK5bOC6wLtuLhG5KvU17c', duration_ms=219773, pos=26, track_name='Lip Gloss', track_uri='spotify:track:1Y4ZdPOOgCUhBcKZOrUFiS'),\n",
       "  Row(album_name='Everytime We Touch', album_uri='spotify:album:5DvuKZTzEKjm0oUuhP237C', artist_name='Cascada', artist_uri='spotify:artist:0N0d3kjwdY2h7UVuTdJGfp', duration_ms=199120, pos=27, track_name='Everytime We Touch - Radio Edit', track_uri='spotify:track:6MjljecHzHelUDismyKkba'),\n",
       "  Row(album_name='Jason Derulo', album_uri='spotify:album:0aVJmVAeEx78nAA1rAKYf7', artist_name='Jason Derulo', artist_uri='spotify:artist:07YZf4WDAMNwqr4jfgOZ8y', duration_ms=221253, pos=28, track_name='Whatcha Say', track_uri='spotify:track:67T6l4q3zVjC5nZZPXByU8'),\n",
       "  Row(album_name='Year Of The Gentleman', album_uri='spotify:album:6dTn9vJSxVTIGm4Cu5dH4x', artist_name='Ne-Yo', artist_uri='spotify:artist:21E3waRsmPlU7jZsS13rcj', duration_ms=232000, pos=29, track_name='Miss Independent', track_uri='spotify:track:34ceTg8ChN5HjrqiIYCn9Q'),\n",
       "  Row(album_name='The Time Of Our Lives', album_uri='spotify:album:64aKkqxc3Ur2LYIKeS5osS', artist_name='Miley Cyrus', artist_uri='spotify:artist:5YGY8feqx7naU7z4HrwZM6', duration_ms=202066, pos=30, track_name='Party In The U.S.A.', track_uri='spotify:track:5Q0Nhxo0l2bP3pNjpGJwV1'),\n",
       "  Row(album_name='Boys Like Girls', album_uri='spotify:album:4WqgusSAgXkrjbXzqdBY68', artist_name='Boys Like Girls', artist_uri='spotify:artist:0vWCyXMrrvMlCcepuOJaGI', duration_ms=206520, pos=31, track_name='The Great Escape', track_uri='spotify:track:6GIrIt2M39wEGwjCQjGChX'),\n",
       "  Row(album_name='Replay', album_uri='spotify:album:44hyrGuZKAvITbmrlhryf8', artist_name='Iyaz', artist_uri='spotify:artist:5tKXB9uuebKE34yowVaU3C', duration_ms=182306, pos=32, track_name='Replay', track_uri='spotify:track:4E5P1XyAFtrjpiIxkydly4'),\n",
       "  Row(album_name='Exclusive - The Forever Edition', album_uri='spotify:album:1UtE4zAlSE2TlKmTFgrTg5', artist_name='Chris Brown', artist_uri='spotify:artist:7bXgB6jMjp9ATFy66eO08Z', duration_ms=277106, pos=33, track_name='Forever', track_uri='spotify:track:3H1LCvO3fVsK2HPguhbml0'),\n",
       "  Row(album_name='Animal', album_uri='spotify:album:5peRwC6pQh8eaoIPtvmmOB', artist_name='Kesha', artist_uri='spotify:artist:6LqNN22kT3074XbTVUrhzX', duration_ms=187133, pos=34, track_name='Your Love Is My Drug', track_uri='spotify:track:3uoQULcUWfnt6nc6J7Vgai'),\n",
       "  Row(album_name='Year Of The Gentleman', album_uri='spotify:album:1nv3KEXZPmcwOXMoLTs1vn', artist_name='Ne-Yo', artist_uri='spotify:artist:21E3waRsmPlU7jZsS13rcj', duration_ms=234360, pos=35, track_name='Closer', track_uri='spotify:track:2nbClS09zsIAqNkshg6jnp'),\n",
       "  Row(album_name='My World', album_uri='spotify:album:1rG5TDs3jYh6OU753I54CI', artist_name='Justin Bieber', artist_uri='spotify:artist:1uNFoZAHBGtllmzznpCI3s', duration_ms=229106, pos=36, track_name='One Less Lonely Girl', track_uri='spotify:track:69ghzc538EQSVon2Gm3wrr'),\n",
       "  Row(album_name='Kala', album_uri='spotify:album:1Lymt1abGCr3J06bbnmWca', artist_name='M.I.A.', artist_uri='spotify:artist:0QJIPDAEDILuo8AIq3pMuU', duration_ms=203760, pos=37, track_name='Paper Planes', track_uri='spotify:track:1kusepF3AacIEtUTYrw4GV'),\n",
       "  Row(album_name='Hot Fuss', album_uri='spotify:album:4undIeGmofnAYKhnDclN1w', artist_name='The Killers', artist_uri='spotify:artist:0C0XlULifJtAgn6ZNCW2eu', duration_ms=222586, pos=38, track_name='Mr. Brightside', track_uri='spotify:track:7oK9VyNzrYvRFo7nQEYkWN'),\n",
       "  Row(album_name='Enema Of The State', album_uri='spotify:album:1fF8kYX49s5Ufv4XEY5sjW', artist_name='blink-182', artist_uri='spotify:artist:6FBDaR13swtiWwGhX1WQsP', duration_ms=168000, pos=39, track_name='All The Small Things', track_uri='spotify:track:12qZHAeOyTf93YAWvGDTat'),\n",
       "  Row(album_name='PCD', album_uri='spotify:album:0ylxpXE00fVxh6d60tevT8', artist_name='The Pussycat Dolls', artist_uri='spotify:artist:6wPhSqRtPu1UhRCDX5yaDJ', duration_ms=229360, pos=40, track_name='Beep', track_uri='spotify:track:2jFlMILIQzs7lSFudG9lbo'),\n",
       "  Row(album_name='My Worlds', album_uri='spotify:album:6gdLfnf2vdNlMTyhJHaDLs', artist_name='Justin Bieber', artist_uri='spotify:artist:1uNFoZAHBGtllmzznpCI3s', duration_ms=220920, pos=41, track_name='Somebody To Love', track_uri='spotify:track:4I2GqMe7L2ccMpUbnDzYLH'),\n",
       "  Row(album_name='Move Along', album_uri='spotify:album:3PWEGZ6CYvXRnr0JCECsDe', artist_name='The All-American Rejects', artist_uri='spotify:artist:3vAaWhdBR38Q02ohXqaNHT', duration_ms=193653, pos=42, track_name='Dirty Little Secret', track_uri='spotify:track:5lDriBxJd22IhOH9zTcFrV'),\n",
       "  Row(album_name='My Worlds', album_uri='spotify:album:6gdLfnf2vdNlMTyhJHaDLs', artist_name='Justin Bieber', artist_uri='spotify:artist:1uNFoZAHBGtllmzznpCI3s', duration_ms=213973, pos=43, track_name='Baby', track_uri='spotify:track:2eJ8ij1T3cNUKiGdcUvKhy'),\n",
       "  Row(album_name='Be Not Nobody', album_uri='spotify:album:7D6BFTArx2ajtkKRVXIKO2', artist_name='Vanessa Carlton', artist_uri='spotify:artist:5ILrArfIV0tMURcHJN8Q07', duration_ms=237493, pos=44, track_name='A Thousand Miles', track_uri='spotify:track:5y69gQtK33qxb8a24ACkCy'),\n",
       "  Row(album_name='Red Road', album_uri='spotify:album:2kNznk4KDkYXifzOAUDoXN', artist_name='Cris Cab', artist_uri='spotify:artist:7vWBZm3sQ8yQvfV4nXxHXK', duration_ms=201230, pos=45, track_name='Livin on Sunday', track_uri='spotify:track:1X5WGCrUMuwRFuYU1eAo2I'),\n",
       "  Row(album_name='See You Again', album_uri='spotify:album:6SkirMQoL4QhnXOM5MH5El', artist_name='Miley Cyrus', artist_uri='spotify:artist:5YGY8feqx7naU7z4HrwZM6', duration_ms=190453, pos=46, track_name='See You Again', track_uri='spotify:track:3utIAb67sOu0QHxBE88P1M'),\n",
       "  Row(album_name='Departure - Recharged', album_uri='spotify:album:2tDCfKFy2YW9N0IwNSRdOJ', artist_name='Jesse McCartney', artist_uri='spotify:artist:2Hjj68yyUPiC0HKEOigcEp', duration_ms=208333, pos=47, track_name='How Do You Sleep? - Featuring Ludacris', track_uri='spotify:track:3jkdQNkDTxxXtjSO4l0o1H'),\n",
       "  Row(album_name='Camp Rock Original Soundtrack', album_uri='spotify:album:6vykWEBzBfEKYJxEFR1AQl', artist_name='Demi Lovato', artist_uri='spotify:artist:6S2OmqARrzebs0tKUEyXyp', duration_ms=189186, pos=48, track_name='This Is Me', track_uri='spotify:track:5c1sfI6wIQEsSUw0xrkFdl'),\n",
       "  Row(album_name='Under My Skin', album_uri='spotify:album:7851Vsjv3apS52sXUik6iF', artist_name='Avril Lavigne', artist_uri='spotify:artist:0p4nmQO2msCgU4IF37Wi3j', duration_ms=242413, pos=49, track_name='My Happy Ending', track_uri='spotify:track:6sqNctd7MlJoKDOxPVCAvU'),\n",
       "  Row(album_name='We The Kings', album_uri='spotify:album:2F1hfUOuMnOxtSfrktL8VX', artist_name='We The Kings', artist_uri='spotify:artist:3ao3jf5d70Tf4fPh2bnXVl', duration_ms=220133, pos=50, track_name='Check Yes Juliet', track_uri='spotify:track:1b7vg5T9YKR3NNqXfBYRF7'),\n",
       "  Row(album_name='Boys Like Girls', album_uri='spotify:album:4WqgusSAgXkrjbXzqdBY68', artist_name='Boys Like Girls', artist_uri='spotify:artist:0vWCyXMrrvMlCcepuOJaGI', duration_ms=206520, pos=51, track_name='The Great Escape', track_uri='spotify:track:6GIrIt2M39wEGwjCQjGChX')]}"
      ]
     },
     "execution_count": 213,
     "metadata": {},
     "output_type": "execute_result"
    }
   ],
   "source": [
    "single_playlist.asDict()"
   ]
  },
  {
   "cell_type": "code",
   "execution_count": 252,
   "metadata": {},
   "outputs": [
    {
     "data": {
      "text/plain": [
       "['collaborative',\n",
       " 'description',\n",
       " 'duration_ms',\n",
       " 'modified_at',\n",
       " 'name',\n",
       " 'num_albums',\n",
       " 'num_artists',\n",
       " 'num_edits',\n",
       " 'num_followers',\n",
       " 'num_tracks',\n",
       " 'pid',\n",
       " 'tracks']"
      ]
     },
     "execution_count": 252,
     "metadata": {},
     "output_type": "execute_result"
    }
   ],
   "source": [
    "column_names = single_playlist.__fields__\n",
    "column_names"
   ]
  },
  {
   "cell_type": "code",
   "execution_count": 253,
   "metadata": {},
   "outputs": [],
   "source": [
    "pframe = pd.DataFrame(playlist, columns = column_names)"
   ]
  },
  {
   "cell_type": "code",
   "execution_count": 256,
   "metadata": {},
   "outputs": [
    {
     "data": {
      "text/html": [
       "<div>\n",
       "<style scoped>\n",
       "    .dataframe tbody tr th:only-of-type {\n",
       "        vertical-align: middle;\n",
       "    }\n",
       "\n",
       "    .dataframe tbody tr th {\n",
       "        vertical-align: top;\n",
       "    }\n",
       "\n",
       "    .dataframe thead th {\n",
       "        text-align: right;\n",
       "    }\n",
       "</style>\n",
       "<table border=\"1\" class=\"dataframe\">\n",
       "  <thead>\n",
       "    <tr style=\"text-align: right;\">\n",
       "      <th></th>\n",
       "      <th>collaborative</th>\n",
       "      <th>description</th>\n",
       "      <th>duration_ms</th>\n",
       "      <th>modified_at</th>\n",
       "      <th>name</th>\n",
       "      <th>num_albums</th>\n",
       "      <th>num_artists</th>\n",
       "      <th>num_edits</th>\n",
       "      <th>num_followers</th>\n",
       "      <th>num_tracks</th>\n",
       "      <th>pid</th>\n",
       "      <th>tracks</th>\n",
       "    </tr>\n",
       "  </thead>\n",
       "  <tbody>\n",
       "    <tr>\n",
       "      <th>0</th>\n",
       "      <td>false</td>\n",
       "      <td>None</td>\n",
       "      <td>11532414</td>\n",
       "      <td>1493424000</td>\n",
       "      <td>Throwbacks</td>\n",
       "      <td>47</td>\n",
       "      <td>37</td>\n",
       "      <td>6</td>\n",
       "      <td>1</td>\n",
       "      <td>52</td>\n",
       "      <td>0</td>\n",
       "      <td>[(The Cookbook, spotify:album:6vV5UrXcfyQD1wu4...</td>\n",
       "    </tr>\n",
       "    <tr>\n",
       "      <th>1</th>\n",
       "      <td>false</td>\n",
       "      <td>None</td>\n",
       "      <td>11656470</td>\n",
       "      <td>1506556800</td>\n",
       "      <td>Awesome Playlist</td>\n",
       "      <td>23</td>\n",
       "      <td>21</td>\n",
       "      <td>5</td>\n",
       "      <td>1</td>\n",
       "      <td>39</td>\n",
       "      <td>1</td>\n",
       "      <td>[(Eye Of The Tiger, spotify:album:4PT9VulQaQP6...</td>\n",
       "    </tr>\n",
       "    <tr>\n",
       "      <th>2</th>\n",
       "      <td>false</td>\n",
       "      <td>None</td>\n",
       "      <td>14039958</td>\n",
       "      <td>1505692800</td>\n",
       "      <td>korean</td>\n",
       "      <td>51</td>\n",
       "      <td>31</td>\n",
       "      <td>18</td>\n",
       "      <td>1</td>\n",
       "      <td>64</td>\n",
       "      <td>2</td>\n",
       "      <td>[(On And On, spotify:album:7hq1c0ZrLiSKxzhoRac...</td>\n",
       "    </tr>\n",
       "    <tr>\n",
       "      <th>3</th>\n",
       "      <td>false</td>\n",
       "      <td>None</td>\n",
       "      <td>28926058</td>\n",
       "      <td>1501027200</td>\n",
       "      <td>mat</td>\n",
       "      <td>107</td>\n",
       "      <td>86</td>\n",
       "      <td>4</td>\n",
       "      <td>1</td>\n",
       "      <td>126</td>\n",
       "      <td>3</td>\n",
       "      <td>[(French Festival, spotify:album:0T9YCy8TruLD6...</td>\n",
       "    </tr>\n",
       "    <tr>\n",
       "      <th>4</th>\n",
       "      <td>false</td>\n",
       "      <td>None</td>\n",
       "      <td>4335282</td>\n",
       "      <td>1401667200</td>\n",
       "      <td>90s</td>\n",
       "      <td>16</td>\n",
       "      <td>16</td>\n",
       "      <td>7</td>\n",
       "      <td>2</td>\n",
       "      <td>17</td>\n",
       "      <td>4</td>\n",
       "      <td>[(Mellon Collie and the Infinite Sadness, spot...</td>\n",
       "    </tr>\n",
       "    <tr>\n",
       "      <th>...</th>\n",
       "      <td>...</td>\n",
       "      <td>...</td>\n",
       "      <td>...</td>\n",
       "      <td>...</td>\n",
       "      <td>...</td>\n",
       "      <td>...</td>\n",
       "      <td>...</td>\n",
       "      <td>...</td>\n",
       "      <td>...</td>\n",
       "      <td>...</td>\n",
       "      <td>...</td>\n",
       "      <td>...</td>\n",
       "    </tr>\n",
       "    <tr>\n",
       "      <th>995</th>\n",
       "      <td>false</td>\n",
       "      <td>None</td>\n",
       "      <td>9917901</td>\n",
       "      <td>1507852800</td>\n",
       "      <td>old</td>\n",
       "      <td>40</td>\n",
       "      <td>36</td>\n",
       "      <td>8</td>\n",
       "      <td>1</td>\n",
       "      <td>41</td>\n",
       "      <td>995</td>\n",
       "      <td>[(Walkin' On Sunshine (Re-Recorded Versions), ...</td>\n",
       "    </tr>\n",
       "    <tr>\n",
       "      <th>996</th>\n",
       "      <td>false</td>\n",
       "      <td>None</td>\n",
       "      <td>3699248</td>\n",
       "      <td>1479254400</td>\n",
       "      <td>Daze</td>\n",
       "      <td>17</td>\n",
       "      <td>15</td>\n",
       "      <td>13</td>\n",
       "      <td>1</td>\n",
       "      <td>17</td>\n",
       "      <td>996</td>\n",
       "      <td>[(PARTYNEXTDOOR 3 (P3), spotify:album:2FXGUAES...</td>\n",
       "    </tr>\n",
       "    <tr>\n",
       "      <th>997</th>\n",
       "      <td>false</td>\n",
       "      <td>None</td>\n",
       "      <td>27538723</td>\n",
       "      <td>1410307200</td>\n",
       "      <td>rap</td>\n",
       "      <td>98</td>\n",
       "      <td>82</td>\n",
       "      <td>63</td>\n",
       "      <td>1</td>\n",
       "      <td>119</td>\n",
       "      <td>997</td>\n",
       "      <td>[(UP!, spotify:album:4I8VoaNOYQn92D8ejMPGlw, L...</td>\n",
       "    </tr>\n",
       "    <tr>\n",
       "      <th>998</th>\n",
       "      <td>false</td>\n",
       "      <td>None</td>\n",
       "      <td>24950143</td>\n",
       "      <td>1507939200</td>\n",
       "      <td>Country</td>\n",
       "      <td>75</td>\n",
       "      <td>40</td>\n",
       "      <td>37</td>\n",
       "      <td>1</td>\n",
       "      <td>108</td>\n",
       "      <td>998</td>\n",
       "      <td>[(Hunter Hayes (Encore), spotify:album:5hVo5O3...</td>\n",
       "    </tr>\n",
       "    <tr>\n",
       "      <th>999</th>\n",
       "      <td>false</td>\n",
       "      <td>None</td>\n",
       "      <td>9065801</td>\n",
       "      <td>1507766400</td>\n",
       "      <td>thinking of you</td>\n",
       "      <td>43</td>\n",
       "      <td>37</td>\n",
       "      <td>34</td>\n",
       "      <td>1</td>\n",
       "      <td>44</td>\n",
       "      <td>999</td>\n",
       "      <td>[(Acoustic, spotify:album:33oxbqzo7poSO2IbSMqr...</td>\n",
       "    </tr>\n",
       "  </tbody>\n",
       "</table>\n",
       "<p>1000 rows × 12 columns</p>\n",
       "</div>"
      ],
      "text/plain": [
       "    collaborative description  duration_ms  modified_at              name  \\\n",
       "0           false        None     11532414   1493424000        Throwbacks   \n",
       "1           false        None     11656470   1506556800  Awesome Playlist   \n",
       "2           false        None     14039958   1505692800           korean    \n",
       "3           false        None     28926058   1501027200               mat   \n",
       "4           false        None      4335282   1401667200               90s   \n",
       "..            ...         ...          ...          ...               ...   \n",
       "995         false        None      9917901   1507852800               old   \n",
       "996         false        None      3699248   1479254400              Daze   \n",
       "997         false        None     27538723   1410307200               rap   \n",
       "998         false        None     24950143   1507939200           Country   \n",
       "999         false        None      9065801   1507766400   thinking of you   \n",
       "\n",
       "     num_albums  num_artists  num_edits  num_followers  num_tracks  pid  \\\n",
       "0            47           37          6              1          52    0   \n",
       "1            23           21          5              1          39    1   \n",
       "2            51           31         18              1          64    2   \n",
       "3           107           86          4              1         126    3   \n",
       "4            16           16          7              2          17    4   \n",
       "..          ...          ...        ...            ...         ...  ...   \n",
       "995          40           36          8              1          41  995   \n",
       "996          17           15         13              1          17  996   \n",
       "997          98           82         63              1         119  997   \n",
       "998          75           40         37              1         108  998   \n",
       "999          43           37         34              1          44  999   \n",
       "\n",
       "                                                tracks  \n",
       "0    [(The Cookbook, spotify:album:6vV5UrXcfyQD1wu4...  \n",
       "1    [(Eye Of The Tiger, spotify:album:4PT9VulQaQP6...  \n",
       "2    [(On And On, spotify:album:7hq1c0ZrLiSKxzhoRac...  \n",
       "3    [(French Festival, spotify:album:0T9YCy8TruLD6...  \n",
       "4    [(Mellon Collie and the Infinite Sadness, spot...  \n",
       "..                                                 ...  \n",
       "995  [(Walkin' On Sunshine (Re-Recorded Versions), ...  \n",
       "996  [(PARTYNEXTDOOR 3 (P3), spotify:album:2FXGUAES...  \n",
       "997  [(UP!, spotify:album:4I8VoaNOYQn92D8ejMPGlw, L...  \n",
       "998  [(Hunter Hayes (Encore), spotify:album:5hVo5O3...  \n",
       "999  [(Acoustic, spotify:album:33oxbqzo7poSO2IbSMqr...  \n",
       "\n",
       "[1000 rows x 12 columns]"
      ]
     },
     "execution_count": 256,
     "metadata": {},
     "output_type": "execute_result"
    }
   ],
   "source": [
    "pframe"
   ]
  },
  {
   "cell_type": "code",
   "execution_count": 268,
   "metadata": {},
   "outputs": [],
   "source": [
    "cleaned_frame = pframe.drop('tracks', axis=1).copy()\n",
    "cleaned_frame.drop('name', axis=1, inplace=True)\n",
    "cleaned_frame.drop('description', axis=1, inplace=True)\n",
    "cleaned_frame.drop('modified_at', axis=1, inplace=True)"
   ]
  },
  {
   "cell_type": "code",
   "execution_count": 269,
   "metadata": {},
   "outputs": [
    {
     "data": {
      "text/html": [
       "<div>\n",
       "<style scoped>\n",
       "    .dataframe tbody tr th:only-of-type {\n",
       "        vertical-align: middle;\n",
       "    }\n",
       "\n",
       "    .dataframe tbody tr th {\n",
       "        vertical-align: top;\n",
       "    }\n",
       "\n",
       "    .dataframe thead th {\n",
       "        text-align: right;\n",
       "    }\n",
       "</style>\n",
       "<table border=\"1\" class=\"dataframe\">\n",
       "  <thead>\n",
       "    <tr style=\"text-align: right;\">\n",
       "      <th></th>\n",
       "      <th>collaborative</th>\n",
       "      <th>duration_ms</th>\n",
       "      <th>num_albums</th>\n",
       "      <th>num_artists</th>\n",
       "      <th>num_edits</th>\n",
       "      <th>num_followers</th>\n",
       "      <th>num_tracks</th>\n",
       "      <th>pid</th>\n",
       "    </tr>\n",
       "  </thead>\n",
       "  <tbody>\n",
       "    <tr>\n",
       "      <th>0</th>\n",
       "      <td>false</td>\n",
       "      <td>11532414</td>\n",
       "      <td>47</td>\n",
       "      <td>37</td>\n",
       "      <td>6</td>\n",
       "      <td>1</td>\n",
       "      <td>52</td>\n",
       "      <td>0</td>\n",
       "    </tr>\n",
       "    <tr>\n",
       "      <th>1</th>\n",
       "      <td>false</td>\n",
       "      <td>11656470</td>\n",
       "      <td>23</td>\n",
       "      <td>21</td>\n",
       "      <td>5</td>\n",
       "      <td>1</td>\n",
       "      <td>39</td>\n",
       "      <td>1</td>\n",
       "    </tr>\n",
       "    <tr>\n",
       "      <th>2</th>\n",
       "      <td>false</td>\n",
       "      <td>14039958</td>\n",
       "      <td>51</td>\n",
       "      <td>31</td>\n",
       "      <td>18</td>\n",
       "      <td>1</td>\n",
       "      <td>64</td>\n",
       "      <td>2</td>\n",
       "    </tr>\n",
       "    <tr>\n",
       "      <th>3</th>\n",
       "      <td>false</td>\n",
       "      <td>28926058</td>\n",
       "      <td>107</td>\n",
       "      <td>86</td>\n",
       "      <td>4</td>\n",
       "      <td>1</td>\n",
       "      <td>126</td>\n",
       "      <td>3</td>\n",
       "    </tr>\n",
       "    <tr>\n",
       "      <th>4</th>\n",
       "      <td>false</td>\n",
       "      <td>4335282</td>\n",
       "      <td>16</td>\n",
       "      <td>16</td>\n",
       "      <td>7</td>\n",
       "      <td>2</td>\n",
       "      <td>17</td>\n",
       "      <td>4</td>\n",
       "    </tr>\n",
       "    <tr>\n",
       "      <th>...</th>\n",
       "      <td>...</td>\n",
       "      <td>...</td>\n",
       "      <td>...</td>\n",
       "      <td>...</td>\n",
       "      <td>...</td>\n",
       "      <td>...</td>\n",
       "      <td>...</td>\n",
       "      <td>...</td>\n",
       "    </tr>\n",
       "    <tr>\n",
       "      <th>995</th>\n",
       "      <td>false</td>\n",
       "      <td>9917901</td>\n",
       "      <td>40</td>\n",
       "      <td>36</td>\n",
       "      <td>8</td>\n",
       "      <td>1</td>\n",
       "      <td>41</td>\n",
       "      <td>995</td>\n",
       "    </tr>\n",
       "    <tr>\n",
       "      <th>996</th>\n",
       "      <td>false</td>\n",
       "      <td>3699248</td>\n",
       "      <td>17</td>\n",
       "      <td>15</td>\n",
       "      <td>13</td>\n",
       "      <td>1</td>\n",
       "      <td>17</td>\n",
       "      <td>996</td>\n",
       "    </tr>\n",
       "    <tr>\n",
       "      <th>997</th>\n",
       "      <td>false</td>\n",
       "      <td>27538723</td>\n",
       "      <td>98</td>\n",
       "      <td>82</td>\n",
       "      <td>63</td>\n",
       "      <td>1</td>\n",
       "      <td>119</td>\n",
       "      <td>997</td>\n",
       "    </tr>\n",
       "    <tr>\n",
       "      <th>998</th>\n",
       "      <td>false</td>\n",
       "      <td>24950143</td>\n",
       "      <td>75</td>\n",
       "      <td>40</td>\n",
       "      <td>37</td>\n",
       "      <td>1</td>\n",
       "      <td>108</td>\n",
       "      <td>998</td>\n",
       "    </tr>\n",
       "    <tr>\n",
       "      <th>999</th>\n",
       "      <td>false</td>\n",
       "      <td>9065801</td>\n",
       "      <td>43</td>\n",
       "      <td>37</td>\n",
       "      <td>34</td>\n",
       "      <td>1</td>\n",
       "      <td>44</td>\n",
       "      <td>999</td>\n",
       "    </tr>\n",
       "  </tbody>\n",
       "</table>\n",
       "<p>1000 rows × 8 columns</p>\n",
       "</div>"
      ],
      "text/plain": [
       "    collaborative  duration_ms  num_albums  num_artists  num_edits  \\\n",
       "0           false     11532414          47           37          6   \n",
       "1           false     11656470          23           21          5   \n",
       "2           false     14039958          51           31         18   \n",
       "3           false     28926058         107           86          4   \n",
       "4           false      4335282          16           16          7   \n",
       "..            ...          ...         ...          ...        ...   \n",
       "995         false      9917901          40           36          8   \n",
       "996         false      3699248          17           15         13   \n",
       "997         false     27538723          98           82         63   \n",
       "998         false     24950143          75           40         37   \n",
       "999         false      9065801          43           37         34   \n",
       "\n",
       "     num_followers  num_tracks  pid  \n",
       "0                1          52    0  \n",
       "1                1          39    1  \n",
       "2                1          64    2  \n",
       "3                1         126    3  \n",
       "4                2          17    4  \n",
       "..             ...         ...  ...  \n",
       "995              1          41  995  \n",
       "996              1          17  996  \n",
       "997              1         119  997  \n",
       "998              1         108  998  \n",
       "999              1          44  999  \n",
       "\n",
       "[1000 rows x 8 columns]"
      ]
     },
     "execution_count": 269,
     "metadata": {},
     "output_type": "execute_result"
    }
   ],
   "source": [
    "cleaned_frame"
   ]
  },
  {
   "cell_type": "code",
   "execution_count": 271,
   "metadata": {},
   "outputs": [],
   "source": [
    "# COLUMNS OF INTEREST ISOLATED INTO CLEAN FRAME IN 'df' VARIABLE:\n",
    "df = cleaned_frame"
   ]
  },
  {
   "cell_type": "code",
   "execution_count": 273,
   "metadata": {},
   "outputs": [
    {
     "data": {
      "text/plain": [
       "<matplotlib.collections.PathCollection at 0x7f111acb2a90>"
      ]
     },
     "execution_count": 273,
     "metadata": {},
     "output_type": "execute_result"
    },
    {
     "data": {
      "image/png": "[encoded data removed]",
      "text/plain": [
       "<Figure size 432x288 with 1 Axes>"
      ]
     },
     "metadata": {
      "needs_background": "light"
     },
     "output_type": "display_data"
    }
   ],
   "source": [
    "# comparing number of edits to number of followers. Data does not look interesting. \n",
    "plt.scatter(df.num_edits, df.num_followers)"
   ]
  },
  {
   "cell_type": "code",
   "execution_count": 277,
   "metadata": {},
   "outputs": [
    {
     "data": {
      "text/plain": [
       "<matplotlib.collections.PathCollection at 0x7f11196d8370>"
      ]
     },
     "execution_count": 277,
     "metadata": {},
     "output_type": "execute_result"
    },
    {
     "data": {
      "image/png": "[encoded data removed]",
      "text/plain": [
       "<Figure size 432x288 with 1 Axes>"
      ]
     },
     "metadata": {
      "needs_background": "light"
     },
     "output_type": "display_data"
    }
   ],
   "source": [
    "#comparing number of artists to number of tracks (playlist diversity?) - seems interesting, consistent ratio? \n",
    "plt.scatter(df.num_artists, df.num_tracks)\n",
    "#explore plotting the line of completely diverse songs\n",
    "#entropy of a group: think of a way to score the diversity numerically? (distance from the 1:1 ratio line, or, more simply: ratio of artists to tracks)"
   ]
  },
  {
   "cell_type": "code",
   "execution_count": 278,
   "metadata": {},
   "outputs": [
    {
     "data": {
      "text/plain": [
       "(array([287., 235., 157.,  94.,  68.,  54.,  34.,  28.,  24.,  19.]),\n",
       " array([  5.,  29.,  53.,  77., 101., 125., 149., 173., 197., 221., 245.]),\n",
       " <BarContainer object of 10 artists>)"
      ]
     },
     "execution_count": 278,
     "metadata": {},
     "output_type": "execute_result"
    },
    {
     "data": {
      "image/png": "[encoded data removed]",
      "text/plain": [
       "<Figure size 432x288 with 1 Axes>"
      ]
     },
     "metadata": {
      "needs_background": "light"
     },
     "output_type": "display_data"
    }
   ],
   "source": [
    "#looking at number of tracks\n",
    "plt.hist(df.num_tracks)"
   ]
  },
  {
   "cell_type": "code",
   "execution_count": 279,
   "metadata": {},
   "outputs": [
    {
     "data": {
      "text/plain": [
       "(array([348., 256., 155.,  97.,  66.,  34.,  20.,  12.,   8.,   4.]),\n",
       " array([  3. ,  20.2,  37.4,  54.6,  71.8,  89. , 106.2, 123.4, 140.6,\n",
       "        157.8, 175. ]),\n",
       " <BarContainer object of 10 artists>)"
      ]
     },
     "execution_count": 279,
     "metadata": {},
     "output_type": "execute_result"
    },
    {
     "data": {
      "image/png": "[encoded data removed]",
      "text/plain": [
       "<Figure size 432x288 with 1 Axes>"
      ]
     },
     "metadata": {
      "needs_background": "light"
     },
     "output_type": "display_data"
    }
   ],
   "source": [
    "#looking at number of artists per playlist\n",
    "plt.hist(df.num_artists)"
   ]
  },
  {
   "cell_type": "code",
   "execution_count": 280,
   "metadata": {},
   "outputs": [],
   "source": [
    "df['diversity_ratio'] = df['num_artists'] / df['num_tracks']"
   ]
  },
  {
   "cell_type": "code",
   "execution_count": 281,
   "metadata": {},
   "outputs": [
    {
     "data": {
      "text/html": [
       "<div>\n",
       "<style scoped>\n",
       "    .dataframe tbody tr th:only-of-type {\n",
       "        vertical-align: middle;\n",
       "    }\n",
       "\n",
       "    .dataframe tbody tr th {\n",
       "        vertical-align: top;\n",
       "    }\n",
       "\n",
       "    .dataframe thead th {\n",
       "        text-align: right;\n",
       "    }\n",
       "</style>\n",
       "<table border=\"1\" class=\"dataframe\">\n",
       "  <thead>\n",
       "    <tr style=\"text-align: right;\">\n",
       "      <th></th>\n",
       "      <th>collaborative</th>\n",
       "      <th>duration_ms</th>\n",
       "      <th>num_albums</th>\n",
       "      <th>num_artists</th>\n",
       "      <th>num_edits</th>\n",
       "      <th>num_followers</th>\n",
       "      <th>num_tracks</th>\n",
       "      <th>pid</th>\n",
       "      <th>diversity_ratio</th>\n",
       "    </tr>\n",
       "  </thead>\n",
       "  <tbody>\n",
       "    <tr>\n",
       "      <th>0</th>\n",
       "      <td>false</td>\n",
       "      <td>11532414</td>\n",
       "      <td>47</td>\n",
       "      <td>37</td>\n",
       "      <td>6</td>\n",
       "      <td>1</td>\n",
       "      <td>52</td>\n",
       "      <td>0</td>\n",
       "      <td>0.711538</td>\n",
       "    </tr>\n",
       "    <tr>\n",
       "      <th>1</th>\n",
       "      <td>false</td>\n",
       "      <td>11656470</td>\n",
       "      <td>23</td>\n",
       "      <td>21</td>\n",
       "      <td>5</td>\n",
       "      <td>1</td>\n",
       "      <td>39</td>\n",
       "      <td>1</td>\n",
       "      <td>0.538462</td>\n",
       "    </tr>\n",
       "    <tr>\n",
       "      <th>2</th>\n",
       "      <td>false</td>\n",
       "      <td>14039958</td>\n",
       "      <td>51</td>\n",
       "      <td>31</td>\n",
       "      <td>18</td>\n",
       "      <td>1</td>\n",
       "      <td>64</td>\n",
       "      <td>2</td>\n",
       "      <td>0.484375</td>\n",
       "    </tr>\n",
       "    <tr>\n",
       "      <th>3</th>\n",
       "      <td>false</td>\n",
       "      <td>28926058</td>\n",
       "      <td>107</td>\n",
       "      <td>86</td>\n",
       "      <td>4</td>\n",
       "      <td>1</td>\n",
       "      <td>126</td>\n",
       "      <td>3</td>\n",
       "      <td>0.682540</td>\n",
       "    </tr>\n",
       "    <tr>\n",
       "      <th>4</th>\n",
       "      <td>false</td>\n",
       "      <td>4335282</td>\n",
       "      <td>16</td>\n",
       "      <td>16</td>\n",
       "      <td>7</td>\n",
       "      <td>2</td>\n",
       "      <td>17</td>\n",
       "      <td>4</td>\n",
       "      <td>0.941176</td>\n",
       "    </tr>\n",
       "    <tr>\n",
       "      <th>...</th>\n",
       "      <td>...</td>\n",
       "      <td>...</td>\n",
       "      <td>...</td>\n",
       "      <td>...</td>\n",
       "      <td>...</td>\n",
       "      <td>...</td>\n",
       "      <td>...</td>\n",
       "      <td>...</td>\n",
       "      <td>...</td>\n",
       "    </tr>\n",
       "    <tr>\n",
       "      <th>995</th>\n",
       "      <td>false</td>\n",
       "      <td>9917901</td>\n",
       "      <td>40</td>\n",
       "      <td>36</td>\n",
       "      <td>8</td>\n",
       "      <td>1</td>\n",
       "      <td>41</td>\n",
       "      <td>995</td>\n",
       "      <td>0.878049</td>\n",
       "    </tr>\n",
       "    <tr>\n",
       "      <th>996</th>\n",
       "      <td>false</td>\n",
       "      <td>3699248</td>\n",
       "      <td>17</td>\n",
       "      <td>15</td>\n",
       "      <td>13</td>\n",
       "      <td>1</td>\n",
       "      <td>17</td>\n",
       "      <td>996</td>\n",
       "      <td>0.882353</td>\n",
       "    </tr>\n",
       "    <tr>\n",
       "      <th>997</th>\n",
       "      <td>false</td>\n",
       "      <td>27538723</td>\n",
       "      <td>98</td>\n",
       "      <td>82</td>\n",
       "      <td>63</td>\n",
       "      <td>1</td>\n",
       "      <td>119</td>\n",
       "      <td>997</td>\n",
       "      <td>0.689076</td>\n",
       "    </tr>\n",
       "    <tr>\n",
       "      <th>998</th>\n",
       "      <td>false</td>\n",
       "      <td>24950143</td>\n",
       "      <td>75</td>\n",
       "      <td>40</td>\n",
       "      <td>37</td>\n",
       "      <td>1</td>\n",
       "      <td>108</td>\n",
       "      <td>998</td>\n",
       "      <td>0.370370</td>\n",
       "    </tr>\n",
       "    <tr>\n",
       "      <th>999</th>\n",
       "      <td>false</td>\n",
       "      <td>9065801</td>\n",
       "      <td>43</td>\n",
       "      <td>37</td>\n",
       "      <td>34</td>\n",
       "      <td>1</td>\n",
       "      <td>44</td>\n",
       "      <td>999</td>\n",
       "      <td>0.840909</td>\n",
       "    </tr>\n",
       "  </tbody>\n",
       "</table>\n",
       "<p>1000 rows × 9 columns</p>\n",
       "</div>"
      ],
      "text/plain": [
       "    collaborative  duration_ms  num_albums  num_artists  num_edits  \\\n",
       "0           false     11532414          47           37          6   \n",
       "1           false     11656470          23           21          5   \n",
       "2           false     14039958          51           31         18   \n",
       "3           false     28926058         107           86          4   \n",
       "4           false      4335282          16           16          7   \n",
       "..            ...          ...         ...          ...        ...   \n",
       "995         false      9917901          40           36          8   \n",
       "996         false      3699248          17           15         13   \n",
       "997         false     27538723          98           82         63   \n",
       "998         false     24950143          75           40         37   \n",
       "999         false      9065801          43           37         34   \n",
       "\n",
       "     num_followers  num_tracks  pid  diversity_ratio  \n",
       "0                1          52    0         0.711538  \n",
       "1                1          39    1         0.538462  \n",
       "2                1          64    2         0.484375  \n",
       "3                1         126    3         0.682540  \n",
       "4                2          17    4         0.941176  \n",
       "..             ...         ...  ...              ...  \n",
       "995              1          41  995         0.878049  \n",
       "996              1          17  996         0.882353  \n",
       "997              1         119  997         0.689076  \n",
       "998              1         108  998         0.370370  \n",
       "999              1          44  999         0.840909  \n",
       "\n",
       "[1000 rows x 9 columns]"
      ]
     },
     "execution_count": 281,
     "metadata": {},
     "output_type": "execute_result"
    }
   ],
   "source": [
    "df"
   ]
  },
  {
   "cell_type": "code",
   "execution_count": 282,
   "metadata": {},
   "outputs": [
    {
     "data": {
      "text/plain": [
       "(array([ 30.,  36.,  44.,  75., 101., 121., 158., 170., 150., 115.]),\n",
       " array([0.03703704, 0.13333333, 0.22962963, 0.32592593, 0.42222222,\n",
       "        0.51851852, 0.61481481, 0.71111111, 0.80740741, 0.9037037 ,\n",
       "        1.        ]),\n",
       " <BarContainer object of 10 artists>)"
      ]
     },
     "execution_count": 282,
     "metadata": {},
     "output_type": "execute_result"
    },
    {
     "data": {
      "image/png": "[encoded data removed]",
      "text/plain": [
       "<Figure size 432x288 with 1 Axes>"
      ]
     },
     "metadata": {
      "needs_background": "light"
     },
     "output_type": "display_data"
    }
   ],
   "source": [
    "plt.hist(df.diversity_ratio)"
   ]
  },
  {
   "cell_type": "code",
   "execution_count": null,
   "metadata": {},
   "outputs": [],
   "source": [
    "df.corr()"
   ]
  },
  {
   "cell_type": "code",
   "execution_count": 286,
   "metadata": {},
   "outputs": [
    {
     "data": {
      "text/plain": [
       "<AxesSubplot:>"
      ]
     },
     "execution_count": 286,
     "metadata": {},
     "output_type": "execute_result"
    },
    {
     "data": {
      "image/png": "[encoded data removed]",
      "text/plain": [
       "<Figure size 432x288 with 2 Axes>"
      ]
     },
     "metadata": {
      "needs_background": "light"
     },
     "output_type": "display_data"
    }
   ],
   "source": [
    "sn.heatmap(df.corr(), annot=True)"
   ]
  },
  {
   "cell_type": "markdown",
   "metadata": {},
   "source": [
    "## Thoughts on hypothesis: \n",
    "\n",
    "- Could test H0 = the average playlist is 50% diverse OR LESS <- for the sample\n",
    "- HA = the average playlist is more than 50% diverse\n",
    "- right-tailed test, entire p-value is in right tail\n",
    "- average from the sample is likely to be the average of the population?? <- separate test using confidence interval (sample vs. population) \n",
    "    - bootstrapping, confidence interval\n",
    "- possible additional test: does diversity_ratio have an effect on follower count? "
   ]
  },
  {
   "cell_type": "code",
   "execution_count": 308,
   "metadata": {},
   "outputs": [
    {
     "data": {
      "text/plain": [
       "0.6389526333133356"
      ]
     },
     "execution_count": 308,
     "metadata": {},
     "output_type": "execute_result"
    }
   ],
   "source": [
    "sample_mean = df.diversity_ratio.mean()\n",
    "sample_mean"
   ]
  },
  {
   "cell_type": "code",
   "execution_count": 309,
   "metadata": {},
   "outputs": [
    {
     "data": {
      "text/plain": [
       "0.2304510407738965"
      ]
     },
     "execution_count": 309,
     "metadata": {},
     "output_type": "execute_result"
    }
   ],
   "source": [
    "sample_std = df.diversity_ratio.std()\n",
    "sample_std"
   ]
  },
  {
   "cell_type": "code",
   "execution_count": 333,
   "metadata": {},
   "outputs": [],
   "source": [
    "sample_norm = stats.norm(sample_mean, sample_std)\n",
    "null_norm = stats.norm(0.5, sample_std)"
   ]
  },
  {
   "cell_type": "code",
   "execution_count": 372,
   "metadata": {},
   "outputs": [
    {
     "data": {
      "text/plain": [
       "<matplotlib.lines.Line2D at 0x7f110dfb8880>"
      ]
     },
     "execution_count": 372,
     "metadata": {},
     "output_type": "execute_result"
    },
    {
     "data": {
      "image/png": "[encoded data removed]",
      "text/plain": [
       "<Figure size 432x288 with 1 Axes>"
      ]
     },
     "metadata": {
      "needs_background": "light"
     },
     "output_type": "display_data"
    }
   ],
   "source": [
    "right_tail = null_norm.ppf(.95)\n",
    "\n",
    "fig, ax = plt.subplots()\n",
    "x = np.linspace(-0.25,1.5,100)\n",
    "ax.plot(x, null_norm.pdf(x), color='blue')\n",
    "ax.plot(x, sample_norm.pdf(x), color='red')\n",
    "ax.axvline(right_tail, color='blue', linestyle='dashed')\n",
    "ax.axvline(sample_mean, color='red', linestyle='dashed')\n"
   ]
  },
  {
   "cell_type": "code",
   "execution_count": 316,
   "metadata": {},
   "outputs": [
    {
     "data": {
      "text/plain": [
       "733"
      ]
     },
     "execution_count": 316,
     "metadata": {},
     "output_type": "execute_result"
    }
   ],
   "source": [
    "count_over_50 = df[df['diversity_ratio']>.5].count()\n",
    "count_over_50['diversity_ratio']"
   ]
  },
  {
   "cell_type": "code",
   "execution_count": 343,
   "metadata": {},
   "outputs": [
    {
     "data": {
      "text/plain": [
       "0.726732168077946"
      ]
     },
     "execution_count": 343,
     "metadata": {},
     "output_type": "execute_result"
    }
   ],
   "source": [
    "p_value = null_norm.cdf(sample_mean)\n",
    "p_value"
   ]
  },
  {
   "cell_type": "markdown",
   "metadata": {},
   "source": [
    "#### With 95% confidence, failed to reject the null hypothesis that playlists are on average less than 50% diverse."
   ]
  },
  {
   "cell_type": "markdown",
   "metadata": {},
   "source": [
    "### think about: \n",
    "- example hypothesis: playlists with a \"high\" number of followers have a higher diversity ratio\n",
    "- can compare the diference between the \"high follower\" set and the \"low follower\" set to see if diversity ratio influences follower count\n",
    "- t-test to see if you can confidently reject the null-hypothesis"
   ]
  },
  {
   "cell_type": "code",
   "execution_count": 382,
   "metadata": {},
   "outputs": [],
   "source": [
    "less_than = df[df['num_followers'] < 10]"
   ]
  },
  {
   "cell_type": "code",
   "execution_count": 383,
   "metadata": {},
   "outputs": [],
   "source": [
    "greater_equal = df[df['num_followers'] >= 10]"
   ]
  },
  {
   "cell_type": "code",
   "execution_count": 384,
   "metadata": {},
   "outputs": [
    {
     "data": {
      "text/plain": [
       "0.6386820910367528"
      ]
     },
     "execution_count": 384,
     "metadata": {},
     "output_type": "execute_result"
    }
   ],
   "source": [
    "less_than_mean = less_than.diversity_ratio.mean()\n",
    "less_than_mean"
   ]
  },
  {
   "cell_type": "code",
   "execution_count": 385,
   "metadata": {},
   "outputs": [
    {
     "data": {
      "text/plain": [
       "0.6724998756095926"
      ]
     },
     "execution_count": 385,
     "metadata": {},
     "output_type": "execute_result"
    }
   ],
   "source": [
    "greater_equal_mean = greater_equal.diversity_ratio.mean()\n",
    "greater_equal_mean"
   ]
  },
  {
   "cell_type": "code",
   "execution_count": 386,
   "metadata": {},
   "outputs": [
    {
     "data": {
      "text/plain": [
       "0.2302076566364094"
      ]
     },
     "execution_count": 386,
     "metadata": {},
     "output_type": "execute_result"
    }
   ],
   "source": [
    "less_than_std = less_than.diversity_ratio.std()\n",
    "less_than_std"
   ]
  },
  {
   "cell_type": "code",
   "execution_count": 387,
   "metadata": {},
   "outputs": [
    {
     "data": {
      "text/plain": [
       "0.2743546913898894"
      ]
     },
     "execution_count": 387,
     "metadata": {},
     "output_type": "execute_result"
    }
   ],
   "source": [
    "greater_equal_std = greater_equal.diversity_ratio.std()\n",
    "greater_equal_std"
   ]
  },
  {
   "cell_type": "code",
   "execution_count": 388,
   "metadata": {},
   "outputs": [],
   "source": [
    "less_than_norm = stats.norm(less_than_mean, less_than_std)\n",
    "greater_equal_norm = stats.norm(greater_equal_mean, greater_equal_std)"
   ]
  },
  {
   "cell_type": "code",
   "execution_count": 389,
   "metadata": {},
   "outputs": [
    {
     "data": {
      "text/plain": [
       "<matplotlib.lines.Line2D at 0x7f110de7e7c0>"
      ]
     },
     "execution_count": 389,
     "metadata": {},
     "output_type": "execute_result"
    },
    {
     "data": {
      "image/png": "[encoded data removed]",
      "text/plain": [
       "<Figure size 432x288 with 1 Axes>"
      ]
     },
     "metadata": {
      "needs_background": "light"
     },
     "output_type": "display_data"
    }
   ],
   "source": [
    "right_tail = less_than_norm.ppf(.95)\n",
    "right_tail\n",
    "\n",
    "fig, ax = plt.subplots()\n",
    "x = np.linspace(-0.25,1.5,100)\n",
    "ax.plot(x, less_than_norm.pdf(x), color='blue')\n",
    "ax.plot(x, greater_equal_norm.pdf(x), color='red')\n",
    "ax.axvline(right_tail, color='blue', linestyle='dashed')\n",
    "ax.axvline(greater_equal_mean, color='red', linestyle='dashed')"
   ]
  },
  {
   "cell_type": "code",
   "execution_count": null,
   "metadata": {},
   "outputs": [],
   "source": []
  }
 ],
 "metadata": {
  "kernelspec": {
   "display_name": "Python 3",
   "language": "python",
   "name": "python3"
  },
  "language_info": {
   "codemirror_mode": {
    "name": "ipython",
    "version": 3
   },
   "file_extension": ".py",
   "mimetype": "text/x-python",
   "name": "python",
   "nbconvert_exporter": "python",
   "pygments_lexer": "ipython3",
   "version": "3.7.7"
  }
 },
 "nbformat": 4,
 "nbformat_minor": 5
}
