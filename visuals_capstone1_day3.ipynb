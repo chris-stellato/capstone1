{
 "cells": [
  {
   "cell_type": "code",
   "execution_count": 329,
   "metadata": {},
   "outputs": [],
   "source": [
    "import pandas as pd\n",
    "import matplotlib.pyplot as plt\n",
    "import seaborn as sn\n",
    "from scipy import stats\n",
    "import numpy as np\n",
    "import statsmodels.api as sm\n",
    "import pylab\n",
    "import statsmodels.stats.weightstats as ws"
   ]
  },
  {
   "cell_type": "code",
   "execution_count": 2,
   "metadata": {},
   "outputs": [],
   "source": [
    "df = pd.read_csv('20k_playlists.csv')"
   ]
  },
  {
   "cell_type": "code",
   "execution_count": 54,
   "metadata": {},
   "outputs": [
    {
     "data": {
      "text/plain": [
       "ShapiroResult(statistic=0.972589910030365, pvalue=4.6479851079084256e-08)"
      ]
     },
     "execution_count": 54,
     "metadata": {},
     "output_type": "execute_result"
    }
   ],
   "source": [
    "stats.shapiro(df.diversity_ratio.sample(500))"
   ]
  },
  {
   "cell_type": "code",
   "execution_count": null,
   "metadata": {},
   "outputs": [],
   "source": [
    "#p_value less than 0.05, cannot assume the data is normally distributed. "
   ]
  },
  {
   "cell_type": "code",
   "execution_count": 283,
   "metadata": {
    "scrolled": true
   },
   "outputs": [
    {
     "data": {
      "image/png": "[encoded data removed]",
      "text/plain": [
       "<Figure size 360x216 with 1 Axes>"
      ]
     },
     "metadata": {
      "needs_background": "light"
     },
     "output_type": "display_data"
    }
   ],
   "source": [
    "fig, ax = plt.subplots(figsize=(5,3))\n",
    "df.diversity_ratio.plot(kind='box')\n",
    "ax.set_title('diversity ratio', fontsize=14)\n",
    "#ax.set_ylabel('count of occurrance', fontsize=14)\n",
    "#plt.legend(fontsize=14)\n",
    "fig.savefig('box_plot.png', dpi=300)\n",
    "plt.show()"
   ]
  },
  {
   "cell_type": "code",
   "execution_count": 285,
   "metadata": {},
   "outputs": [
    {
     "data": {
      "image/png": "[encoded data removed]",
      "text/plain": [
       "<Figure size 360x216 with 1 Axes>"
      ]
     },
     "metadata": {
      "needs_background": "light"
     },
     "output_type": "display_data"
    }
   ],
   "source": [
    "fig, ax = plt.subplots(figsize=(5,3))\n",
    "df.diversity_ratio.hist()\n",
    "ax.set_xlabel('diversity ratio', fontsize=14)\n",
    "#ax.set_title('diversity ratio', fontsize=14)\n",
    "#ax.set_ylabel('count of occurrance', fontsize=14)\n",
    "#plt.legend(fontsize=14)\n",
    "fig.savefig('histogram.png', dpi=300)"
   ]
  },
  {
   "cell_type": "markdown",
   "metadata": {},
   "source": [
    "## Based on Shapiro Wilk test, box plot and historgram visualizations, we cannot assume that diversity_ratio nor num_followers is normally distributed. "
   ]
  },
  {
   "cell_type": "code",
   "execution_count": 151,
   "metadata": {},
   "outputs": [
    {
     "data": {
      "text/plain": [
       "ShapiroResult(statistic=0.42116695642471313, pvalue=4.2296537250340386e-37)"
      ]
     },
     "execution_count": 151,
     "metadata": {},
     "output_type": "execute_result"
    }
   ],
   "source": [
    "stats.shapiro(df.num_followers.sample(500))"
   ]
  },
  {
   "cell_type": "code",
   "execution_count": 4,
   "metadata": {},
   "outputs": [
    {
     "data": {
      "text/html": [
       "<div>\n",
       "<style scoped>\n",
       "    .dataframe tbody tr th:only-of-type {\n",
       "        vertical-align: middle;\n",
       "    }\n",
       "\n",
       "    .dataframe tbody tr th {\n",
       "        vertical-align: top;\n",
       "    }\n",
       "\n",
       "    .dataframe thead th {\n",
       "        text-align: right;\n",
       "    }\n",
       "</style>\n",
       "<table border=\"1\" class=\"dataframe\">\n",
       "  <thead>\n",
       "    <tr style=\"text-align: right;\">\n",
       "      <th></th>\n",
       "      <th>pid</th>\n",
       "      <th>collaborative</th>\n",
       "      <th>duration_ms</th>\n",
       "      <th>num_albums</th>\n",
       "      <th>num_artists</th>\n",
       "      <th>num_edits</th>\n",
       "      <th>num_followers</th>\n",
       "      <th>num_tracks</th>\n",
       "      <th>diversity_ratio</th>\n",
       "    </tr>\n",
       "  </thead>\n",
       "  <tbody>\n",
       "    <tr>\n",
       "      <th>pid</th>\n",
       "      <td>1.000000</td>\n",
       "      <td>0.001648</td>\n",
       "      <td>0.004593</td>\n",
       "      <td>0.003351</td>\n",
       "      <td>-0.002237</td>\n",
       "      <td>-0.000257</td>\n",
       "      <td>0.002566</td>\n",
       "      <td>0.004918</td>\n",
       "      <td>-0.008035</td>\n",
       "    </tr>\n",
       "    <tr>\n",
       "      <th>collaborative</th>\n",
       "      <td>0.001648</td>\n",
       "      <td>1.000000</td>\n",
       "      <td>0.020070</td>\n",
       "      <td>0.027601</td>\n",
       "      <td>0.036204</td>\n",
       "      <td>0.029246</td>\n",
       "      <td>-0.001766</td>\n",
       "      <td>0.017065</td>\n",
       "      <td>0.031225</td>\n",
       "    </tr>\n",
       "    <tr>\n",
       "      <th>duration_ms</th>\n",
       "      <td>0.004593</td>\n",
       "      <td>0.020070</td>\n",
       "      <td>1.000000</td>\n",
       "      <td>0.892883</td>\n",
       "      <td>0.805262</td>\n",
       "      <td>0.601488</td>\n",
       "      <td>-0.001288</td>\n",
       "      <td>0.985038</td>\n",
       "      <td>-0.388490</td>\n",
       "    </tr>\n",
       "    <tr>\n",
       "      <th>num_albums</th>\n",
       "      <td>0.003351</td>\n",
       "      <td>0.027601</td>\n",
       "      <td>0.892883</td>\n",
       "      <td>1.000000</td>\n",
       "      <td>0.954827</td>\n",
       "      <td>0.670223</td>\n",
       "      <td>-0.000484</td>\n",
       "      <td>0.901493</td>\n",
       "      <td>-0.110367</td>\n",
       "    </tr>\n",
       "    <tr>\n",
       "      <th>num_artists</th>\n",
       "      <td>-0.002237</td>\n",
       "      <td>0.036204</td>\n",
       "      <td>0.805262</td>\n",
       "      <td>0.954827</td>\n",
       "      <td>1.000000</td>\n",
       "      <td>0.661720</td>\n",
       "      <td>0.000307</td>\n",
       "      <td>0.818935</td>\n",
       "      <td>0.067262</td>\n",
       "    </tr>\n",
       "    <tr>\n",
       "      <th>num_edits</th>\n",
       "      <td>-0.000257</td>\n",
       "      <td>0.029246</td>\n",
       "      <td>0.601488</td>\n",
       "      <td>0.670223</td>\n",
       "      <td>0.661720</td>\n",
       "      <td>1.000000</td>\n",
       "      <td>0.000100</td>\n",
       "      <td>0.604215</td>\n",
       "      <td>-0.052360</td>\n",
       "    </tr>\n",
       "    <tr>\n",
       "      <th>num_followers</th>\n",
       "      <td>0.002566</td>\n",
       "      <td>-0.001766</td>\n",
       "      <td>-0.001288</td>\n",
       "      <td>-0.000484</td>\n",
       "      <td>0.000307</td>\n",
       "      <td>0.000100</td>\n",
       "      <td>1.000000</td>\n",
       "      <td>-0.000952</td>\n",
       "      <td>0.000648</td>\n",
       "    </tr>\n",
       "    <tr>\n",
       "      <th>num_tracks</th>\n",
       "      <td>0.004918</td>\n",
       "      <td>0.017065</td>\n",
       "      <td>0.985038</td>\n",
       "      <td>0.901493</td>\n",
       "      <td>0.818935</td>\n",
       "      <td>0.604215</td>\n",
       "      <td>-0.000952</td>\n",
       "      <td>1.000000</td>\n",
       "      <td>-0.389533</td>\n",
       "    </tr>\n",
       "    <tr>\n",
       "      <th>diversity_ratio</th>\n",
       "      <td>-0.008035</td>\n",
       "      <td>0.031225</td>\n",
       "      <td>-0.388490</td>\n",
       "      <td>-0.110367</td>\n",
       "      <td>0.067262</td>\n",
       "      <td>-0.052360</td>\n",
       "      <td>0.000648</td>\n",
       "      <td>-0.389533</td>\n",
       "      <td>1.000000</td>\n",
       "    </tr>\n",
       "  </tbody>\n",
       "</table>\n",
       "</div>"
      ],
      "text/plain": [
       "                      pid  collaborative  duration_ms  num_albums  \\\n",
       "pid              1.000000       0.001648     0.004593    0.003351   \n",
       "collaborative    0.001648       1.000000     0.020070    0.027601   \n",
       "duration_ms      0.004593       0.020070     1.000000    0.892883   \n",
       "num_albums       0.003351       0.027601     0.892883    1.000000   \n",
       "num_artists     -0.002237       0.036204     0.805262    0.954827   \n",
       "num_edits       -0.000257       0.029246     0.601488    0.670223   \n",
       "num_followers    0.002566      -0.001766    -0.001288   -0.000484   \n",
       "num_tracks       0.004918       0.017065     0.985038    0.901493   \n",
       "diversity_ratio -0.008035       0.031225    -0.388490   -0.110367   \n",
       "\n",
       "                 num_artists  num_edits  num_followers  num_tracks  \\\n",
       "pid                -0.002237  -0.000257       0.002566    0.004918   \n",
       "collaborative       0.036204   0.029246      -0.001766    0.017065   \n",
       "duration_ms         0.805262   0.601488      -0.001288    0.985038   \n",
       "num_albums          0.954827   0.670223      -0.000484    0.901493   \n",
       "num_artists         1.000000   0.661720       0.000307    0.818935   \n",
       "num_edits           0.661720   1.000000       0.000100    0.604215   \n",
       "num_followers       0.000307   0.000100       1.000000   -0.000952   \n",
       "num_tracks          0.818935   0.604215      -0.000952    1.000000   \n",
       "diversity_ratio     0.067262  -0.052360       0.000648   -0.389533   \n",
       "\n",
       "                 diversity_ratio  \n",
       "pid                    -0.008035  \n",
       "collaborative           0.031225  \n",
       "duration_ms            -0.388490  \n",
       "num_albums             -0.110367  \n",
       "num_artists             0.067262  \n",
       "num_edits              -0.052360  \n",
       "num_followers           0.000648  \n",
       "num_tracks             -0.389533  \n",
       "diversity_ratio         1.000000  "
      ]
     },
     "execution_count": 4,
     "metadata": {},
     "output_type": "execute_result"
    }
   ],
   "source": [
    "df.corr()"
   ]
  },
  {
   "cell_type": "code",
   "execution_count": 317,
   "metadata": {},
   "outputs": [
    {
     "data": {
      "image/png": "[encoded data removed]",
      "text/plain": [
       "<Figure size 720x432 with 2 Axes>"
      ]
     },
     "metadata": {},
     "output_type": "display_data"
    }
   ],
   "source": [
    "fig, ax = plt.subplots(figsize=(10,6))\n",
    "sn.set(font_scale=1)\n",
    "sn.heatmap(df.corr(), annot=True)\n",
    "fig.savefig('heatmap.png', dpi=300)\n"
   ]
  },
  {
   "cell_type": "markdown",
   "metadata": {},
   "source": [
    "### planning: \n",
    "- null hypothesis: Playlist diversity ratio has no effect on number of followers\n",
    "- can compare the diference between the \"high follower\" set and the \"low follower\" set to see if diversity ratio influences follower count\n",
    "- t-test to see if you can confidently reject the null-hypothesis"
   ]
  },
  {
   "cell_type": "code",
   "execution_count": 155,
   "metadata": {},
   "outputs": [
    {
     "data": {
      "text/html": [
       "<div>\n",
       "<style scoped>\n",
       "    .dataframe tbody tr th:only-of-type {\n",
       "        vertical-align: middle;\n",
       "    }\n",
       "\n",
       "    .dataframe tbody tr th {\n",
       "        vertical-align: top;\n",
       "    }\n",
       "\n",
       "    .dataframe thead th {\n",
       "        text-align: right;\n",
       "    }\n",
       "</style>\n",
       "<table border=\"1\" class=\"dataframe\">\n",
       "  <thead>\n",
       "    <tr style=\"text-align: right;\">\n",
       "      <th></th>\n",
       "      <th>pid</th>\n",
       "      <th>collaborative</th>\n",
       "      <th>duration_ms</th>\n",
       "      <th>num_albums</th>\n",
       "      <th>num_artists</th>\n",
       "      <th>num_edits</th>\n",
       "      <th>num_followers</th>\n",
       "      <th>num_tracks</th>\n",
       "      <th>diversity_ratio</th>\n",
       "    </tr>\n",
       "  </thead>\n",
       "  <tbody>\n",
       "    <tr>\n",
       "      <th>0</th>\n",
       "      <td>0</td>\n",
       "      <td>False</td>\n",
       "      <td>11532414</td>\n",
       "      <td>47</td>\n",
       "      <td>37</td>\n",
       "      <td>6</td>\n",
       "      <td>1</td>\n",
       "      <td>52</td>\n",
       "      <td>0.711538</td>\n",
       "    </tr>\n",
       "    <tr>\n",
       "      <th>1</th>\n",
       "      <td>1</td>\n",
       "      <td>False</td>\n",
       "      <td>11656470</td>\n",
       "      <td>23</td>\n",
       "      <td>21</td>\n",
       "      <td>5</td>\n",
       "      <td>1</td>\n",
       "      <td>39</td>\n",
       "      <td>0.538462</td>\n",
       "    </tr>\n",
       "    <tr>\n",
       "      <th>2</th>\n",
       "      <td>2</td>\n",
       "      <td>False</td>\n",
       "      <td>14039958</td>\n",
       "      <td>51</td>\n",
       "      <td>31</td>\n",
       "      <td>18</td>\n",
       "      <td>1</td>\n",
       "      <td>64</td>\n",
       "      <td>0.484375</td>\n",
       "    </tr>\n",
       "    <tr>\n",
       "      <th>3</th>\n",
       "      <td>3</td>\n",
       "      <td>False</td>\n",
       "      <td>28926058</td>\n",
       "      <td>107</td>\n",
       "      <td>86</td>\n",
       "      <td>4</td>\n",
       "      <td>1</td>\n",
       "      <td>126</td>\n",
       "      <td>0.682540</td>\n",
       "    </tr>\n",
       "    <tr>\n",
       "      <th>4</th>\n",
       "      <td>4</td>\n",
       "      <td>False</td>\n",
       "      <td>4335282</td>\n",
       "      <td>16</td>\n",
       "      <td>16</td>\n",
       "      <td>7</td>\n",
       "      <td>2</td>\n",
       "      <td>17</td>\n",
       "      <td>0.941176</td>\n",
       "    </tr>\n",
       "    <tr>\n",
       "      <th>...</th>\n",
       "      <td>...</td>\n",
       "      <td>...</td>\n",
       "      <td>...</td>\n",
       "      <td>...</td>\n",
       "      <td>...</td>\n",
       "      <td>...</td>\n",
       "      <td>...</td>\n",
       "      <td>...</td>\n",
       "      <td>...</td>\n",
       "    </tr>\n",
       "    <tr>\n",
       "      <th>19995</th>\n",
       "      <td>115995</td>\n",
       "      <td>False</td>\n",
       "      <td>8983567</td>\n",
       "      <td>32</td>\n",
       "      <td>25</td>\n",
       "      <td>11</td>\n",
       "      <td>1</td>\n",
       "      <td>39</td>\n",
       "      <td>0.641026</td>\n",
       "    </tr>\n",
       "    <tr>\n",
       "      <th>19996</th>\n",
       "      <td>115996</td>\n",
       "      <td>True</td>\n",
       "      <td>5660735</td>\n",
       "      <td>19</td>\n",
       "      <td>17</td>\n",
       "      <td>16</td>\n",
       "      <td>1</td>\n",
       "      <td>20</td>\n",
       "      <td>0.850000</td>\n",
       "    </tr>\n",
       "    <tr>\n",
       "      <th>19997</th>\n",
       "      <td>115997</td>\n",
       "      <td>False</td>\n",
       "      <td>3765841</td>\n",
       "      <td>12</td>\n",
       "      <td>9</td>\n",
       "      <td>8</td>\n",
       "      <td>1</td>\n",
       "      <td>14</td>\n",
       "      <td>0.642857</td>\n",
       "    </tr>\n",
       "    <tr>\n",
       "      <th>19998</th>\n",
       "      <td>115998</td>\n",
       "      <td>False</td>\n",
       "      <td>8322008</td>\n",
       "      <td>32</td>\n",
       "      <td>31</td>\n",
       "      <td>8</td>\n",
       "      <td>1</td>\n",
       "      <td>35</td>\n",
       "      <td>0.885714</td>\n",
       "    </tr>\n",
       "    <tr>\n",
       "      <th>19999</th>\n",
       "      <td>115999</td>\n",
       "      <td>False</td>\n",
       "      <td>31046977</td>\n",
       "      <td>118</td>\n",
       "      <td>99</td>\n",
       "      <td>96</td>\n",
       "      <td>2</td>\n",
       "      <td>136</td>\n",
       "      <td>0.727941</td>\n",
       "    </tr>\n",
       "  </tbody>\n",
       "</table>\n",
       "<p>19388 rows × 9 columns</p>\n",
       "</div>"
      ],
      "text/plain": [
       "          pid  collaborative  duration_ms  num_albums  num_artists  num_edits  \\\n",
       "0           0          False     11532414          47           37          6   \n",
       "1           1          False     11656470          23           21          5   \n",
       "2           2          False     14039958          51           31         18   \n",
       "3           3          False     28926058         107           86          4   \n",
       "4           4          False      4335282          16           16          7   \n",
       "...       ...            ...          ...         ...          ...        ...   \n",
       "19995  115995          False      8983567          32           25         11   \n",
       "19996  115996           True      5660735          19           17         16   \n",
       "19997  115997          False      3765841          12            9          8   \n",
       "19998  115998          False      8322008          32           31          8   \n",
       "19999  115999          False     31046977         118           99         96   \n",
       "\n",
       "       num_followers  num_tracks  diversity_ratio  \n",
       "0                  1          52         0.711538  \n",
       "1                  1          39         0.538462  \n",
       "2                  1          64         0.484375  \n",
       "3                  1         126         0.682540  \n",
       "4                  2          17         0.941176  \n",
       "...              ...         ...              ...  \n",
       "19995              1          39         0.641026  \n",
       "19996              1          20         0.850000  \n",
       "19997              1          14         0.642857  \n",
       "19998              1          35         0.885714  \n",
       "19999              2         136         0.727941  \n",
       "\n",
       "[19388 rows x 9 columns]"
      ]
     },
     "execution_count": 155,
     "metadata": {},
     "output_type": "execute_result"
    }
   ],
   "source": [
    "less_than = df[df['num_followers'] < 5]\n",
    "less_than"
   ]
  },
  {
   "cell_type": "code",
   "execution_count": 156,
   "metadata": {},
   "outputs": [
    {
     "data": {
      "text/html": [
       "<div>\n",
       "<style scoped>\n",
       "    .dataframe tbody tr th:only-of-type {\n",
       "        vertical-align: middle;\n",
       "    }\n",
       "\n",
       "    .dataframe tbody tr th {\n",
       "        vertical-align: top;\n",
       "    }\n",
       "\n",
       "    .dataframe thead th {\n",
       "        text-align: right;\n",
       "    }\n",
       "</style>\n",
       "<table border=\"1\" class=\"dataframe\">\n",
       "  <thead>\n",
       "    <tr style=\"text-align: right;\">\n",
       "      <th></th>\n",
       "      <th>pid</th>\n",
       "      <th>collaborative</th>\n",
       "      <th>duration_ms</th>\n",
       "      <th>num_albums</th>\n",
       "      <th>num_artists</th>\n",
       "      <th>num_edits</th>\n",
       "      <th>num_followers</th>\n",
       "      <th>num_tracks</th>\n",
       "      <th>diversity_ratio</th>\n",
       "    </tr>\n",
       "  </thead>\n",
       "  <tbody>\n",
       "    <tr>\n",
       "      <th>28</th>\n",
       "      <td>28</td>\n",
       "      <td>False</td>\n",
       "      <td>18831207</td>\n",
       "      <td>57</td>\n",
       "      <td>37</td>\n",
       "      <td>26</td>\n",
       "      <td>7</td>\n",
       "      <td>81</td>\n",
       "      <td>0.456790</td>\n",
       "    </tr>\n",
       "    <tr>\n",
       "      <th>40</th>\n",
       "      <td>40</td>\n",
       "      <td>False</td>\n",
       "      <td>18672695</td>\n",
       "      <td>80</td>\n",
       "      <td>71</td>\n",
       "      <td>27</td>\n",
       "      <td>6</td>\n",
       "      <td>85</td>\n",
       "      <td>0.835294</td>\n",
       "    </tr>\n",
       "    <tr>\n",
       "      <th>52</th>\n",
       "      <td>52</td>\n",
       "      <td>False</td>\n",
       "      <td>2647155</td>\n",
       "      <td>14</td>\n",
       "      <td>10</td>\n",
       "      <td>2</td>\n",
       "      <td>5</td>\n",
       "      <td>15</td>\n",
       "      <td>0.666667</td>\n",
       "    </tr>\n",
       "    <tr>\n",
       "      <th>164</th>\n",
       "      <td>164</td>\n",
       "      <td>False</td>\n",
       "      <td>10592578</td>\n",
       "      <td>43</td>\n",
       "      <td>35</td>\n",
       "      <td>10</td>\n",
       "      <td>5</td>\n",
       "      <td>46</td>\n",
       "      <td>0.760870</td>\n",
       "    </tr>\n",
       "    <tr>\n",
       "      <th>166</th>\n",
       "      <td>166</td>\n",
       "      <td>False</td>\n",
       "      <td>12866664</td>\n",
       "      <td>51</td>\n",
       "      <td>41</td>\n",
       "      <td>5</td>\n",
       "      <td>7</td>\n",
       "      <td>55</td>\n",
       "      <td>0.745455</td>\n",
       "    </tr>\n",
       "    <tr>\n",
       "      <th>...</th>\n",
       "      <td>...</td>\n",
       "      <td>...</td>\n",
       "      <td>...</td>\n",
       "      <td>...</td>\n",
       "      <td>...</td>\n",
       "      <td>...</td>\n",
       "      <td>...</td>\n",
       "      <td>...</td>\n",
       "      <td>...</td>\n",
       "    </tr>\n",
       "    <tr>\n",
       "      <th>19876</th>\n",
       "      <td>115876</td>\n",
       "      <td>False</td>\n",
       "      <td>13147079</td>\n",
       "      <td>44</td>\n",
       "      <td>35</td>\n",
       "      <td>19</td>\n",
       "      <td>43</td>\n",
       "      <td>54</td>\n",
       "      <td>0.648148</td>\n",
       "    </tr>\n",
       "    <tr>\n",
       "      <th>19894</th>\n",
       "      <td>115894</td>\n",
       "      <td>False</td>\n",
       "      <td>39129159</td>\n",
       "      <td>152</td>\n",
       "      <td>101</td>\n",
       "      <td>24</td>\n",
       "      <td>8</td>\n",
       "      <td>168</td>\n",
       "      <td>0.601190</td>\n",
       "    </tr>\n",
       "    <tr>\n",
       "      <th>19951</th>\n",
       "      <td>115951</td>\n",
       "      <td>False</td>\n",
       "      <td>31114305</td>\n",
       "      <td>92</td>\n",
       "      <td>57</td>\n",
       "      <td>24</td>\n",
       "      <td>9</td>\n",
       "      <td>130</td>\n",
       "      <td>0.438462</td>\n",
       "    </tr>\n",
       "    <tr>\n",
       "      <th>19952</th>\n",
       "      <td>115952</td>\n",
       "      <td>False</td>\n",
       "      <td>49318278</td>\n",
       "      <td>124</td>\n",
       "      <td>71</td>\n",
       "      <td>23</td>\n",
       "      <td>6</td>\n",
       "      <td>185</td>\n",
       "      <td>0.383784</td>\n",
       "    </tr>\n",
       "    <tr>\n",
       "      <th>19968</th>\n",
       "      <td>115968</td>\n",
       "      <td>False</td>\n",
       "      <td>34256368</td>\n",
       "      <td>147</td>\n",
       "      <td>122</td>\n",
       "      <td>6</td>\n",
       "      <td>5</td>\n",
       "      <td>155</td>\n",
       "      <td>0.787097</td>\n",
       "    </tr>\n",
       "  </tbody>\n",
       "</table>\n",
       "<p>612 rows × 9 columns</p>\n",
       "</div>"
      ],
      "text/plain": [
       "          pid  collaborative  duration_ms  num_albums  num_artists  num_edits  \\\n",
       "28         28          False     18831207          57           37         26   \n",
       "40         40          False     18672695          80           71         27   \n",
       "52         52          False      2647155          14           10          2   \n",
       "164       164          False     10592578          43           35         10   \n",
       "166       166          False     12866664          51           41          5   \n",
       "...       ...            ...          ...         ...          ...        ...   \n",
       "19876  115876          False     13147079          44           35         19   \n",
       "19894  115894          False     39129159         152          101         24   \n",
       "19951  115951          False     31114305          92           57         24   \n",
       "19952  115952          False     49318278         124           71         23   \n",
       "19968  115968          False     34256368         147          122          6   \n",
       "\n",
       "       num_followers  num_tracks  diversity_ratio  \n",
       "28                 7          81         0.456790  \n",
       "40                 6          85         0.835294  \n",
       "52                 5          15         0.666667  \n",
       "164                5          46         0.760870  \n",
       "166                7          55         0.745455  \n",
       "...              ...         ...              ...  \n",
       "19876             43          54         0.648148  \n",
       "19894              8         168         0.601190  \n",
       "19951              9         130         0.438462  \n",
       "19952              6         185         0.383784  \n",
       "19968              5         155         0.787097  \n",
       "\n",
       "[612 rows x 9 columns]"
      ]
     },
     "execution_count": 156,
     "metadata": {},
     "output_type": "execute_result"
    }
   ],
   "source": [
    "greater_equal = df[df['num_followers'] >= 5]\n",
    "greater_equal"
   ]
  },
  {
   "cell_type": "code",
   "execution_count": 157,
   "metadata": {},
   "outputs": [
    {
     "data": {
      "text/plain": [
       "0.6397908609068428"
      ]
     },
     "execution_count": 157,
     "metadata": {},
     "output_type": "execute_result"
    }
   ],
   "source": [
    "less_than_mean = less_than.diversity_ratio.mean()\n",
    "less_than_mean"
   ]
  },
  {
   "cell_type": "code",
   "execution_count": 158,
   "metadata": {},
   "outputs": [
    {
     "data": {
      "text/plain": [
       "0.6313785865148192"
      ]
     },
     "execution_count": 158,
     "metadata": {},
     "output_type": "execute_result"
    }
   ],
   "source": [
    "greater_equal_mean = greater_equal.diversity_ratio.mean()\n",
    "greater_equal_mean"
   ]
  },
  {
   "cell_type": "code",
   "execution_count": 159,
   "metadata": {},
   "outputs": [
    {
     "data": {
      "text/plain": [
       "0.22731690858977355"
      ]
     },
     "execution_count": 159,
     "metadata": {},
     "output_type": "execute_result"
    }
   ],
   "source": [
    "less_than_std = less_than.diversity_ratio.std()\n",
    "less_than_std"
   ]
  },
  {
   "cell_type": "code",
   "execution_count": 160,
   "metadata": {},
   "outputs": [
    {
     "data": {
      "text/plain": [
       "0.21555559137998032"
      ]
     },
     "execution_count": 160,
     "metadata": {},
     "output_type": "execute_result"
    }
   ],
   "source": [
    "greater_equal_std = greater_equal.diversity_ratio.std()\n",
    "greater_equal_std"
   ]
  },
  {
   "cell_type": "markdown",
   "metadata": {},
   "source": [
    "#### run scipy.stats t-test to get p-value that backs up rejecting the null hypothesis\n",
    "#### check to see if the diversity_ratio is normally distributed?? If no, bootstrapping for CLT sampling means\n",
    "\n",
    "## Data is not normally distributed. Moving into bootstrapping: "
   ]
  },
  {
   "cell_type": "code",
   "execution_count": 60,
   "metadata": {},
   "outputs": [],
   "source": [
    "# def bootstrap(data, num_samps=1000):\n",
    "#     boot_samp_list = []\n",
    "    \n",
    "#     for i in range(num_samps):\n",
    "#         boot_samp_list.append(data.sample(len(data), replace=True))\n",
    "        \n",
    "#     return boot_samp_list"
   ]
  },
  {
   "cell_type": "code",
   "execution_count": 161,
   "metadata": {},
   "outputs": [],
   "source": [
    "def bootstrap(data, num_samps=1000):\n",
    "    \n",
    "#     for i in range(num_samps):\n",
    "#         boot_samp_list.append(data.sample(frac=1, replace=True))\n",
    "        \n",
    "    return [data.sample(len(data), replace=True) for i in range(num_samps)]"
   ]
  },
  {
   "cell_type": "code",
   "execution_count": 162,
   "metadata": {},
   "outputs": [],
   "source": [
    "def bootstrap_ci(boot_samp_list, ci=95):\n",
    "    boot_strap_means = []\n",
    "    \n",
    "    for samp in boot_samp_list:\n",
    "        boot_strap_means.append(np.mean(samp))\n",
    "        \n",
    "    left_endpoint = np.percentile(boot_strap_means, (100-ci)/2)\n",
    "    right_endpoint = np.percentile(boot_strap_means, 100-((100-ci)/2))\n",
    "    \n",
    "    return left_endpoint, right_endpoint"
   ]
  },
  {
   "cell_type": "code",
   "execution_count": 193,
   "metadata": {},
   "outputs": [
    {
     "data": {
      "text/plain": [
       "(0.6368123784914866, 0.6429393446814065)"
      ]
     },
     "execution_count": 193,
     "metadata": {},
     "output_type": "execute_result"
    }
   ],
   "source": [
    "less_left, less_right = bootstrap_ci(bootstrap(less_than.diversity_ratio))\n",
    "less_left, less_right"
   ]
  },
  {
   "cell_type": "code",
   "execution_count": 194,
   "metadata": {},
   "outputs": [
    {
     "data": {
      "text/plain": [
       "(0.6147927392070167, 0.6472566182746102)"
      ]
     },
     "execution_count": 194,
     "metadata": {},
     "output_type": "execute_result"
    }
   ],
   "source": [
    "greater_left, greater_right = bootstrap_ci(bootstrap(greater_equal.diversity_ratio))\n",
    "greater_left, greater_right"
   ]
  },
  {
   "cell_type": "code",
   "execution_count": null,
   "metadata": {},
   "outputs": [],
   "source": [
    "## Overlap in confidence intervals, FAIL to reject the null hypothesis"
   ]
  },
  {
   "cell_type": "code",
   "execution_count": 167,
   "metadata": {},
   "outputs": [],
   "source": [
    "less_sample_strap_list = np.array(bootstrap(less_than.diversity_ratio, 1000))\n",
    "\n",
    "less_mean_list = less_sample_strap_list.mean(axis=1) "
   ]
  },
  {
   "cell_type": "code",
   "execution_count": 222,
   "metadata": {},
   "outputs": [
    {
     "data": {
      "text/plain": [
       "(0.6397792784752738, 0.0016308080417011326)"
      ]
     },
     "execution_count": 222,
     "metadata": {},
     "output_type": "execute_result"
    }
   ],
   "source": [
    "less_bootstrap_mean = less_mean_list.mean()\n",
    "less_bootstrap_std = less_mean_list.std()\n",
    "less_norm_dist = stats.norm(less_bootstrap_mean, less_bootstrap_std)\n",
    "less_bootstrap_mean, less_bootstrap_std"
   ]
  },
  {
   "cell_type": "code",
   "execution_count": 327,
   "metadata": {},
   "outputs": [
    {
     "data": {
      "image/png": "[encoded data removed]",
      "text/plain": [
       "<Figure size 720x288 with 1 Axes>"
      ]
     },
     "metadata": {},
     "output_type": "display_data"
    }
   ],
   "source": [
    "#x = np.linspace(.635, .645, num=200)\n",
    "x = np.linspace(.60, .66, num=200)\n",
    "\n",
    "\n",
    "fig, ax = plt.subplots(figsize=(10,4))\n",
    "ax.hist(less_mean_list, bins=50, density=True, alpha=0.3, label='followers < 5')\n",
    "ax.plot(x, less_norm_dist.pdf(x), linewidth=2, color='green')\n",
    "ax.axvline(less_left, color='green', linestyle='dashed')\n",
    "ax.axvline(less_right, color='green', linestyle='dashed')\n",
    "ax.fill_between(x, less_norm_dist.pdf(x), where=((less_left <= x) * (less_right >= x)), color='green', alpha = 0.5, label='95% confidence interval')\n",
    "ax.set_xlabel('diversity ratio for low follower group', fontsize=14)\n",
    "plt.legend()\n",
    "#fig.savefig('low_follower_bootstrap.png', dpi=300)\n",
    "fig.savefig('low_follower_bootstrap3.png', bbox_inches=\"tight\", dpi=300)\n",
    "plt.show()"
   ]
  },
  {
   "cell_type": "code",
   "execution_count": 170,
   "metadata": {},
   "outputs": [],
   "source": [
    "greater_sample_strap_list = np.array(bootstrap(greater_equal.diversity_ratio, 1000))\n",
    "\n",
    "greater_mean_list = greater_sample_strap_list.mean(axis=1) "
   ]
  },
  {
   "cell_type": "code",
   "execution_count": 172,
   "metadata": {},
   "outputs": [
    {
     "data": {
      "text/plain": [
       "0.6317214829002161"
      ]
     },
     "execution_count": 172,
     "metadata": {},
     "output_type": "execute_result"
    }
   ],
   "source": [
    "greater_mean_list.mean()\n"
   ]
  },
  {
   "cell_type": "code",
   "execution_count": 224,
   "metadata": {},
   "outputs": [
    {
     "data": {
      "text/plain": [
       "(0.6317214829002161, 0.008784889224777624)"
      ]
     },
     "execution_count": 224,
     "metadata": {},
     "output_type": "execute_result"
    }
   ],
   "source": [
    "greater_bootstrap_mean = greater_mean_list.mean()\n",
    "greater_bootstrap_std = greater_mean_list.std()\n",
    "greater_norm_dist = stats.norm(greater_bootstrap_mean, greater_bootstrap_std)\n",
    "greater_bootstrap_mean, greater_bootstrap_std"
   ]
  },
  {
   "cell_type": "code",
   "execution_count": 328,
   "metadata": {
    "scrolled": false
   },
   "outputs": [
    {
     "data": {
      "image/png": "[encoded data removed]",
      "text/plain": [
       "<Figure size 720x288 with 1 Axes>"
      ]
     },
     "metadata": {},
     "output_type": "display_data"
    }
   ],
   "source": [
    "greater_x = np.linspace(.60, .66, num=200)\n",
    "\n",
    "\n",
    "fig, ax = plt.subplots(figsize=(10,4))\n",
    "ax.hist(greater_mean_list, bins=50, density=True, color='red', alpha=0.4, label='followers >= 5')\n",
    "ax.plot(greater_x, greater_norm_dist.pdf(greater_x), linewidth=2, color='green')\n",
    "ax.axvline(greater_left, color='green', linestyle='dashed')\n",
    "ax.axvline(greater_right, color='green', linestyle='dashed')\n",
    "ax.fill_between(greater_x, greater_norm_dist.pdf(greater_x), where=((greater_left <= greater_x) * (greater_right >= greater_x)), color='green', alpha = 0.5, label='95% confidence interval')\n",
    "ax.set_xlabel('diversity ratio for high follower group', fontsize=14)\n",
    "plt.legend()\n",
    "fig.savefig('high_follower_bootstrap3.png', bbox_inches='tight', dpi=300)\n",
    "plt.show()"
   ]
  },
  {
   "cell_type": "code",
   "execution_count": 243,
   "metadata": {},
   "outputs": [
    {
     "data": {
      "text/plain": [
       "Ttest_indResult(statistic=0.9027733181213803, pvalue=0.366657088331551)"
      ]
     },
     "execution_count": 243,
     "metadata": {},
     "output_type": "execute_result"
    }
   ],
   "source": [
    "# running t test to confirm that we can reject the null hypothesis\n",
    "stats.ttest_ind(less_than.diversity_ratio, greater_equal.diversity_ratio)\n",
    "#run on the original sample sets (t test already takes into account uncertainty, don't need to bootstrap)"
   ]
  },
  {
   "cell_type": "code",
   "execution_count": 263,
   "metadata": {
    "scrolled": true
   },
   "outputs": [
    {
     "data": {
      "text/plain": [
       "Ttest_indResult(statistic=-0.9027733181213803, pvalue=0.366657088331551)"
      ]
     },
     "execution_count": 263,
     "metadata": {},
     "output_type": "execute_result"
    }
   ],
   "source": [
    "stats.ttest_ind(greater_equal.diversity_ratio, less_than.diversity_ratio)"
   ]
  },
  {
   "cell_type": "code",
   "execution_count": 245,
   "metadata": {},
   "outputs": [],
   "source": [
    "#p-value more than 0.05, FAIL to reject the null hypothesis\n",
    "#37% of the time, the average diversity_ratio of the greater_ \n",
    "#           follower set will fall within the range of less_than follower set"
   ]
  },
  {
   "cell_type": "code",
   "execution_count": 330,
   "metadata": {},
   "outputs": [
    {
     "data": {
      "text/plain": [
       "(-0.9027733181213803, 0.3666462148453977)"
      ]
     },
     "execution_count": 330,
     "metadata": {},
     "output_type": "execute_result"
    }
   ],
   "source": [
    "#running a Z-test as well due to large sample size. P-values should be nearly identical: \n",
    "ws.ztest(greater_equal.diversity_ratio, less_than.diversity_ratio)"
   ]
  },
  {
   "cell_type": "code",
   "execution_count": 261,
   "metadata": {},
   "outputs": [
    {
     "data": {
      "image/png": "[encoded data removed]",
      "text/plain": [
       "<Figure size 864x360 with 1 Axes>"
      ]
     },
     "metadata": {
      "needs_background": "light"
     },
     "output_type": "display_data"
    }
   ],
   "source": [
    "#trying to lay the two graphs over top one another: \n",
    "fig, ax = plt.subplots(figsize=(12,5))\n",
    "ax.hist(less_mean_list, bins=50, color=\"blue\", label=\"followers < 5\")\n",
    "ax.hist(greater_mean_list, bins=50, color=\"red\", alpha=0.45, label=\"followers >= 5\")\n",
    "ax.legend()\n",
    "ax.set_xlabel('average_diversity_ratio', fontsize=14)\n",
    "ax.set_ylabel('count of occurrance', fontsize=14)\n",
    "ax.plot(greater_x, greater_norm_dist.pdf(greater_x), linewidth=2, color='green')\n",
    "ax.axvline(greater_left, color='green', linestyle='dashed')\n",
    "ax.axvline(greater_right, color='green', linestyle='dashed')\n",
    "ax.fill_between(greater_x, greater_norm_dist.pdf(greater_x), where=((greater_left <= greater_x) * (greater_right >= greater_x)), color='green', alpha = 0.5, label='95% confidence interval')\n",
    "plt.legend(fontsize=14)\n",
    "fig.savefig('hypothesis_test.png', dpi=300)\n",
    "plt.show()"
   ]
  },
  {
   "cell_type": "code",
   "execution_count": null,
   "metadata": {},
   "outputs": [],
   "source": [
    "# #next steps \n",
    "# - adjust bootstrapping to try and bring sample sizes in line with one another??\n",
    "# - repeating this test with one or more different factors?\n",
    "#     - collaborative and diversity_ratio\n",
    "#     - num_tracks and follower count?\n",
    "\n",
    "# look at using bayes to make a beta distribution"
   ]
  }
 ],
 "metadata": {
  "kernelspec": {
   "display_name": "Python 3",
   "language": "python",
   "name": "python3"
  },
  "language_info": {
   "codemirror_mode": {
    "name": "ipython",
    "version": 3
   },
   "file_extension": ".py",
   "mimetype": "text/x-python",
   "name": "python",
   "nbconvert_exporter": "python",
   "pygments_lexer": "ipython3",
   "version": "3.7.7"
  }
 },
 "nbformat": 4,
 "nbformat_minor": 5
}
