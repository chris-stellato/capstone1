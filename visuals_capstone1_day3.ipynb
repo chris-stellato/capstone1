{
 "cells": [
  {
   "cell_type": "code",
   "execution_count": 41,
   "metadata": {},
   "outputs": [],
   "source": [
    "import pandas as pd\n",
    "import matplotlib.pyplot as plt\n",
    "import seaborn as sn\n",
    "from scipy import stats\n",
    "import numpy as np\n",
    "import statsmodels.api as sm\n",
    "import pylab"
   ]
  },
  {
   "cell_type": "code",
   "execution_count": 2,
   "metadata": {},
   "outputs": [],
   "source": [
    "df = pd.read_csv('20k_playlists.csv')"
   ]
  },
  {
   "cell_type": "code",
   "execution_count": 54,
   "metadata": {},
   "outputs": [
    {
     "data": {
      "text/plain": [
       "ShapiroResult(statistic=0.972589910030365, pvalue=4.6479851079084256e-08)"
      ]
     },
     "execution_count": 54,
     "metadata": {},
     "output_type": "execute_result"
    }
   ],
   "source": [
    "stats.shapiro(df.diversity_ratio.sample(500))"
   ]
  },
  {
   "cell_type": "code",
   "execution_count": null,
   "metadata": {},
   "outputs": [],
   "source": [
    "#p_value less than 0.05, cannot assume the data is normally distributed. "
   ]
  },
  {
   "cell_type": "code",
   "execution_count": 22,
   "metadata": {
    "scrolled": true
   },
   "outputs": [
    {
     "data": {
      "text/plain": [
       "<matplotlib.axes._subplots.AxesSubplot at 0x7ffda6eed9d0>"
      ]
     },
     "execution_count": 22,
     "metadata": {},
     "output_type": "execute_result"
    },
    {
     "data": {
      "image/png": "[encoded data removed]",
      "text/plain": [
       "<Figure size 432x288 with 1 Axes>"
      ]
     },
     "metadata": {
      "needs_background": "light"
     },
     "output_type": "display_data"
    }
   ],
   "source": [
    "df.diversity_ratio.plot(kind='box')"
   ]
  },
  {
   "cell_type": "code",
   "execution_count": 23,
   "metadata": {},
   "outputs": [
    {
     "data": {
      "text/plain": [
       "<matplotlib.axes._subplots.AxesSubplot at 0x7ffda7487fd0>"
      ]
     },
     "execution_count": 23,
     "metadata": {},
     "output_type": "execute_result"
    },
    {
     "data": {
      "image/png": "[encoded data removed]",
      "text/plain": [
       "<Figure size 432x288 with 1 Axes>"
      ]
     },
     "metadata": {
      "needs_background": "light"
     },
     "output_type": "display_data"
    }
   ],
   "source": [
    "df.diversity_ratio.hist()"
   ]
  },
  {
   "cell_type": "markdown",
   "metadata": {},
   "source": [
    "## Based on Shapiro Wilk test, box plot and historgram visualizations, we cannot assume that diversity_ratio nor num_followers is normally distributed. "
   ]
  },
  {
   "cell_type": "code",
   "execution_count": 151,
   "metadata": {},
   "outputs": [
    {
     "data": {
      "text/plain": [
       "ShapiroResult(statistic=0.42116695642471313, pvalue=4.2296537250340386e-37)"
      ]
     },
     "execution_count": 151,
     "metadata": {},
     "output_type": "execute_result"
    }
   ],
   "source": [
    "stats.shapiro(df.num_followers.sample(500))"
   ]
  },
  {
   "cell_type": "code",
   "execution_count": 4,
   "metadata": {},
   "outputs": [
    {
     "data": {
      "text/html": [
       "<div>\n",
       "<style scoped>\n",
       "    .dataframe tbody tr th:only-of-type {\n",
       "        vertical-align: middle;\n",
       "    }\n",
       "\n",
       "    .dataframe tbody tr th {\n",
       "        vertical-align: top;\n",
       "    }\n",
       "\n",
       "    .dataframe thead th {\n",
       "        text-align: right;\n",
       "    }\n",
       "</style>\n",
       "<table border=\"1\" class=\"dataframe\">\n",
       "  <thead>\n",
       "    <tr style=\"text-align: right;\">\n",
       "      <th></th>\n",
       "      <th>pid</th>\n",
       "      <th>collaborative</th>\n",
       "      <th>duration_ms</th>\n",
       "      <th>num_albums</th>\n",
       "      <th>num_artists</th>\n",
       "      <th>num_edits</th>\n",
       "      <th>num_followers</th>\n",
       "      <th>num_tracks</th>\n",
       "      <th>diversity_ratio</th>\n",
       "    </tr>\n",
       "  </thead>\n",
       "  <tbody>\n",
       "    <tr>\n",
       "      <th>pid</th>\n",
       "      <td>1.000000</td>\n",
       "      <td>0.001648</td>\n",
       "      <td>0.004593</td>\n",
       "      <td>0.003351</td>\n",
       "      <td>-0.002237</td>\n",
       "      <td>-0.000257</td>\n",
       "      <td>0.002566</td>\n",
       "      <td>0.004918</td>\n",
       "      <td>-0.008035</td>\n",
       "    </tr>\n",
       "    <tr>\n",
       "      <th>collaborative</th>\n",
       "      <td>0.001648</td>\n",
       "      <td>1.000000</td>\n",
       "      <td>0.020070</td>\n",
       "      <td>0.027601</td>\n",
       "      <td>0.036204</td>\n",
       "      <td>0.029246</td>\n",
       "      <td>-0.001766</td>\n",
       "      <td>0.017065</td>\n",
       "      <td>0.031225</td>\n",
       "    </tr>\n",
       "    <tr>\n",
       "      <th>duration_ms</th>\n",
       "      <td>0.004593</td>\n",
       "      <td>0.020070</td>\n",
       "      <td>1.000000</td>\n",
       "      <td>0.892883</td>\n",
       "      <td>0.805262</td>\n",
       "      <td>0.601488</td>\n",
       "      <td>-0.001288</td>\n",
       "      <td>0.985038</td>\n",
       "      <td>-0.388490</td>\n",
       "    </tr>\n",
       "    <tr>\n",
       "      <th>num_albums</th>\n",
       "      <td>0.003351</td>\n",
       "      <td>0.027601</td>\n",
       "      <td>0.892883</td>\n",
       "      <td>1.000000</td>\n",
       "      <td>0.954827</td>\n",
       "      <td>0.670223</td>\n",
       "      <td>-0.000484</td>\n",
       "      <td>0.901493</td>\n",
       "      <td>-0.110367</td>\n",
       "    </tr>\n",
       "    <tr>\n",
       "      <th>num_artists</th>\n",
       "      <td>-0.002237</td>\n",
       "      <td>0.036204</td>\n",
       "      <td>0.805262</td>\n",
       "      <td>0.954827</td>\n",
       "      <td>1.000000</td>\n",
       "      <td>0.661720</td>\n",
       "      <td>0.000307</td>\n",
       "      <td>0.818935</td>\n",
       "      <td>0.067262</td>\n",
       "    </tr>\n",
       "    <tr>\n",
       "      <th>num_edits</th>\n",
       "      <td>-0.000257</td>\n",
       "      <td>0.029246</td>\n",
       "      <td>0.601488</td>\n",
       "      <td>0.670223</td>\n",
       "      <td>0.661720</td>\n",
       "      <td>1.000000</td>\n",
       "      <td>0.000100</td>\n",
       "      <td>0.604215</td>\n",
       "      <td>-0.052360</td>\n",
       "    </tr>\n",
       "    <tr>\n",
       "      <th>num_followers</th>\n",
       "      <td>0.002566</td>\n",
       "      <td>-0.001766</td>\n",
       "      <td>-0.001288</td>\n",
       "      <td>-0.000484</td>\n",
       "      <td>0.000307</td>\n",
       "      <td>0.000100</td>\n",
       "      <td>1.000000</td>\n",
       "      <td>-0.000952</td>\n",
       "      <td>0.000648</td>\n",
       "    </tr>\n",
       "    <tr>\n",
       "      <th>num_tracks</th>\n",
       "      <td>0.004918</td>\n",
       "      <td>0.017065</td>\n",
       "      <td>0.985038</td>\n",
       "      <td>0.901493</td>\n",
       "      <td>0.818935</td>\n",
       "      <td>0.604215</td>\n",
       "      <td>-0.000952</td>\n",
       "      <td>1.000000</td>\n",
       "      <td>-0.389533</td>\n",
       "    </tr>\n",
       "    <tr>\n",
       "      <th>diversity_ratio</th>\n",
       "      <td>-0.008035</td>\n",
       "      <td>0.031225</td>\n",
       "      <td>-0.388490</td>\n",
       "      <td>-0.110367</td>\n",
       "      <td>0.067262</td>\n",
       "      <td>-0.052360</td>\n",
       "      <td>0.000648</td>\n",
       "      <td>-0.389533</td>\n",
       "      <td>1.000000</td>\n",
       "    </tr>\n",
       "  </tbody>\n",
       "</table>\n",
       "</div>"
      ],
      "text/plain": [
       "                      pid  collaborative  duration_ms  num_albums  \\\n",
       "pid              1.000000       0.001648     0.004593    0.003351   \n",
       "collaborative    0.001648       1.000000     0.020070    0.027601   \n",
       "duration_ms      0.004593       0.020070     1.000000    0.892883   \n",
       "num_albums       0.003351       0.027601     0.892883    1.000000   \n",
       "num_artists     -0.002237       0.036204     0.805262    0.954827   \n",
       "num_edits       -0.000257       0.029246     0.601488    0.670223   \n",
       "num_followers    0.002566      -0.001766    -0.001288   -0.000484   \n",
       "num_tracks       0.004918       0.017065     0.985038    0.901493   \n",
       "diversity_ratio -0.008035       0.031225    -0.388490   -0.110367   \n",
       "\n",
       "                 num_artists  num_edits  num_followers  num_tracks  \\\n",
       "pid                -0.002237  -0.000257       0.002566    0.004918   \n",
       "collaborative       0.036204   0.029246      -0.001766    0.017065   \n",
       "duration_ms         0.805262   0.601488      -0.001288    0.985038   \n",
       "num_albums          0.954827   0.670223      -0.000484    0.901493   \n",
       "num_artists         1.000000   0.661720       0.000307    0.818935   \n",
       "num_edits           0.661720   1.000000       0.000100    0.604215   \n",
       "num_followers       0.000307   0.000100       1.000000   -0.000952   \n",
       "num_tracks          0.818935   0.604215      -0.000952    1.000000   \n",
       "diversity_ratio     0.067262  -0.052360       0.000648   -0.389533   \n",
       "\n",
       "                 diversity_ratio  \n",
       "pid                    -0.008035  \n",
       "collaborative           0.031225  \n",
       "duration_ms            -0.388490  \n",
       "num_albums             -0.110367  \n",
       "num_artists             0.067262  \n",
       "num_edits              -0.052360  \n",
       "num_followers           0.000648  \n",
       "num_tracks             -0.389533  \n",
       "diversity_ratio         1.000000  "
      ]
     },
     "execution_count": 4,
     "metadata": {},
     "output_type": "execute_result"
    }
   ],
   "source": [
    "df.corr()"
   ]
  },
  {
   "cell_type": "code",
   "execution_count": 122,
   "metadata": {},
   "outputs": [
    {
     "data": {
      "image/png": "[encoded data removed]",
      "text/plain": [
       "<Figure size 432x288 with 2 Axes>"
      ]
     },
     "metadata": {
      "needs_background": "light"
     },
     "output_type": "display_data"
    }
   ],
   "source": [
    "sn.heatmap(df.corr(), annot=True)\n",
    "plt.tight_layout()"
   ]
  },
  {
   "cell_type": "markdown",
   "metadata": {},
   "source": [
    "### planning: \n",
    "- null hypothesis: Playlist diversity ratio has no effect on number of followers\n",
    "- can compare the diference between the \"high follower\" set and the \"low follower\" set to see if diversity ratio influences follower count\n",
    "- t-test to see if you can confidently reject the null-hypothesis"
   ]
  },
  {
   "cell_type": "code",
   "execution_count": 12,
   "metadata": {},
   "outputs": [
    {
     "data": {
      "text/html": [
       "<div>\n",
       "<style scoped>\n",
       "    .dataframe tbody tr th:only-of-type {\n",
       "        vertical-align: middle;\n",
       "    }\n",
       "\n",
       "    .dataframe tbody tr th {\n",
       "        vertical-align: top;\n",
       "    }\n",
       "\n",
       "    .dataframe thead th {\n",
       "        text-align: right;\n",
       "    }\n",
       "</style>\n",
       "<table border=\"1\" class=\"dataframe\">\n",
       "  <thead>\n",
       "    <tr style=\"text-align: right;\">\n",
       "      <th></th>\n",
       "      <th>pid</th>\n",
       "      <th>collaborative</th>\n",
       "      <th>duration_ms</th>\n",
       "      <th>num_albums</th>\n",
       "      <th>num_artists</th>\n",
       "      <th>num_edits</th>\n",
       "      <th>num_followers</th>\n",
       "      <th>num_tracks</th>\n",
       "      <th>diversity_ratio</th>\n",
       "    </tr>\n",
       "  </thead>\n",
       "  <tbody>\n",
       "    <tr>\n",
       "      <th>0</th>\n",
       "      <td>0</td>\n",
       "      <td>False</td>\n",
       "      <td>11532414</td>\n",
       "      <td>47</td>\n",
       "      <td>37</td>\n",
       "      <td>6</td>\n",
       "      <td>1</td>\n",
       "      <td>52</td>\n",
       "      <td>0.711538</td>\n",
       "    </tr>\n",
       "    <tr>\n",
       "      <th>1</th>\n",
       "      <td>1</td>\n",
       "      <td>False</td>\n",
       "      <td>11656470</td>\n",
       "      <td>23</td>\n",
       "      <td>21</td>\n",
       "      <td>5</td>\n",
       "      <td>1</td>\n",
       "      <td>39</td>\n",
       "      <td>0.538462</td>\n",
       "    </tr>\n",
       "    <tr>\n",
       "      <th>2</th>\n",
       "      <td>2</td>\n",
       "      <td>False</td>\n",
       "      <td>14039958</td>\n",
       "      <td>51</td>\n",
       "      <td>31</td>\n",
       "      <td>18</td>\n",
       "      <td>1</td>\n",
       "      <td>64</td>\n",
       "      <td>0.484375</td>\n",
       "    </tr>\n",
       "    <tr>\n",
       "      <th>3</th>\n",
       "      <td>3</td>\n",
       "      <td>False</td>\n",
       "      <td>28926058</td>\n",
       "      <td>107</td>\n",
       "      <td>86</td>\n",
       "      <td>4</td>\n",
       "      <td>1</td>\n",
       "      <td>126</td>\n",
       "      <td>0.682540</td>\n",
       "    </tr>\n",
       "    <tr>\n",
       "      <th>4</th>\n",
       "      <td>4</td>\n",
       "      <td>False</td>\n",
       "      <td>4335282</td>\n",
       "      <td>16</td>\n",
       "      <td>16</td>\n",
       "      <td>7</td>\n",
       "      <td>2</td>\n",
       "      <td>17</td>\n",
       "      <td>0.941176</td>\n",
       "    </tr>\n",
       "    <tr>\n",
       "      <th>...</th>\n",
       "      <td>...</td>\n",
       "      <td>...</td>\n",
       "      <td>...</td>\n",
       "      <td>...</td>\n",
       "      <td>...</td>\n",
       "      <td>...</td>\n",
       "      <td>...</td>\n",
       "      <td>...</td>\n",
       "      <td>...</td>\n",
       "    </tr>\n",
       "    <tr>\n",
       "      <th>19995</th>\n",
       "      <td>115995</td>\n",
       "      <td>False</td>\n",
       "      <td>8983567</td>\n",
       "      <td>32</td>\n",
       "      <td>25</td>\n",
       "      <td>11</td>\n",
       "      <td>1</td>\n",
       "      <td>39</td>\n",
       "      <td>0.641026</td>\n",
       "    </tr>\n",
       "    <tr>\n",
       "      <th>19996</th>\n",
       "      <td>115996</td>\n",
       "      <td>True</td>\n",
       "      <td>5660735</td>\n",
       "      <td>19</td>\n",
       "      <td>17</td>\n",
       "      <td>16</td>\n",
       "      <td>1</td>\n",
       "      <td>20</td>\n",
       "      <td>0.850000</td>\n",
       "    </tr>\n",
       "    <tr>\n",
       "      <th>19997</th>\n",
       "      <td>115997</td>\n",
       "      <td>False</td>\n",
       "      <td>3765841</td>\n",
       "      <td>12</td>\n",
       "      <td>9</td>\n",
       "      <td>8</td>\n",
       "      <td>1</td>\n",
       "      <td>14</td>\n",
       "      <td>0.642857</td>\n",
       "    </tr>\n",
       "    <tr>\n",
       "      <th>19998</th>\n",
       "      <td>115998</td>\n",
       "      <td>False</td>\n",
       "      <td>8322008</td>\n",
       "      <td>32</td>\n",
       "      <td>31</td>\n",
       "      <td>8</td>\n",
       "      <td>1</td>\n",
       "      <td>35</td>\n",
       "      <td>0.885714</td>\n",
       "    </tr>\n",
       "    <tr>\n",
       "      <th>19999</th>\n",
       "      <td>115999</td>\n",
       "      <td>False</td>\n",
       "      <td>31046977</td>\n",
       "      <td>118</td>\n",
       "      <td>99</td>\n",
       "      <td>96</td>\n",
       "      <td>2</td>\n",
       "      <td>136</td>\n",
       "      <td>0.727941</td>\n",
       "    </tr>\n",
       "  </tbody>\n",
       "</table>\n",
       "<p>19847 rows × 9 columns</p>\n",
       "</div>"
      ],
      "text/plain": [
       "          pid  collaborative  duration_ms  num_albums  num_artists  num_edits  \\\n",
       "0           0          False     11532414          47           37          6   \n",
       "1           1          False     11656470          23           21          5   \n",
       "2           2          False     14039958          51           31         18   \n",
       "3           3          False     28926058         107           86          4   \n",
       "4           4          False      4335282          16           16          7   \n",
       "...       ...            ...          ...         ...          ...        ...   \n",
       "19995  115995          False      8983567          32           25         11   \n",
       "19996  115996           True      5660735          19           17         16   \n",
       "19997  115997          False      3765841          12            9          8   \n",
       "19998  115998          False      8322008          32           31          8   \n",
       "19999  115999          False     31046977         118           99         96   \n",
       "\n",
       "       num_followers  num_tracks  diversity_ratio  \n",
       "0                  1          52         0.711538  \n",
       "1                  1          39         0.538462  \n",
       "2                  1          64         0.484375  \n",
       "3                  1         126         0.682540  \n",
       "4                  2          17         0.941176  \n",
       "...              ...         ...              ...  \n",
       "19995              1          39         0.641026  \n",
       "19996              1          20         0.850000  \n",
       "19997              1          14         0.642857  \n",
       "19998              1          35         0.885714  \n",
       "19999              2         136         0.727941  \n",
       "\n",
       "[19847 rows x 9 columns]"
      ]
     },
     "execution_count": 12,
     "metadata": {},
     "output_type": "execute_result"
    }
   ],
   "source": [
    "less_than = df[df['num_followers'] < 10]\n",
    "less_than"
   ]
  },
  {
   "cell_type": "code",
   "execution_count": 13,
   "metadata": {},
   "outputs": [
    {
     "data": {
      "text/html": [
       "<div>\n",
       "<style scoped>\n",
       "    .dataframe tbody tr th:only-of-type {\n",
       "        vertical-align: middle;\n",
       "    }\n",
       "\n",
       "    .dataframe tbody tr th {\n",
       "        vertical-align: top;\n",
       "    }\n",
       "\n",
       "    .dataframe thead th {\n",
       "        text-align: right;\n",
       "    }\n",
       "</style>\n",
       "<table border=\"1\" class=\"dataframe\">\n",
       "  <thead>\n",
       "    <tr style=\"text-align: right;\">\n",
       "      <th></th>\n",
       "      <th>pid</th>\n",
       "      <th>collaborative</th>\n",
       "      <th>duration_ms</th>\n",
       "      <th>num_albums</th>\n",
       "      <th>num_artists</th>\n",
       "      <th>num_edits</th>\n",
       "      <th>num_followers</th>\n",
       "      <th>num_tracks</th>\n",
       "      <th>diversity_ratio</th>\n",
       "    </tr>\n",
       "  </thead>\n",
       "  <tbody>\n",
       "    <tr>\n",
       "      <th>223</th>\n",
       "      <td>223</td>\n",
       "      <td>False</td>\n",
       "      <td>29870133</td>\n",
       "      <td>106</td>\n",
       "      <td>76</td>\n",
       "      <td>37</td>\n",
       "      <td>10</td>\n",
       "      <td>120</td>\n",
       "      <td>0.633333</td>\n",
       "    </tr>\n",
       "    <tr>\n",
       "      <th>241</th>\n",
       "      <td>241</td>\n",
       "      <td>False</td>\n",
       "      <td>29003627</td>\n",
       "      <td>25</td>\n",
       "      <td>7</td>\n",
       "      <td>17</td>\n",
       "      <td>18</td>\n",
       "      <td>151</td>\n",
       "      <td>0.046358</td>\n",
       "    </tr>\n",
       "    <tr>\n",
       "      <th>255</th>\n",
       "      <td>255</td>\n",
       "      <td>False</td>\n",
       "      <td>6772221</td>\n",
       "      <td>28</td>\n",
       "      <td>25</td>\n",
       "      <td>3</td>\n",
       "      <td>22</td>\n",
       "      <td>32</td>\n",
       "      <td>0.781250</td>\n",
       "    </tr>\n",
       "    <tr>\n",
       "      <th>296</th>\n",
       "      <td>296</td>\n",
       "      <td>False</td>\n",
       "      <td>8320641</td>\n",
       "      <td>31</td>\n",
       "      <td>26</td>\n",
       "      <td>19</td>\n",
       "      <td>11</td>\n",
       "      <td>35</td>\n",
       "      <td>0.742857</td>\n",
       "    </tr>\n",
       "    <tr>\n",
       "      <th>365</th>\n",
       "      <td>365</td>\n",
       "      <td>False</td>\n",
       "      <td>29409896</td>\n",
       "      <td>114</td>\n",
       "      <td>90</td>\n",
       "      <td>18</td>\n",
       "      <td>15</td>\n",
       "      <td>128</td>\n",
       "      <td>0.703125</td>\n",
       "    </tr>\n",
       "    <tr>\n",
       "      <th>...</th>\n",
       "      <td>...</td>\n",
       "      <td>...</td>\n",
       "      <td>...</td>\n",
       "      <td>...</td>\n",
       "      <td>...</td>\n",
       "      <td>...</td>\n",
       "      <td>...</td>\n",
       "      <td>...</td>\n",
       "      <td>...</td>\n",
       "    </tr>\n",
       "    <tr>\n",
       "      <th>19594</th>\n",
       "      <td>115594</td>\n",
       "      <td>False</td>\n",
       "      <td>5896162</td>\n",
       "      <td>27</td>\n",
       "      <td>11</td>\n",
       "      <td>7</td>\n",
       "      <td>21</td>\n",
       "      <td>32</td>\n",
       "      <td>0.343750</td>\n",
       "    </tr>\n",
       "    <tr>\n",
       "      <th>19638</th>\n",
       "      <td>115638</td>\n",
       "      <td>False</td>\n",
       "      <td>15728788</td>\n",
       "      <td>35</td>\n",
       "      <td>15</td>\n",
       "      <td>5</td>\n",
       "      <td>13</td>\n",
       "      <td>65</td>\n",
       "      <td>0.230769</td>\n",
       "    </tr>\n",
       "    <tr>\n",
       "      <th>19825</th>\n",
       "      <td>115825</td>\n",
       "      <td>False</td>\n",
       "      <td>4531957</td>\n",
       "      <td>19</td>\n",
       "      <td>17</td>\n",
       "      <td>2</td>\n",
       "      <td>27</td>\n",
       "      <td>24</td>\n",
       "      <td>0.708333</td>\n",
       "    </tr>\n",
       "    <tr>\n",
       "      <th>19833</th>\n",
       "      <td>115833</td>\n",
       "      <td>False</td>\n",
       "      <td>25607715</td>\n",
       "      <td>79</td>\n",
       "      <td>53</td>\n",
       "      <td>47</td>\n",
       "      <td>13</td>\n",
       "      <td>115</td>\n",
       "      <td>0.460870</td>\n",
       "    </tr>\n",
       "    <tr>\n",
       "      <th>19876</th>\n",
       "      <td>115876</td>\n",
       "      <td>False</td>\n",
       "      <td>13147079</td>\n",
       "      <td>44</td>\n",
       "      <td>35</td>\n",
       "      <td>19</td>\n",
       "      <td>43</td>\n",
       "      <td>54</td>\n",
       "      <td>0.648148</td>\n",
       "    </tr>\n",
       "  </tbody>\n",
       "</table>\n",
       "<p>153 rows × 9 columns</p>\n",
       "</div>"
      ],
      "text/plain": [
       "          pid  collaborative  duration_ms  num_albums  num_artists  num_edits  \\\n",
       "223       223          False     29870133         106           76         37   \n",
       "241       241          False     29003627          25            7         17   \n",
       "255       255          False      6772221          28           25          3   \n",
       "296       296          False      8320641          31           26         19   \n",
       "365       365          False     29409896         114           90         18   \n",
       "...       ...            ...          ...         ...          ...        ...   \n",
       "19594  115594          False      5896162          27           11          7   \n",
       "19638  115638          False     15728788          35           15          5   \n",
       "19825  115825          False      4531957          19           17          2   \n",
       "19833  115833          False     25607715          79           53         47   \n",
       "19876  115876          False     13147079          44           35         19   \n",
       "\n",
       "       num_followers  num_tracks  diversity_ratio  \n",
       "223               10         120         0.633333  \n",
       "241               18         151         0.046358  \n",
       "255               22          32         0.781250  \n",
       "296               11          35         0.742857  \n",
       "365               15         128         0.703125  \n",
       "...              ...         ...              ...  \n",
       "19594             21          32         0.343750  \n",
       "19638             13          65         0.230769  \n",
       "19825             27          24         0.708333  \n",
       "19833             13         115         0.460870  \n",
       "19876             43          54         0.648148  \n",
       "\n",
       "[153 rows x 9 columns]"
      ]
     },
     "execution_count": 13,
     "metadata": {},
     "output_type": "execute_result"
    }
   ],
   "source": [
    "greater_equal = df[df['num_followers'] >= 10]\n",
    "greater_equal"
   ]
  },
  {
   "cell_type": "code",
   "execution_count": 30,
   "metadata": {},
   "outputs": [
    {
     "data": {
      "text/plain": [
       "0.6396541269386848"
      ]
     },
     "execution_count": 30,
     "metadata": {},
     "output_type": "execute_result"
    }
   ],
   "source": [
    "less_than_mean = less_than.diversity_ratio.mean()\n",
    "less_than_mean"
   ]
  },
  {
   "cell_type": "code",
   "execution_count": 31,
   "metadata": {},
   "outputs": [
    {
     "data": {
      "text/plain": [
       "0.6238787506983645"
      ]
     },
     "execution_count": 31,
     "metadata": {},
     "output_type": "execute_result"
    }
   ],
   "source": [
    "greater_equal_mean = greater_equal.diversity_ratio.mean()\n",
    "greater_equal_mean"
   ]
  },
  {
   "cell_type": "code",
   "execution_count": 32,
   "metadata": {},
   "outputs": [
    {
     "data": {
      "text/plain": [
       "0.22686081949319425"
      ]
     },
     "execution_count": 32,
     "metadata": {},
     "output_type": "execute_result"
    }
   ],
   "source": [
    "less_than_std = less_than.diversity_ratio.std()\n",
    "less_than_std"
   ]
  },
  {
   "cell_type": "code",
   "execution_count": 33,
   "metadata": {},
   "outputs": [
    {
     "data": {
      "text/plain": [
       "0.24043472932460513"
      ]
     },
     "execution_count": 33,
     "metadata": {},
     "output_type": "execute_result"
    }
   ],
   "source": [
    "greater_equal_std = greater_equal.diversity_ratio.std()\n",
    "greater_equal_std"
   ]
  },
  {
   "cell_type": "code",
   "execution_count": 31,
   "metadata": {},
   "outputs": [],
   "source": [
    "less_than_norm = stats.norm(less_than_mean, less_than_std)\n",
    "greater_equal_norm = stats.norm(greater_equal_mean, greater_equal_std)"
   ]
  },
  {
   "cell_type": "code",
   "execution_count": 33,
   "metadata": {},
   "outputs": [
    {
     "data": {
      "text/plain": [
       "<matplotlib.lines.Line2D at 0x7fcf2b5e1c10>"
      ]
     },
     "execution_count": 33,
     "metadata": {},
     "output_type": "execute_result"
    },
    {
     "data": {
      "image/png": "[encoded data removed]",
      "text/plain": [
       "<Figure size 432x288 with 1 Axes>"
      ]
     },
     "metadata": {
      "needs_background": "light"
     },
     "output_type": "display_data"
    }
   ],
   "source": [
    "left_tail = less_than_norm.ppf(.025)\n",
    "right_tail = less_than_norm.ppf(.975)\n",
    "\n",
    "\n",
    "fig, ax = plt.subplots()\n",
    "x = np.linspace(-0.25,1.5,100)\n",
    "ax.plot(x, less_than_norm.pdf(x), color='blue')\n",
    "ax.plot(x, greater_equal_norm.pdf(x), color='red')\n",
    "ax.axvline(left_tail, color='blue', linestyle = 'dashed')\n",
    "ax.axvline(right_tail, color='blue', linestyle='dashed')\n",
    "ax.axvline(greater_equal_mean, color='red', linestyle='dashed')"
   ]
  },
  {
   "cell_type": "markdown",
   "metadata": {},
   "source": [
    "#### run scipy.stats t-test to get p-value that backs up rejecting the null hypothesis\n",
    "#### check to see if the diversity_ratio is normally distributed?? If no, bootstrapping for CLT sampling means\n",
    "\n",
    "## Data is not normally distributed. Moving into bootstrapping: "
   ]
  },
  {
   "cell_type": "code",
   "execution_count": 60,
   "metadata": {},
   "outputs": [],
   "source": [
    "# def bootstrap(data, num_samps=1000):\n",
    "#     boot_samp_list = []\n",
    "    \n",
    "#     for i in range(num_samps):\n",
    "#         boot_samp_list.append(data.sample(len(data), replace=True))\n",
    "        \n",
    "#     return boot_samp_list"
   ]
  },
  {
   "cell_type": "code",
   "execution_count": 107,
   "metadata": {},
   "outputs": [],
   "source": [
    "def bootstrap(data, num_samps=1000):\n",
    "    \n",
    "#     for i in range(num_samps):\n",
    "#         boot_samp_list.append(data.sample(frac=1, replace=True))\n",
    "        \n",
    "    return [data.sample(len(data), replace=True) for i in range(num_samps)]"
   ]
  },
  {
   "cell_type": "code",
   "execution_count": 73,
   "metadata": {},
   "outputs": [],
   "source": [
    "def bootstrap_ci(boot_samp_list, ci=95):\n",
    "    boot_strap_means = []\n",
    "    \n",
    "    for samp in boot_samp_list:\n",
    "        boot_strap_means.append(np.mean(samp))\n",
    "        \n",
    "    left_endpoint = np.percentile(boot_strap_means, (100-ci)/2)\n",
    "    right_endpoint = np.percentile(boot_strap_means, 100-((100-ci)/2))\n",
    "    \n",
    "    return left_endpoint, right_endpoint"
   ]
  },
  {
   "cell_type": "code",
   "execution_count": 116,
   "metadata": {},
   "outputs": [
    {
     "data": {
      "text/plain": [
       "(0.6365999455730497, 0.6425759730203948)"
      ]
     },
     "execution_count": 116,
     "metadata": {},
     "output_type": "execute_result"
    }
   ],
   "source": [
    "bootstrap_ci(bootstrap(less_than.diversity_ratio))"
   ]
  },
  {
   "cell_type": "code",
   "execution_count": 150,
   "metadata": {},
   "outputs": [],
   "source": [
    "less_sample_strap_list = np.array(bootstrap(less_than.diversity_ratio, 1000))\n",
    "\n",
    "less_mean_list = less_sample_strap_list.mean(axis=1) "
   ]
  },
  {
   "cell_type": "code",
   "execution_count": 145,
   "metadata": {},
   "outputs": [
    {
     "data": {
      "text/plain": [
       "0.6397169959515749"
      ]
     },
     "execution_count": 145,
     "metadata": {},
     "output_type": "execute_result"
    }
   ],
   "source": [
    "less_mean_list.mean()"
   ]
  },
  {
   "cell_type": "code",
   "execution_count": 146,
   "metadata": {},
   "outputs": [
    {
     "data": {
      "image/png": "[encoded data removed]",
      "text/plain": [
       "<Figure size 432x288 with 1 Axes>"
      ]
     },
     "metadata": {
      "needs_background": "light"
     },
     "output_type": "display_data"
    }
   ],
   "source": [
    "fig, ax = plt.subplots()\n",
    "ax.hist(less_mean_list, bins=50, density=True)\n",
    "plt.show()"
   ]
  },
  {
   "cell_type": "code",
   "execution_count": 147,
   "metadata": {},
   "outputs": [],
   "source": [
    "greater_sample_strap_list = np.array(bootstrap(greater_equal.diversity_ratio, 10000))\n",
    "\n",
    "greater_mean_list = greater_sample_strap_list.mean(axis=1) "
   ]
  },
  {
   "cell_type": "code",
   "execution_count": 148,
   "metadata": {},
   "outputs": [
    {
     "data": {
      "text/plain": [
       "0.6241598477744329"
      ]
     },
     "execution_count": 148,
     "metadata": {},
     "output_type": "execute_result"
    }
   ],
   "source": [
    "greater_mean_list.mean()\n",
    "#falls outside of left-tail confidence interval of less_than distribution"
   ]
  },
  {
   "cell_type": "code",
   "execution_count": 149,
   "metadata": {
    "scrolled": true
   },
   "outputs": [
    {
     "data": {
      "image/png": "[encoded data removed]",
      "text/plain": [
       "<Figure size 432x288 with 1 Axes>"
      ]
     },
     "metadata": {
      "needs_background": "light"
     },
     "output_type": "display_data"
    }
   ],
   "source": [
    "fig, ax = plt.subplots()\n",
    "ax.hist(greater_mean_list, bins=50, density=True)\n",
    "plt.show()"
   ]
  },
  {
   "cell_type": "code",
   "execution_count": 137,
   "metadata": {},
   "outputs": [
    {
     "data": {
      "text/plain": [
       "Ttest_indResult(statistic=25.87566351212067, pvalue=3.7906405160890515e-147)"
      ]
     },
     "execution_count": 137,
     "metadata": {},
     "output_type": "execute_result"
    }
   ],
   "source": [
    "#running t test to confirm that we can reject the null hypothesis\n",
    "stats.ttest_ind(less_mean_list, greater_mean_list)"
   ]
  },
  {
   "cell_type": "code",
   "execution_count": 138,
   "metadata": {},
   "outputs": [],
   "source": [
    "#unexpected: p-value less than 0.05, reject the null hypothesis!"
   ]
  },
  {
   "cell_type": "code",
   "execution_count": 139,
   "metadata": {},
   "outputs": [
    {
     "data": {
      "image/png": "[encoded data removed]",
      "text/plain": [
       "<Figure size 432x288 with 1 Axes>"
      ]
     },
     "metadata": {
      "needs_background": "light"
     },
     "output_type": "display_data"
    }
   ],
   "source": [
    "#trying to lay the two graphs over top one another: \n",
    "fig, ax = plt.subplots()\n",
    "ax.hist(less_mean_list, bins=50, density=True)\n",
    "ax.hist(greater_mean_list, bins=50, density=True, alpha=0.5)\n",
    "plt.show()"
   ]
  },
  {
   "cell_type": "code",
   "execution_count": null,
   "metadata": {},
   "outputs": [],
   "source": [
    "# #next steps \n",
    "# - adjust bootstrapping to try and bring sample sizes in line with one another??\n",
    "# - repeating this test with one or more different factors?\n",
    "#     - collaborative and diversity_ratio\n",
    "#     - num_tracks and follower count?\n",
    "\n",
    "# look at using bayes to make a beta distribution"
   ]
  },
  {
   "cell_type": "code",
   "execution_count": null,
   "metadata": {},
   "outputs": [],
   "source": []
  },
  {
   "cell_type": "code",
   "execution_count": null,
   "metadata": {},
   "outputs": [],
   "source": []
  },
  {
   "cell_type": "code",
   "execution_count": null,
   "metadata": {},
   "outputs": [],
   "source": []
  },
  {
   "cell_type": "code",
   "execution_count": null,
   "metadata": {},
   "outputs": [],
   "source": []
  },
  {
   "cell_type": "code",
   "execution_count": 112,
   "metadata": {
    "scrolled": false
   },
   "outputs": [
    {
     "data": {
      "image/png": "[encoded data removed]",
      "text/plain": [
       "<Figure size 432x288 with 1 Axes>"
      ]
     },
     "metadata": {
      "needs_background": "light"
     },
     "output_type": "display_data"
    }
   ],
   "source": [
    "##plotting of the wrong variable: num_followers\n",
    "\n",
    "# # less_boot_strap_means = []\n",
    "\n",
    "# # for samp in np.array(bootstrap(less_than.num_followers, 10000)):\n",
    "# #     less_boot_strap_means.append(samp.mean())\n",
    "    \n",
    "# fig, ax = plt.subplots()\n",
    "# ax.hist(less_mean_list, bins=50, density=True)\n",
    "# plt.show()\n",
    "\n",
    "# # note the y-axis"
   ]
  },
  {
   "cell_type": "code",
   "execution_count": 114,
   "metadata": {
    "scrolled": true
   },
   "outputs": [
    {
     "data": {
      "image/png": "[encoded data removed]",
      "text/plain": [
       "<Figure size 432x288 with 1 Axes>"
      ]
     },
     "metadata": {
      "needs_background": "light"
     },
     "output_type": "display_data"
    }
   ],
   "source": [
    "fig, ax = plt.subplots()\n",
    "ax.hist(greater_mean_list, bins=10000, density=True)\n",
    "plt.show()"
   ]
  },
  {
   "cell_type": "code",
   "execution_count": null,
   "metadata": {},
   "outputs": [],
   "source": []
  }
 ],
 "metadata": {
  "kernelspec": {
   "display_name": "Python 3",
   "language": "python",
   "name": "python3"
  },
  "language_info": {
   "codemirror_mode": {
    "name": "ipython",
    "version": 3
   },
   "file_extension": ".py",
   "mimetype": "text/x-python",
   "name": "python",
   "nbconvert_exporter": "python",
   "pygments_lexer": "ipython3",
   "version": "3.7.7"
  }
 },
 "nbformat": 4,
 "nbformat_minor": 5
}
